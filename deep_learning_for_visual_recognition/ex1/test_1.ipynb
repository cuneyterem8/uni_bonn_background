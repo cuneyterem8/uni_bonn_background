{
 "cells": [
  {
   "cell_type": "code",
   "execution_count": 12,
   "metadata": {},
   "outputs": [],
   "source": [
    "from load_mnist import *\n",
    "from KNNClassifier import *\n",
    "from Dataset import *\n",
    "import torch\n",
    "from collections import Counter\n",
    "from sklearn.metrics import confusion_matrix\n",
    "from sklearn.model_selection import KFold"
   ]
  },
  {
   "cell_type": "markdown",
   "metadata": {},
   "source": [
    "a) K-Nearest Neighbors (kNN) Classifier"
   ]
  },
  {
   "cell_type": "code",
   "execution_count": 13,
   "metadata": {},
   "outputs": [],
   "source": [
    "use_cuda = torch.cuda.is_available()\n",
    "device = torch.device(\"cuda:0\" if use_cuda else \"cpu\")\n",
    "torch.backends.cudnn.benchmark = True"
   ]
  },
  {
   "cell_type": "code",
   "execution_count": 14,
   "metadata": {},
   "outputs": [],
   "source": [
    "t_X_train, t_y_train = load_mnist('training',)\n",
    "t_X_test, t_y_test = load_mnist('testing',)"
   ]
  },
  {
   "cell_type": "code",
   "execution_count": 15,
   "metadata": {},
   "outputs": [],
   "source": [
    "rand_i = torch.randperm(len(t_y_train))[:1000]\n",
    "rand_j = torch.randperm(len(t_y_test))[:1000]"
   ]
  },
  {
   "cell_type": "code",
   "execution_count": 16,
   "metadata": {},
   "outputs": [],
   "source": [
    "t_X_train = t_X_train[rand_i, :, :]\n",
    "t_y_train = t_y_train[rand_i]\n",
    "t_X_test = t_X_test[rand_j, :, :]\n",
    "t_y_test = t_y_test[rand_j]"
   ]
  },
  {
   "cell_type": "code",
   "execution_count": 17,
   "metadata": {},
   "outputs": [],
   "source": [
    "def accuracy(y_test, y_pred):\n",
    "    a = torch.sum(y_test == y_pred)\n",
    "    b = len(y_test)\n",
    "    accuracy = a.item() / b\n",
    "    return accuracy"
   ]
  },
  {
   "cell_type": "code",
   "execution_count": 18,
   "metadata": {},
   "outputs": [
    {
     "name": "stdout",
     "output_type": "stream",
     "text": [
      "accuracy test1 for k = 1,  0.884\n",
      "accuracy test2 for k = 5,  0.884\n"
     ]
    }
   ],
   "source": [
    "classifier = KNNClassifier(1, t_X_train, t_y_train)\n",
    "y_pred = classifier.forward(t_X_test)\n",
    "print(\"accuracy test1 for k = 1, \", accuracy(t_y_test, y_pred))\n",
    "\n",
    "classifier2 = KNNClassifier(5, t_X_train, t_y_train)\n",
    "y_pred2 = classifier2.forward(t_X_test)\n",
    "print(\"accuracy test2 for k = 5, \", accuracy(t_y_test, y_pred2))"
   ]
  },
  {
   "cell_type": "code",
   "execution_count": 19,
   "metadata": {},
   "outputs": [
    {
     "name": "stdout",
     "output_type": "stream",
     "text": [
      "[[ 84   0   0   0   1   0   1   0   0   0]\n",
      " [  0 101   0   0   1   0   0   0   0   0]\n",
      " [  3   4  75   0   0   0   2   8   3   0]\n",
      " [  0   2   1 110   0   3   1   3   1   0]\n",
      " [  0   1   0   0  93   0   2   0   0   8]\n",
      " [  1   1   0   7   2  87   1   1   3   0]\n",
      " [  0   0   0   0   0   2  85   0   2   0]\n",
      " [  0   4   2   1   3   0   0 100   0   6]\n",
      " [  1   0   0   7   3   6   3   0  70   2]\n",
      " [  1   1   0   3   4   1   0   2   1  79]]\n",
      "[[ 84   0   0   0   1   0   1   0   0   0]\n",
      " [  0 101   0   0   1   0   0   0   0   0]\n",
      " [  3   4  75   0   0   0   2   8   3   0]\n",
      " [  0   2   1 110   0   3   1   3   1   0]\n",
      " [  0   1   0   0  93   0   2   0   0   8]\n",
      " [  1   1   0   7   2  87   1   1   3   0]\n",
      " [  0   0   0   0   0   2  85   0   2   0]\n",
      " [  0   4   2   1   3   0   0 100   0   6]\n",
      " [  1   0   0   7   3   6   3   0  70   2]\n",
      " [  1   1   0   3   4   1   0   2   1  79]]\n"
     ]
    }
   ],
   "source": [
    "c_matrix = confusion_matrix(t_y_test, y_pred)\n",
    "print(c_matrix)\n",
    "\n",
    "c_matrix2 = confusion_matrix(t_y_test, y_pred2)\n",
    "print(c_matrix2)"
   ]
  },
  {
   "cell_type": "code",
   "execution_count": 20,
   "metadata": {},
   "outputs": [],
   "source": [
    "kfold = KFold(n_splits=5)\n",
    "\n",
    "for train_index, test_index in kfold.split(t_X_train, t_y_train):  \n",
    "    f_X_train = t_X_train[train_index] \n",
    "    f_y_train = t_y_train[train_index] \n",
    "    f_X_test = t_X_test[test_index] \n",
    "    f_y_test = t_y_test[test_index] \n",
    "    break "
   ]
  },
  {
   "cell_type": "markdown",
   "metadata": {},
   "source": [
    "b) Dataloading and Preprocessing"
   ]
  },
  {
   "cell_type": "code",
   "execution_count": 21,
   "metadata": {},
   "outputs": [
    {
     "name": "stdout",
     "output_type": "stream",
     "text": [
      "mean: tensor(31.8839)\n",
      "std: tensor(79.5719)\n"
     ]
    }
   ],
   "source": [
    "dataset = Dataset(t_X_train, t_y_train)\n",
    "\n",
    "dataloader = torch.utils.data.DataLoader(dataset, batch_size=32, shuffle=True, drop_last=False)"
   ]
  },
  {
   "cell_type": "code",
   "execution_count": 25,
   "metadata": {
    "tags": []
   },
   "outputs": [
    {
     "name": "stdout",
     "output_type": "stream",
     "text": [
      "local_batch: tensor([[[0., 0., 0.,  ..., 0., 0., 0.],\n",
      "         [0., 0., 0.,  ..., 0., 0., 0.],\n",
      "         [0., 0., 0.,  ..., 0., 0., 0.],\n",
      "         ...,\n",
      "         [0., 0., 0.,  ..., 0., 0., 0.],\n",
      "         [0., 0., 0.,  ..., 0., 0., 0.],\n",
      "         [0., 0., 0.,  ..., 0., 0., 0.]],\n",
      "\n",
      "        [[0., 0., 0.,  ..., 0., 0., 0.],\n",
      "         [0., 0., 0.,  ..., 0., 0., 0.],\n",
      "         [0., 0., 0.,  ..., 0., 0., 0.],\n",
      "         ...,\n",
      "         [0., 0., 0.,  ..., 0., 0., 0.],\n",
      "         [0., 0., 0.,  ..., 0., 0., 0.],\n",
      "         [0., 0., 0.,  ..., 0., 0., 0.]],\n",
      "\n",
      "        [[0., 0., 0.,  ..., 0., 0., 0.],\n",
      "         [0., 0., 0.,  ..., 0., 0., 0.],\n",
      "         [0., 0., 0.,  ..., 0., 0., 0.],\n",
      "         ...,\n",
      "         [0., 0., 0.,  ..., 0., 0., 0.],\n",
      "         [0., 0., 0.,  ..., 0., 0., 0.],\n",
      "         [0., 0., 0.,  ..., 0., 0., 0.]],\n",
      "\n",
      "        ...,\n",
      "\n",
      "        [[0., 0., 0.,  ..., 0., 0., 0.],\n",
      "         [0., 0., 0.,  ..., 0., 0., 0.],\n",
      "         [0., 0., 0.,  ..., 0., 0., 0.],\n",
      "         ...,\n",
      "         [0., 0., 0.,  ..., 0., 0., 0.],\n",
      "         [0., 0., 0.,  ..., 0., 0., 0.],\n",
      "         [0., 0., 0.,  ..., 0., 0., 0.]],\n",
      "\n",
      "        [[0., 0., 0.,  ..., 0., 0., 0.],\n",
      "         [0., 0., 0.,  ..., 0., 0., 0.],\n",
      "         [0., 0., 0.,  ..., 0., 0., 0.],\n",
      "         ...,\n",
      "         [0., 0., 0.,  ..., 0., 0., 0.],\n",
      "         [0., 0., 0.,  ..., 0., 0., 0.],\n",
      "         [0., 0., 0.,  ..., 0., 0., 0.]],\n",
      "\n",
      "        [[0., 0., 0.,  ..., 0., 0., 0.],\n",
      "         [0., 0., 0.,  ..., 0., 0., 0.],\n",
      "         [0., 0., 0.,  ..., 0., 0., 0.],\n",
      "         ...,\n",
      "         [0., 0., 0.,  ..., 0., 0., 0.],\n",
      "         [0., 0., 0.,  ..., 0., 0., 0.],\n",
      "         [0., 0., 0.,  ..., 0., 0., 0.]]], device='cuda:0')\n",
      "local_labels: tensor([ 93,  90,  11, 127,  24,   5, 197, 137,  94,  59,  18, 134,   6, 206,\n",
      "        119, 188, 113,  33], device='cuda:0')\n"
     ]
    }
   ],
   "source": [
    "for epoch in range(5):\n",
    "    for local_batch, local_labels in dataloader:\n",
    "        # Transfer to GPU\n",
    "        local_batch, local_labels = local_batch.to(device), local_labels.to(device)\n",
    "print(str('local_batch: ') + str(local_batch))\n",
    "print(str('local_labels: ') + str(local_labels))"
   ]
  },
  {
   "cell_type": "markdown",
   "metadata": {},
   "source": [
    "c) Linear Classifier with Logistic Function"
   ]
  },
  {
   "cell_type": "code",
   "execution_count": null,
   "metadata": {},
   "outputs": [],
   "source": []
  }
 ],
 "metadata": {
  "kernelspec": {
   "display_name": "Python 3.8.5 64-bit",
   "language": "python",
   "name": "python38564bit68645b3a6ed542caadcf3f3d9d68e860"
  },
  "language_info": {
   "codemirror_mode": {
    "name": "ipython",
    "version": 3
   },
   "file_extension": ".py",
   "mimetype": "text/x-python",
   "name": "python",
   "nbconvert_exporter": "python",
   "pygments_lexer": "ipython3",
   "version": "3.8.5"
  }
 },
 "nbformat": 4,
 "nbformat_minor": 2
}
