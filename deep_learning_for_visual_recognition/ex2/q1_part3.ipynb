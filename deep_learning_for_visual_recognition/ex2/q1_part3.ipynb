{
 "metadata": {
  "language_info": {
   "codemirror_mode": {
    "name": "ipython",
    "version": 3
   },
   "file_extension": ".py",
   "mimetype": "text/x-python",
   "name": "python",
   "nbconvert_exporter": "python",
   "pygments_lexer": "ipython3",
   "version": "3.8.3-final"
  },
  "orig_nbformat": 2,
  "kernelspec": {
   "name": "python38364bittestenv2condac837ae6fc91f4a09b58a085a4be9e2e7",
   "display_name": "Python 3.8.3 64-bit ('test_env_2': conda)"
  }
 },
 "nbformat": 4,
 "nbformat_minor": 2,
 "cells": [
  {
   "source": [
    "Practical Part,\n",
    "Question 1, part3;\n",
    "\n",
    "Cüneyt Erem,\n",
    "Ulvi Shukurzade,\n",
    "Ewald Bindereif,\n",
    "Bilge Ulusay"
   ],
   "cell_type": "markdown",
   "metadata": {}
  },
  {
   "cell_type": "code",
   "execution_count": 43,
   "metadata": {},
   "outputs": [],
   "source": [
    "import torch\n",
    "import sklearn.metrics\n",
    "import matplotlib.pyplot as plt\n",
    "from load_mnist import load_mnist\n",
    "import torch.nn as nn\n",
    "import torch.nn.functional as F\n",
    "import torchvision\n",
    "import torchvision.transforms as transforms\n",
    "import numpy as np"
   ]
  },
  {
   "source": [
    "Programming Assignment parta"
   ],
   "cell_type": "markdown",
   "metadata": {}
  },
  {
   "cell_type": "code",
   "execution_count": 35,
   "metadata": {},
   "outputs": [],
   "source": [
    "class net(nn.Module):\n",
    "    def __init__(self, input_num, hidden, output, activation):\n",
    "        super(net, self).__init__()\n",
    "        self.input_num = input_num\n",
    "        self.dense1 = nn.Linear(input_num, hidden[0])\n",
    "        self.dense2 = nn.Linear(hidden[0], hidden[1])\n",
    "        self.dense3 = nn.Linear(hidden[1], output)     \n",
    "        self.identity = nn.Identity(54, unused_argument1=0.1, unused_argument2=False)\n",
    "        self.tanh = torch.nn.Tanh()\n",
    "        self.sigmoid = torch.nn.Sigmoid()\n",
    "        self.relu = torch.nn.ReLU()\n",
    "        self.leaky_relu = nn.LeakyReLU(0.1)\n",
    "        self.activation = activation\n",
    "    \n",
    "    def forward(self, x):\n",
    "        x = x.view(x.size(0), self.input_num)\n",
    "        x = self.dense1(x)\n",
    "        if self.activation == 'identity':\n",
    "            x = self.identity\n",
    "        elif self.activation == 'tanh':\n",
    "            x = self.tanh\n",
    "        elif self.activation == 'sigmoid':\n",
    "            x = self.sigmoid\n",
    "        elif self.activation == 'relu':\n",
    "            x = self.relu\n",
    "        elif self.activation == 'leaky_relu':\n",
    "            x = self.leaky_relu\n",
    "        elif self.activation == 'swish':\n",
    "            x = swish(x, 0.1)\n",
    "        x = self.dense2(x)\n",
    "        if self.activation == 'identity':\n",
    "            x = self.identity\n",
    "        elif self.activation == 'tanh':\n",
    "            x = self.tanh\n",
    "        elif self.activation == 'sigmoid':\n",
    "            x = self.sigmoid\n",
    "        elif self.activation == 'relu':\n",
    "            x = self.relu\n",
    "        elif self.activation == 'leaky_relu':\n",
    "            x = self.leaky_relu\n",
    "        elif self.activation == 'swish':\n",
    "            x = swish(x, 0.1)\n",
    "        x = self.dense3(x)\n",
    "        return x"
   ]
  },
  {
   "source": [
    "part c: swish"
   ],
   "cell_type": "markdown",
   "metadata": {}
  },
  {
   "cell_type": "code",
   "execution_count": 29,
   "metadata": {},
   "outputs": [],
   "source": [
    "def swish(x, beta):\n",
    "    return x/(1 + exp(-beta*x))\n",
    "\n",
    "def swish_derivative(x, beta):\n",
    "    beta*swish(x, beta) + 1/(1 + exp(-beta*x))*(1-beta*swish(x, beta))"
   ]
  },
  {
   "source": [
    "part d and cross validation for k fold = 5"
   ],
   "cell_type": "markdown",
   "metadata": {}
  },
  {
   "cell_type": "code",
   "execution_count": 41,
   "metadata": {},
   "outputs": [],
   "source": [
    "def accuracy(y_test, y_pred):\n",
    "    a = torch.sum(y_test == y_pred)\n",
    "    b = len(y_test)\n",
    "    accuracy = a.item() /b\n",
    "    return accuracy\n",
    "\n",
    "def crossValidation(images, labels, k, activation):\n",
    "    mean = 0\n",
    "    indice = torch.randint(0, 1000, (1000,))\n",
    "    fold = torch.chunk(indice, 5, dim=0)\n",
    "    train_fold = []\n",
    "    test_fold = []\n",
    "    train_indice = []\n",
    "    test_indice = []\n",
    "    accuracy_rate = 0\n",
    "    for i in range(5):\n",
    "        if i != 4:\n",
    "            train_fold.append(fold[i])\n",
    "            train_indice = torch.cat(train_fold, dim=0)\n",
    "        elif i == 4:\n",
    "            test_fold.append(fold[i])\n",
    "            test_indice = torch.cat(test_fold, dim=0)\n",
    "        train_image_fold = images[train_indice]\n",
    "        train_label_fold = labels[train_indice]\n",
    "        test_image_fold = images[test_indice]\n",
    "        test_label_fold = labels[test_indice]\n",
    "        optimizer.zero_grad()\n",
    "        if activation == 'identity':\n",
    "            predictions = model(test_image_fold, activation='identity')\n",
    "        elif activation == 'tanh':\n",
    "            predictions = model(test_image_fold, activation='tanh')\n",
    "        elif activation == 'sigmoid':\n",
    "            predictions = model(test_image_fold, activation='sigmoid')\n",
    "        elif activation == 'relu':\n",
    "            predictions = model(test_image_fold, activation='relu')\n",
    "        elif activation == 'leaky_relu':\n",
    "            predictions = model(test_image_fold, activation='leaky_relu')\n",
    "        elif activation == 'swish':\n",
    "            predictions = model(test_image_fold, activation='swish')\n",
    "        accuracy_rate += accuracy(predictions, test_label_fold)/5\n",
    "    return accuracy_rate"
   ]
  },
  {
   "source": [
    "test: part b and d"
   ],
   "cell_type": "markdown",
   "metadata": {}
  },
  {
   "cell_type": "code",
   "execution_count": 34,
   "metadata": {},
   "outputs": [
    {
     "output_type": "stream",
     "name": "stdout",
     "text": [
      "\n"
     ]
    }
   ],
   "source": [
    "if __name__ == \"__main__\":\n",
    "    train_dataset = torchvision.datasets.FashionMNIST(root='./data_fashionmnist', train=True, download=True, transform = transforms.ToTensor())\n",
    "    test_dataset = torchvision.datasets.FashionMNIST(root='./data_fashionmnist', train=False, download=True, transform = transforms.ToTensor())\n",
    "\n",
    "    train_loader = torch.utils.data.DataLoader(train_dataset, batch_size = 64, shuffle = True)\n",
    "    test_loader = torch.utils.data.DataLoader(test_dataset, batch_size = 64, shuffle = False)\n",
    "    activation_set = ['identity', 'tanh', 'sigmoid', 'relu', 'leaky_relu', 'swish']\n",
    "    activation = activation_set[np.random.randint(6)]\n",
    "    DEVICE = torch.device('cuda')\n",
    "    model = net(28*28, (50, 20), 10, activation).to(DEVICE)\n",
    "    criterion = nn.CrossEntropyLoss()\n",
    "    optimizer = torch.optim.SGD(model.parameters(), lr = 0.01)\n",
    "\n",
    "    for image_train, label_train in train_loader:\n",
    "        image_train = image_train.float().to(DEVICE)\n",
    "        label_train = label_train.to(DEVICE)\n",
    "        optimizer.zero_grad()\n",
    "        output_label = model(image_train)\n",
    "        loss = criterion(output_label, label_train)\n",
    "        loss.backward()\n",
    "        optimizer.step()\n",
    "\n",
    "    accuracy = crossValidation(image_train, label_train, 5, activation)\n",
    "    print('5-fold cross validation: {}, accuracy: {}'.format(5, accuracy))"
   ]
  },
  {
   "cell_type": "code",
   "execution_count": 99,
   "metadata": {},
   "outputs": [
    {
     "output_type": "stream",
     "name": "stdout",
     "text": [
      "this run method gives an error\n"
     ]
    }
   ],
   "source": [
    "print('this run method gives an error')"
   ]
  },
  {
   "source": [
    "This run part has some problems that we could not fix, it it was running correctly, then we would take tru prediction and test images comparison resul for k-fold, then we can give it to the MLP model with using different transfer function parameters. "
   ],
   "cell_type": "markdown",
   "metadata": {}
  }
 ]
}