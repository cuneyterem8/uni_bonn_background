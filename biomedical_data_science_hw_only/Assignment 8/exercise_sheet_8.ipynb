{
 "cells": [
  {
   "cell_type": "markdown",
   "id": "22c8698e",
   "metadata": {},
   "source": [
    "## Exercise sheet 8\n",
    "\n",
    "Cüneyt Erem\n",
    "3277992\n",
    "s6cuerem@uni-bonn.de\n",
    "\n",
    "Nkeh Victor Ndiwago\n",
    "3504121\n",
    "s0vinkeh@uni-bonn.de\n",
    "\n",
    "Paula Romero Jiménez\n",
    "3320220\n",
    "s0parome@uni-bonn.de"
   ]
  },
  {
   "cell_type": "markdown",
   "id": "dbc6e56c",
   "metadata": {},
   "source": [
    "--------------------------------"
   ]
  },
  {
   "cell_type": "markdown",
   "id": "8d6e347f",
   "metadata": {},
   "source": [
    "Exercise 1\n",
    "\n",
    "Decision Trees (4P)"
   ]
  },
  {
   "cell_type": "markdown",
   "id": "8c691e21",
   "metadata": {},
   "source": [
    "1) What does the Gini index measure? Calculate the Gini index (without coding) for all three cases. (2P)"
   ]
  },
  {
   "cell_type": "markdown",
   "id": "bfdf15ea",
   "metadata": {},
   "source": [
    " Gini index also known as Gini impurity measures the degree or probability of a particular variable being wrongly classified when it is chosen at random. "
   ]
  },
  {
   "cell_type": "markdown",
   "id": "f3280356",
   "metadata": {},
   "source": [
    " Gini index run1=[1*(1-1) +0*(1-0)]*0.5 + [0*(1-0) + 1*(1-1)]*0.5 = 0 \n",
    " \n",
    " Gini index run2=[0.5*(1-0.5) + 0.5*(1-0.5)]*0.5 + [0.5*(1-0.5) + 0.5*(1-0.5)]*0.5 = 0.5\n",
    " \n",
    " \n",
    " Gini index run3=[1*(1-1) + 0*(1-0)]*0.5 + [1*(1-1) + 0*(1-0)]*0.5 = 0 "
   ]
  },
  {
   "cell_type": "markdown",
   "id": "7ef80437",
   "metadata": {},
   "source": [
    "2. Explain the advantages and disadvantages of Decision Trees. What is a strategy to overcome the limitations? (2P)"
   ]
  },
  {
   "cell_type": "markdown",
   "id": "f11f3793",
   "metadata": {},
   "source": [
    "Advantages:\n",
    "    \n",
    "   .clear visualization and interpretation:The algorithm is easy to understand,interpret and visualize as the idea is mostly used in our daily lives.\n",
    "   \n",
    "   .It can be used for both classification and regression problems.\n",
    "   \n",
    "   . It can handle both continuous and categorical variables.\n",
    "   \n",
    "   . No feature scaling is required(Standardization and Normalization):it uses the rule based approach instead of calculation.\n",
    "   \n",
    "   . decision trees automatically handle missing values and outliers.\n",
    "   \n",
    "Disadvantages:\n",
    "   \n",
    "   .Overfitting: This is the main problem of the decision tree and as a result leads to wrong predictions.inorder to fit the data(even noisy data), it keeps generating new nodesand as a result the tree becomes too complex to interpret, there by loosing its generalization ability.consequently it will perform very well on the trained data but starts making alot of mistakes on the unseen data.\n",
    "   \n",
    "   .Not suitable for large datasets:If data size is large, then one single tree may grow complex and lead to overfitting. in such situations Random Frest is recommended .\n",
    "  \n",
    " Strategey to overcome limitation:\n",
    " \n",
    "  .Inorder to overcome the limitations of tyhe decision tree tree, we use Random Forest which does not rely on a single tree. It creates a Forest of trees and takes the decision based on vote count. "
   ]
  },
  {
   "cell_type": "markdown",
   "id": "80804de8",
   "metadata": {},
   "source": [
    "Exercise 2\n",
    "\n",
    "Random Forests and Boosting (10P)"
   ]
  },
  {
   "cell_type": "markdown",
   "id": "cc3cb0c0",
   "metadata": {},
   "source": [
    "1. Explain in your own words, why random forests yield a variance reduction compared to a single  decision tree. (2P)"
   ]
  },
  {
   "cell_type": "markdown",
   "id": "4b47111c",
   "metadata": {},
   "source": [
    "Random Forest uses fully grown decision trees with low bias and high variance. It reduces error by reducing variance. the trees are made uncorrelated to maximise  decrease in variance. in other words Bagging(averaging predictions from lots of trees) and Random Forest use these high variance models and aggregate them in order to reduce variance and enhance prediction accuracy. "
   ]
  },
  {
   "cell_type": "markdown",
   "id": "463f54a4",
   "metadata": {},
   "source": [
    "3) Below is a table to contrast three different methods. Replace the “?” in the Variance/Bias columns with “high” or “low” and give statistical explanations on each decision. (3P)"
   ]
  },
  {
   "cell_type": "markdown",
   "id": "83e77dd0",
   "metadata": {},
   "source": [
    "| Method     | Variance | Bias | Explanation |\n",
    "| ----------- | ----------- | ----------- | ----------- |\n",
    "| A single decision tree | high | low | A decision tree has low bias but high variance because it can easily change as small change in input variable.it does not generalize the pattern well. it works well only for the training data but leads to overfitting|\n",
    "| A single decision tree vs. random forest | high vs. low | low vs. high |Bagging and Random Forest use these high variance models and aggregate them in order to reduce variance and enhance prediction accuracy. both Bagging and random forest use Bootstrap sampling which increases bias in the single tree.also the random forest limits the allowed variables to split at each node there by increasing bias for single random forest trees.to conclude if the increase in bias of of the single trees in bagging and RF is not outweighing the variance reduction then the prediction accuracy will increase. |\n",
    "| A single decision tree vs. (gradient) boosted decision trees | high vs. low | high vs low | boosting reduces error by reducing bias and also Variance is reduced in gradient boosted decision trees by simply aggregating the output from many models. |"
   ]
  },
  {
   "cell_type": "markdown",
   "id": "34edfb40",
   "metadata": {},
   "source": [
    "4. Differences between Random Forests and gradient boosting: (2P)"
   ]
  },
  {
   "cell_type": "markdown",
   "id": "490a26fd",
   "metadata": {},
   "source": [
    ". In gradient boosting, training is done sequentially one tree at a time each new tree is built to improve on or correct the errors of the previous one while in Random Forest each decision treee is build and calculated independently.\n",
    "\n",
    ".In Random Forest, the results of the decision trees are agreegated at the end of the process.while in Gradient Boosting, the results of each decision tree  are aggregated along the way to calculate the final result at the end of the process. "
   ]
  },
  {
   "cell_type": "markdown",
   "id": "05e052d8",
   "metadata": {},
   "source": [
    " Which approach usually trains faster? Why?"
   ]
  },
  {
   "cell_type": "markdown",
   "id": "897890e1",
   "metadata": {},
   "source": [
    "Random Forest trains faster than gradient boosting,because it works only on a subset of features so it can easily work with hundreds of features .it is worth noting that Random Forest is good for high dimensional data."
   ]
  },
  {
   "cell_type": "markdown",
   "id": "98d2e16c",
   "metadata": {},
   "source": [
    " Which one is more prone to overfitting? Why?\n",
    " \n",
    "  Gradient Boosting is more prone to overfitting,because when the depth of trees increases,the model is likely going to overfit the training data.Also increasing the number of gradient boosting iterations increases overfitting."
   ]
  },
  {
   "cell_type": "markdown",
   "id": "5334dcc3",
   "metadata": {},
   "source": [
    "5. True or False for tree-based methods? Explain your answer. (3P) \n",
    "    "
   ]
  },
  {
   "cell_type": "markdown",
   "id": "fb417959",
   "metadata": {},
   "source": [
    ".Features need to be standardized?\n",
    "\n",
    "   False, because they are not sensitive to Variance\n",
    "   \n",
    ".Only suited for continuous variables?\n",
    "\n",
    "  False, Tree-based methods are suited both for categorical variables and continuous variables.the problem with continuous variables is that they can have more than one value, or a spectrum of values, and as a result in predictive analysis, calculations calcul;ations rapidly grow big and complex.\n",
    "  \n",
    " .Deeper trees yield better ensemble models?\n",
    " \n",
    "  True, because deeper trees reduces bias though another problem of large variance arises which is overcomed by Bagging(Bootstrap Aggregation)\n"
   ]
  },
  {
   "cell_type": "markdown",
   "id": "a9393632",
   "metadata": {},
   "source": [
    "--------------------------------"
   ]
  },
  {
   "cell_type": "markdown",
   "id": "d630ef6b",
   "metadata": {},
   "source": [
    "### Exercise 3\n",
    "\n",
    "### Programming Task – Random Forest (8P)"
   ]
  },
  {
   "cell_type": "code",
   "execution_count": 1,
   "id": "f5342fcb",
   "metadata": {},
   "outputs": [],
   "source": [
    "import numpy as np\n",
    "import pandas as pd"
   ]
  },
  {
   "cell_type": "markdown",
   "id": "95723a48",
   "metadata": {},
   "source": [
    "**1. Load the provided Cleveland subset onto your Notebook (file name: processed.cleveland_cleaned.data). Note that this dataset is prepared explicitly for this exercise and might differ from the original version. (1P)**"
   ]
  },
  {
   "cell_type": "code",
   "execution_count": 2,
   "id": "d0628b86",
   "metadata": {},
   "outputs": [
    {
     "data": {
      "text/html": [
       "<div>\n",
       "<style scoped>\n",
       "    .dataframe tbody tr th:only-of-type {\n",
       "        vertical-align: middle;\n",
       "    }\n",
       "\n",
       "    .dataframe tbody tr th {\n",
       "        vertical-align: top;\n",
       "    }\n",
       "\n",
       "    .dataframe thead th {\n",
       "        text-align: right;\n",
       "    }\n",
       "</style>\n",
       "<table border=\"1\" class=\"dataframe\">\n",
       "  <thead>\n",
       "    <tr style=\"text-align: right;\">\n",
       "      <th></th>\n",
       "      <th>age</th>\n",
       "      <th>sex</th>\n",
       "      <th>cp</th>\n",
       "      <th>trestbps</th>\n",
       "      <th>chol</th>\n",
       "      <th>fbs</th>\n",
       "      <th>restecg</th>\n",
       "      <th>thalach</th>\n",
       "      <th>exang</th>\n",
       "      <th>oldpeak</th>\n",
       "      <th>slope</th>\n",
       "      <th>ca</th>\n",
       "      <th>thal</th>\n",
       "      <th>num</th>\n",
       "    </tr>\n",
       "  </thead>\n",
       "  <tbody>\n",
       "    <tr>\n",
       "      <th>0</th>\n",
       "      <td>63.0</td>\n",
       "      <td>1.0</td>\n",
       "      <td>1.0</td>\n",
       "      <td>145.0</td>\n",
       "      <td>233.0</td>\n",
       "      <td>1.0</td>\n",
       "      <td>2.0</td>\n",
       "      <td>150.0</td>\n",
       "      <td>0.0</td>\n",
       "      <td>2.3</td>\n",
       "      <td>3.0</td>\n",
       "      <td>0.0</td>\n",
       "      <td>6.0</td>\n",
       "      <td>0</td>\n",
       "    </tr>\n",
       "    <tr>\n",
       "      <th>1</th>\n",
       "      <td>67.0</td>\n",
       "      <td>1.0</td>\n",
       "      <td>4.0</td>\n",
       "      <td>160.0</td>\n",
       "      <td>286.0</td>\n",
       "      <td>0.0</td>\n",
       "      <td>2.0</td>\n",
       "      <td>108.0</td>\n",
       "      <td>1.0</td>\n",
       "      <td>1.5</td>\n",
       "      <td>2.0</td>\n",
       "      <td>3.0</td>\n",
       "      <td>3.0</td>\n",
       "      <td>2</td>\n",
       "    </tr>\n",
       "    <tr>\n",
       "      <th>2</th>\n",
       "      <td>67.0</td>\n",
       "      <td>1.0</td>\n",
       "      <td>4.0</td>\n",
       "      <td>120.0</td>\n",
       "      <td>229.0</td>\n",
       "      <td>0.0</td>\n",
       "      <td>2.0</td>\n",
       "      <td>129.0</td>\n",
       "      <td>1.0</td>\n",
       "      <td>2.6</td>\n",
       "      <td>2.0</td>\n",
       "      <td>2.0</td>\n",
       "      <td>7.0</td>\n",
       "      <td>1</td>\n",
       "    </tr>\n",
       "    <tr>\n",
       "      <th>3</th>\n",
       "      <td>37.0</td>\n",
       "      <td>1.0</td>\n",
       "      <td>3.0</td>\n",
       "      <td>130.0</td>\n",
       "      <td>250.0</td>\n",
       "      <td>0.0</td>\n",
       "      <td>0.0</td>\n",
       "      <td>187.0</td>\n",
       "      <td>0.0</td>\n",
       "      <td>3.5</td>\n",
       "      <td>3.0</td>\n",
       "      <td>0.0</td>\n",
       "      <td>3.0</td>\n",
       "      <td>0</td>\n",
       "    </tr>\n",
       "    <tr>\n",
       "      <th>4</th>\n",
       "      <td>41.0</td>\n",
       "      <td>0.0</td>\n",
       "      <td>2.0</td>\n",
       "      <td>130.0</td>\n",
       "      <td>204.0</td>\n",
       "      <td>0.0</td>\n",
       "      <td>2.0</td>\n",
       "      <td>172.0</td>\n",
       "      <td>0.0</td>\n",
       "      <td>1.4</td>\n",
       "      <td>1.0</td>\n",
       "      <td>0.0</td>\n",
       "      <td>3.0</td>\n",
       "      <td>0</td>\n",
       "    </tr>\n",
       "  </tbody>\n",
       "</table>\n",
       "</div>"
      ],
      "text/plain": [
       "    age  sex   cp  trestbps   chol  fbs  restecg  thalach  exang  oldpeak  \\\n",
       "0  63.0  1.0  1.0     145.0  233.0  1.0      2.0    150.0    0.0      2.3   \n",
       "1  67.0  1.0  4.0     160.0  286.0  0.0      2.0    108.0    1.0      1.5   \n",
       "2  67.0  1.0  4.0     120.0  229.0  0.0      2.0    129.0    1.0      2.6   \n",
       "3  37.0  1.0  3.0     130.0  250.0  0.0      0.0    187.0    0.0      3.5   \n",
       "4  41.0  0.0  2.0     130.0  204.0  0.0      2.0    172.0    0.0      1.4   \n",
       "\n",
       "   slope   ca  thal  num  \n",
       "0    3.0  0.0   6.0    0  \n",
       "1    2.0  3.0   3.0    2  \n",
       "2    2.0  2.0   7.0    1  \n",
       "3    3.0  0.0   3.0    0  \n",
       "4    1.0  0.0   3.0    0  "
      ]
     },
     "execution_count": 2,
     "metadata": {},
     "output_type": "execute_result"
    }
   ],
   "source": [
    "dataset = pd.read_csv('processed.cleveland_cleaned.data')\n",
    "dataset.head()"
   ]
  },
  {
   "cell_type": "markdown",
   "id": "2c32b8a0",
   "metadata": {},
   "source": [
    "**2. Make the column “num” as the target variable and the rest of the columns as the input variables. Split the dataset into 80% train and 20% test sets using the Sklearn train_test_split() function. Set random_state for reproducibility. (1P)**"
   ]
  },
  {
   "cell_type": "code",
   "execution_count": 3,
   "id": "73451183",
   "metadata": {},
   "outputs": [],
   "source": [
    "# Divide the dataframe into target and rest\n",
    "features = dataset.drop(['num'], axis=1) \n",
    "target = dataset['num']"
   ]
  },
  {
   "cell_type": "code",
   "execution_count": 4,
   "id": "3e750f0c",
   "metadata": {},
   "outputs": [],
   "source": [
    "from sklearn.model_selection import train_test_split\n",
    "\n",
    "# Divide the dataset into 80% training and 20% test\n",
    "X_train, X_test, y_train, y_test = train_test_split(features, target, test_size=0.20, random_state=6)"
   ]
  },
  {
   "cell_type": "markdown",
   "id": "0007f959",
   "metadata": {},
   "source": [
    "**3. Define a random forest classifier. Define a 3-fold cross-validation for the dataset using the Sklearn KFold() function. Remember to enable order shuffling of the dataset. (1P)**"
   ]
  },
  {
   "cell_type": "code",
   "execution_count": 5,
   "id": "c02cedcb",
   "metadata": {},
   "outputs": [
    {
     "data": {
      "text/plain": [
       "RandomForestClassifier(random_state=6)"
      ]
     },
     "execution_count": 5,
     "metadata": {},
     "output_type": "execute_result"
    }
   ],
   "source": [
    "from sklearn.ensemble import RandomForestClassifier\n",
    "\n",
    "# Define the random forest classifier.\n",
    "clf = RandomForestClassifier(random_state=6)\n",
    "clf.fit(X_train, y_train)"
   ]
  },
  {
   "cell_type": "code",
   "execution_count": 6,
   "id": "c8eacddd",
   "metadata": {},
   "outputs": [
    {
     "name": "stdout",
     "output_type": "stream",
     "text": [
      "Accuracy: 0.6333333333333333\n"
     ]
    }
   ],
   "source": [
    "from sklearn import metrics\n",
    "\n",
    "# Model Accuracy, how often is the classifier correct?\n",
    "y_pred=clf.predict(X_test)\n",
    "print(\"Accuracy:\",metrics.accuracy_score(y_test, y_pred))"
   ]
  },
  {
   "cell_type": "code",
   "execution_count": 7,
   "id": "5105c1cc",
   "metadata": {},
   "outputs": [],
   "source": [
    "from sklearn.model_selection import KFold\n",
    "\n",
    "# Define the KFold cross validation\n",
    "cv = KFold(n_splits=3, random_state=6, shuffle=True)"
   ]
  },
  {
   "cell_type": "markdown",
   "id": "c953a8d5",
   "metadata": {},
   "source": [
    "**4. Perform grid search hyperparameter optimization on the random forest classifier using the training set with these hyperparameters ranges:**\n",
    "- a. Number of estimators: 50, 100, 200, 500, 1000\n",
    "- b. Criterion: gini, entropy\n",
    "- c. Maximum tree depth: None, 10, 50\n",
    "\n",
    "**Supply the grid search function with the defined estimator, hyperparameter ranges, and folds. Make “accuracy” as the scoring function. What is the best value for each hyperparameter? What is the best accuracy score obtained? (1P)**"
   ]
  },
  {
   "cell_type": "code",
   "execution_count": 8,
   "id": "d3d50d21",
   "metadata": {},
   "outputs": [],
   "source": [
    "from sklearn.model_selection import GridSearchCV\n",
    "\n",
    "# Create the parameter grid  \n",
    "param_grid = {\n",
    "    'max_depth': [None, 10, 50],\n",
    "    'n_estimators': [50, 100, 200, 500, 1000],\n",
    "    'criterion': ['gini','entropy']\n",
    "}\n",
    "\n",
    "# Define the grid search CV\n",
    "search = GridSearchCV(estimator = clf, param_grid = param_grid, cv = cv, n_jobs = -1, verbose = 2, scoring='accuracy')"
   ]
  },
  {
   "cell_type": "code",
   "execution_count": 9,
   "id": "8f932ce4",
   "metadata": {},
   "outputs": [
    {
     "name": "stdout",
     "output_type": "stream",
     "text": [
      "Fitting 3 folds for each of 30 candidates, totalling 90 fits\n"
     ]
    }
   ],
   "source": [
    "# Execute the search\n",
    "result = search.fit(X_train, y_train)"
   ]
  },
  {
   "cell_type": "code",
   "execution_count": 10,
   "id": "4f1c3ac4",
   "metadata": {},
   "outputs": [
    {
     "name": "stdout",
     "output_type": "stream",
     "text": [
      "Best Score: 0.5822784810126582\n",
      "Best Hyperparameters: {'criterion': 'gini', 'max_depth': 10, 'n_estimators': 50}\n"
     ]
    }
   ],
   "source": [
    "# Best value for each hyperparameter and best accuracy score\n",
    "print('Best Score: %s' % result.best_score_)\n",
    "print('Best Hyperparameters: %s' % result.best_params_)"
   ]
  },
  {
   "cell_type": "markdown",
   "id": "983ff223",
   "metadata": {},
   "source": [
    "--------------------------------"
   ]
  },
  {
   "cell_type": "markdown",
   "id": "acd51546",
   "metadata": {},
   "source": [
    "5. Taking the best values of hyperparameters from (4), get the cross-validation score of the random forest classifier using the Sklearn cross_val_score() function. What is the mean crossvalidated accuracy score? (1P)"
   ]
  },
  {
   "cell_type": "code",
   "execution_count": 16,
   "id": "acd7b5fa",
   "metadata": {},
   "outputs": [
    {
     "name": "stdout",
     "output_type": "stream",
     "text": [
      "Accuracy: 0.570 (0.037)\n"
     ]
    }
   ],
   "source": [
    "from sklearn.model_selection import cross_val_score\n",
    "from numpy import mean\n",
    "from numpy import std\n",
    "\n",
    "scores = cross_val_score(result, X_train, y_train, scoring='accuracy', cv=cv, n_jobs=-1)\n",
    "\n",
    "print('Accuracy: %.3f (%.3f)' % (mean(scores), std(scores)))"
   ]
  },
  {
   "cell_type": "markdown",
   "id": "25c1a3d0",
   "metadata": {},
   "source": [
    "6. Evaluate the trained model with test set using the Sklearn classification_report() function. Explain the difference between the accuracy and the f1-score. (1P)"
   ]
  },
  {
   "cell_type": "code",
   "execution_count": 18,
   "id": "cdf9d318",
   "metadata": {},
   "outputs": [
    {
     "name": "stdout",
     "output_type": "stream",
     "text": [
      "              precision    recall  f1-score   support\n",
      "\n",
      "           0       0.78      1.00      0.88        36\n",
      "           1       0.00      0.00      0.00         9\n",
      "           2       0.22      0.22      0.22         9\n",
      "           3       0.00      0.00      0.00         5\n",
      "           4       0.00      0.00      0.00         1\n",
      "\n",
      "    accuracy                           0.63        60\n",
      "   macro avg       0.20      0.24      0.22        60\n",
      "weighted avg       0.50      0.63      0.56        60\n",
      "\n"
     ]
    },
    {
     "name": "stderr",
     "output_type": "stream",
     "text": [
      "/home/cuneyt/.local/lib/python3.8/site-packages/sklearn/metrics/_classification.py:1308: UndefinedMetricWarning: Precision and F-score are ill-defined and being set to 0.0 in labels with no predicted samples. Use `zero_division` parameter to control this behavior.\n",
      "  _warn_prf(average, modifier, msg_start, len(result))\n",
      "/home/cuneyt/.local/lib/python3.8/site-packages/sklearn/metrics/_classification.py:1308: UndefinedMetricWarning: Precision and F-score are ill-defined and being set to 0.0 in labels with no predicted samples. Use `zero_division` parameter to control this behavior.\n",
      "  _warn_prf(average, modifier, msg_start, len(result))\n",
      "/home/cuneyt/.local/lib/python3.8/site-packages/sklearn/metrics/_classification.py:1308: UndefinedMetricWarning: Precision and F-score are ill-defined and being set to 0.0 in labels with no predicted samples. Use `zero_division` parameter to control this behavior.\n",
      "  _warn_prf(average, modifier, msg_start, len(result))\n"
     ]
    }
   ],
   "source": [
    "from sklearn.metrics import classification_report\n",
    "\n",
    "print(classification_report(y_test, y_pred))"
   ]
  },
  {
   "cell_type": "markdown",
   "id": "c6830a37",
   "metadata": {},
   "source": [
    "accuracy is 0.63, highest f1-score is element 0 with 0.88"
   ]
  },
  {
   "cell_type": "markdown",
   "id": "a51ccb51",
   "metadata": {},
   "source": [
    "F1 Score is the weighted average of Precision and Recall so it considers false positives and false negatives. Accuracy calculates a ratio of correctly predicted observation to the total observations. Therefore F1 is more useful than accuracy\n",
    "\n",
    "Accuracy = TP+TN/TP+FP+FN+TN\n",
    "\n",
    "Precision = TP/TP+FP\n",
    "\n",
    "Recall = TP/TP+FN\n",
    "\n",
    "F1 Score = 2*(Recall * Precision) / (Recall + Precision)\n",
    "\n"
   ]
  },
  {
   "cell_type": "markdown",
   "id": "8b6aa6d0",
   "metadata": {},
   "source": [
    "7. Obtain the feature importance of the model using the .feature_importance_ method of the model itself. Which feature contributes the most to the classification? (1P)"
   ]
  },
  {
   "cell_type": "code",
   "execution_count": 45,
   "id": "4f179e84",
   "metadata": {},
   "outputs": [
    {
     "name": "stdout",
     "output_type": "stream",
     "text": [
      "[0.10895828 0.02794171 0.06855011 0.09099511 0.1130698  0.01322721\n",
      " 0.0326378  0.14667175 0.04251345 0.11917888 0.04691327 0.0995931\n",
      " 0.08974954] \n",
      "\n",
      "[0.03524257 0.02085097 0.03828257 0.03193676 0.03931946 0.01229494\n",
      " 0.01772846 0.05045822 0.0294863  0.04239955 0.02785394 0.03783187\n",
      " 0.0466883 ]\n"
     ]
    }
   ],
   "source": [
    "import time\n",
    "import numpy as np\n",
    "\n",
    "importances = clf.feature_importances_\n",
    "\n",
    "mean = np.mean([tree.feature_importances_ for tree in clf.estimators_], axis=0)\n",
    "print(mean, '\\n')\n",
    "\n",
    "std = np.std([tree.feature_importances_ for tree in clf.estimators_], axis=0)\n",
    "print(std)"
   ]
  },
  {
   "cell_type": "code",
   "execution_count": 40,
   "id": "d50a936b",
   "metadata": {},
   "outputs": [
    {
     "data": {
      "image/png": "[encoded data removed]",
      "text/plain": [
       "<Figure size 432x288 with 1 Axes>"
      ]
     },
     "metadata": {
      "needs_background": "light"
     },
     "output_type": "display_data"
    }
   ],
   "source": [
    "import pandas as pd\n",
    "import matplotlib.pyplot as plt\n",
    "\n",
    "forest_importances = pd.Series(importances, index=features.columns)\n",
    "\n",
    "fig, ax = plt.subplots()\n",
    "forest_importances.plot.bar(yerr=std, ax=ax)\n",
    "ax.set_title(\"MDI feature importances\")\n",
    "ax.set_ylabel(\"Mean\")\n",
    "fig.tight_layout()"
   ]
  },
  {
   "cell_type": "markdown",
   "id": "e60e39a3",
   "metadata": {},
   "source": [
    "thalach has most higher importance value"
   ]
  },
  {
   "cell_type": "markdown",
   "id": "8703eb60",
   "metadata": {},
   "source": [
    "8. Obtain feature importance of the model using the Sklearn permutation_importance() function. Set “repeat” to 10 times. Display the mean and standard deviation of each feature’s importance value. Do you notice any difference between the outcome of (7) and (8)? (1P)"
   ]
  },
  {
   "cell_type": "code",
   "execution_count": 42,
   "id": "d4cb836d",
   "metadata": {},
   "outputs": [
    {
     "name": "stdout",
     "output_type": "stream",
     "text": [
      "[0.03881857 0.01097046 0.05400844 0.01012658 0.01687764 0.00421941\n",
      " 0.         0.05738397 0.02109705 0.04978903 0.02151899 0.08691983\n",
      " 0.08649789]\n",
      "\n",
      "[0.00901019 0.00506329 0.01144697 0.00206708 0.00730823 0.\n",
      " 0.         0.00965867 0.00680359 0.00725935 0.00295359 0.00782584\n",
      " 0.01182188]\n"
     ]
    }
   ],
   "source": [
    "from sklearn.inspection import permutation_importance\n",
    "\n",
    "result = permutation_importance(clf, X_train, y_train, n_repeats=10, random_state=0)\n",
    "\n",
    "print(result.importances_mean)\n",
    "print()\n",
    "print(result.importances_std)"
   ]
  },
  {
   "cell_type": "markdown",
   "id": "97842f10",
   "metadata": {},
   "source": [
    "mean and std values are more lower ın (8) than in (7)"
   ]
  },
  {
   "cell_type": "markdown",
   "id": "35d40b6b",
   "metadata": {},
   "source": [
    "---------------------------------"
   ]
  }
 ],
 "metadata": {
  "interpreter": {
   "hash": "916dbcbb3f70747c44a77c7bcd40155683ae19c65e1c03b4aa3499c5328201f1"
  },
  "kernelspec": {
   "display_name": "Python 3.8.10 64-bit",
   "language": "python",
   "name": "python3"
  },
  "language_info": {
   "codemirror_mode": {
    "name": "ipython",
    "version": 3
   },
   "file_extension": ".py",
   "mimetype": "text/x-python",
   "name": "python",
   "nbconvert_exporter": "python",
   "pygments_lexer": "ipython3",
   "version": "3.8.10"
  }
 },
 "nbformat": 4,
 "nbformat_minor": 5
}
