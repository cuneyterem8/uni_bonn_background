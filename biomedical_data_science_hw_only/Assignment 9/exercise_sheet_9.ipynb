{
 "cells": [
  {
   "cell_type": "markdown",
   "id": "87be8987",
   "metadata": {},
   "source": [
    "Cuneyt Erem 3277992 s6curem@uni-bonn.de\n",
    "\n",
    "Paula Romero Jimenez 3320220 s0parome@uni-bonn.de\n",
    " \n",
    "Nkeh Victor Ndiwago 3504121 s0vinkeh@uni-bonn.de"
   ]
  },
  {
   "cell_type": "markdown",
   "id": "fe6609ea",
   "metadata": {},
   "source": [
    "## Exercise sheet 9"
   ]
  },
  {
   "cell_type": "markdown",
   "id": "4a35d388",
   "metadata": {},
   "source": [
    "### Exercise 1 - Ensemble Learning (8 points)"
   ]
  },
  {
   "cell_type": "code",
   "execution_count": 1,
   "id": "9945ba11",
   "metadata": {},
   "outputs": [],
   "source": [
    "import pandas as pd\n",
    "import numpy as np\n",
    "\n",
    "from sklearn.datasets import make_classification\n",
    "from sklearn.model_selection import cross_val_score\n",
    "from sklearn.model_selection import KFold\n",
    "from sklearn.model_selection import GridSearchCV\n",
    "from sklearn.ensemble import RandomForestClassifier\n",
    "from sklearn.ensemble import GradientBoostingClassifier\n",
    "from sklearn.linear_model import Lasso"
   ]
  },
  {
   "cell_type": "markdown",
   "id": "9da9efba",
   "metadata": {},
   "source": [
    "**1. Using the titanic_survival_dataset.csv, train the following (scikit-learn) models using nested cross validation while optimizing a selected number of hyperparameters in the inner loop using grid search, then compute the probabilities of the outcomes:**"
   ]
  },
  {
   "cell_type": "code",
   "execution_count": 2,
   "id": "2e8888ea",
   "metadata": {
    "scrolled": false
   },
   "outputs": [
    {
     "data": {
      "text/html": [
       "<div>\n",
       "<style scoped>\n",
       "    .dataframe tbody tr th:only-of-type {\n",
       "        vertical-align: middle;\n",
       "    }\n",
       "\n",
       "    .dataframe tbody tr th {\n",
       "        vertical-align: top;\n",
       "    }\n",
       "\n",
       "    .dataframe thead th {\n",
       "        text-align: right;\n",
       "    }\n",
       "</style>\n",
       "<table border=\"1\" class=\"dataframe\">\n",
       "  <thead>\n",
       "    <tr style=\"text-align: right;\">\n",
       "      <th></th>\n",
       "      <th>PassengerId</th>\n",
       "      <th>Pclass</th>\n",
       "      <th>Sex</th>\n",
       "      <th>Age</th>\n",
       "      <th>SibSp</th>\n",
       "      <th>Parch</th>\n",
       "      <th>Fare</th>\n",
       "      <th>Embarked</th>\n",
       "      <th>no_cabin</th>\n",
       "      <th>Label</th>\n",
       "    </tr>\n",
       "  </thead>\n",
       "  <tbody>\n",
       "    <tr>\n",
       "      <th>0</th>\n",
       "      <td>1</td>\n",
       "      <td>3</td>\n",
       "      <td>0</td>\n",
       "      <td>22.0</td>\n",
       "      <td>1</td>\n",
       "      <td>0</td>\n",
       "      <td>7.2500</td>\n",
       "      <td>0</td>\n",
       "      <td>2</td>\n",
       "      <td>0</td>\n",
       "    </tr>\n",
       "    <tr>\n",
       "      <th>1</th>\n",
       "      <td>2</td>\n",
       "      <td>1</td>\n",
       "      <td>1</td>\n",
       "      <td>38.0</td>\n",
       "      <td>1</td>\n",
       "      <td>0</td>\n",
       "      <td>71.2833</td>\n",
       "      <td>1</td>\n",
       "      <td>1</td>\n",
       "      <td>1</td>\n",
       "    </tr>\n",
       "    <tr>\n",
       "      <th>2</th>\n",
       "      <td>3</td>\n",
       "      <td>3</td>\n",
       "      <td>1</td>\n",
       "      <td>26.0</td>\n",
       "      <td>0</td>\n",
       "      <td>0</td>\n",
       "      <td>7.9250</td>\n",
       "      <td>0</td>\n",
       "      <td>2</td>\n",
       "      <td>1</td>\n",
       "    </tr>\n",
       "    <tr>\n",
       "      <th>3</th>\n",
       "      <td>4</td>\n",
       "      <td>1</td>\n",
       "      <td>1</td>\n",
       "      <td>35.0</td>\n",
       "      <td>1</td>\n",
       "      <td>0</td>\n",
       "      <td>53.1000</td>\n",
       "      <td>0</td>\n",
       "      <td>1</td>\n",
       "      <td>1</td>\n",
       "    </tr>\n",
       "    <tr>\n",
       "      <th>4</th>\n",
       "      <td>5</td>\n",
       "      <td>3</td>\n",
       "      <td>0</td>\n",
       "      <td>35.0</td>\n",
       "      <td>0</td>\n",
       "      <td>0</td>\n",
       "      <td>8.0500</td>\n",
       "      <td>0</td>\n",
       "      <td>2</td>\n",
       "      <td>0</td>\n",
       "    </tr>\n",
       "    <tr>\n",
       "      <th>...</th>\n",
       "      <td>...</td>\n",
       "      <td>...</td>\n",
       "      <td>...</td>\n",
       "      <td>...</td>\n",
       "      <td>...</td>\n",
       "      <td>...</td>\n",
       "      <td>...</td>\n",
       "      <td>...</td>\n",
       "      <td>...</td>\n",
       "      <td>...</td>\n",
       "    </tr>\n",
       "    <tr>\n",
       "      <th>886</th>\n",
       "      <td>887</td>\n",
       "      <td>2</td>\n",
       "      <td>0</td>\n",
       "      <td>27.0</td>\n",
       "      <td>0</td>\n",
       "      <td>0</td>\n",
       "      <td>13.0000</td>\n",
       "      <td>0</td>\n",
       "      <td>2</td>\n",
       "      <td>0</td>\n",
       "    </tr>\n",
       "    <tr>\n",
       "      <th>887</th>\n",
       "      <td>888</td>\n",
       "      <td>1</td>\n",
       "      <td>1</td>\n",
       "      <td>19.0</td>\n",
       "      <td>0</td>\n",
       "      <td>0</td>\n",
       "      <td>30.0000</td>\n",
       "      <td>0</td>\n",
       "      <td>1</td>\n",
       "      <td>1</td>\n",
       "    </tr>\n",
       "    <tr>\n",
       "      <th>888</th>\n",
       "      <td>889</td>\n",
       "      <td>3</td>\n",
       "      <td>1</td>\n",
       "      <td>24.0</td>\n",
       "      <td>1</td>\n",
       "      <td>2</td>\n",
       "      <td>23.4500</td>\n",
       "      <td>0</td>\n",
       "      <td>2</td>\n",
       "      <td>0</td>\n",
       "    </tr>\n",
       "    <tr>\n",
       "      <th>889</th>\n",
       "      <td>890</td>\n",
       "      <td>1</td>\n",
       "      <td>0</td>\n",
       "      <td>26.0</td>\n",
       "      <td>0</td>\n",
       "      <td>0</td>\n",
       "      <td>30.0000</td>\n",
       "      <td>1</td>\n",
       "      <td>1</td>\n",
       "      <td>1</td>\n",
       "    </tr>\n",
       "    <tr>\n",
       "      <th>890</th>\n",
       "      <td>891</td>\n",
       "      <td>3</td>\n",
       "      <td>0</td>\n",
       "      <td>32.0</td>\n",
       "      <td>0</td>\n",
       "      <td>0</td>\n",
       "      <td>7.7500</td>\n",
       "      <td>2</td>\n",
       "      <td>2</td>\n",
       "      <td>0</td>\n",
       "    </tr>\n",
       "  </tbody>\n",
       "</table>\n",
       "<p>891 rows × 10 columns</p>\n",
       "</div>"
      ],
      "text/plain": [
       "     PassengerId  Pclass  Sex   Age  SibSp  Parch     Fare  Embarked  \\\n",
       "0              1       3    0  22.0      1      0   7.2500         0   \n",
       "1              2       1    1  38.0      1      0  71.2833         1   \n",
       "2              3       3    1  26.0      0      0   7.9250         0   \n",
       "3              4       1    1  35.0      1      0  53.1000         0   \n",
       "4              5       3    0  35.0      0      0   8.0500         0   \n",
       "..           ...     ...  ...   ...    ...    ...      ...       ...   \n",
       "886          887       2    0  27.0      0      0  13.0000         0   \n",
       "887          888       1    1  19.0      0      0  30.0000         0   \n",
       "888          889       3    1  24.0      1      2  23.4500         0   \n",
       "889          890       1    0  26.0      0      0  30.0000         1   \n",
       "890          891       3    0  32.0      0      0   7.7500         2   \n",
       "\n",
       "     no_cabin  Label  \n",
       "0           2      0  \n",
       "1           1      1  \n",
       "2           2      1  \n",
       "3           1      1  \n",
       "4           2      0  \n",
       "..        ...    ...  \n",
       "886         2      0  \n",
       "887         1      1  \n",
       "888         2      0  \n",
       "889         1      1  \n",
       "890         2      0  \n",
       "\n",
       "[891 rows x 10 columns]"
      ]
     },
     "execution_count": 2,
     "metadata": {},
     "output_type": "execute_result"
    }
   ],
   "source": [
    "dataset = pd.read_csv('titanic_survival_data.csv')\n",
    "dataset"
   ]
  },
  {
   "cell_type": "markdown",
   "id": "4b08c801",
   "metadata": {},
   "source": [
    "_a. Random forest, optimizing the number of estimators (1 point)_"
   ]
  },
  {
   "cell_type": "code",
   "execution_count": 3,
   "id": "0723edda",
   "metadata": {},
   "outputs": [
    {
     "name": "stdout",
     "output_type": "stream",
     "text": [
      "Accuracy: 0.814 (0.031)\n",
      "The best option is using {'n_estimators': 250} with a 0.8159718013978103 accuracy\n"
     ]
    }
   ],
   "source": [
    "# Divide the dataframe into target and rest\n",
    "X = dataset.drop(['Label'], axis=1) \n",
    "y = dataset['Label']\n",
    "\n",
    "# We configure the nested cross-validation procedure: we are going to have a outer loop and a inner loop\n",
    "# Outer loop: helps us asses the quality of the model\n",
    "cv_outer = KFold(n_splits=5, shuffle=True, random_state=1)\n",
    "\n",
    "# Inner loop: for model/parameter selection\n",
    "cv_inner = KFold(n_splits=4, shuffle=True, random_state=1)\n",
    "\n",
    "# We define the model\n",
    "model = RandomForestClassifier(random_state=1)\n",
    "\n",
    "# We define search space: we want to optimize the number of estimators (parameter grid)\n",
    "space = dict()\n",
    "space['n_estimators'] = [10, 100, 250, 500]\n",
    "\n",
    "# Define search\n",
    "search = GridSearchCV(model, space, scoring='accuracy', n_jobs=1, cv=cv_inner, refit=True)\n",
    "\n",
    "# We fit the search to be able to find best hyperparameters\n",
    "result = search.fit(X, y)\n",
    "\n",
    "# Execute the nested cross-validation\n",
    "scores = cross_val_score(search, X, y, scoring='accuracy', cv=cv_outer, n_jobs=-1)\n",
    "\n",
    "# Report performance\n",
    "print('Accuracy: %.3f (%.3f)' % (np.mean(scores), np.std(scores)))\n",
    "print(f'The best option is using {result.best_params_} with a {result.best_score_} accuracy')"
   ]
  },
  {
   "cell_type": "code",
   "execution_count": 4,
   "id": "bd05fb3b",
   "metadata": {
    "scrolled": true
   },
   "outputs": [
    {
     "name": "stdout",
     "output_type": "stream",
     "text": [
      "[[0.028 0.972]\n",
      " [0.964 0.036]\n",
      " [0.048 0.952]\n",
      " [0.692 0.308]\n",
      " [0.008 0.992]\n",
      " [0.98  0.02 ]\n",
      " [0.796 0.204]\n",
      " [0.016 0.984]\n",
      " [0.916 0.084]\n",
      " [0.064 0.936]]\n"
     ]
    }
   ],
   "source": [
    "# Divide the dataset into 80% training and 20% test\n",
    "from sklearn.model_selection import train_test_split\n",
    "\n",
    "X_train, X_test, y_train, y_test = train_test_split(X, y, test_size=0.20, random_state=1)\n",
    "\n",
    "# Compute the probability of the outcomes\n",
    "prob1 = result.predict_proba(X_test)\n",
    "print(prob1[:10])"
   ]
  },
  {
   "cell_type": "markdown",
   "id": "fed5e24f",
   "metadata": {},
   "source": [
    "_b.\tGradient boosting, optimizing boosting steps (2 point)_"
   ]
  },
  {
   "cell_type": "code",
   "execution_count": 5,
   "id": "6ffc071f",
   "metadata": {},
   "outputs": [
    {
     "name": "stdout",
     "output_type": "stream",
     "text": [
      "Accuracy: 0.827 (0.033)\n",
      "The best option is using {'n_estimators': 50} with a 0.8148759746293379 accuracy\n"
     ]
    }
   ],
   "source": [
    "# Divide the dataframe into target and rest\n",
    "X = dataset.drop(['Label'], axis=1) \n",
    "y = dataset['Label']\n",
    "\n",
    "# We configure the nested cross-validation procedure: we are going to have a outer loop and a inner loop\n",
    "# Outer loop: helps us asses the quality of the model\n",
    "cv_outer = KFold(n_splits=5, shuffle=True, random_state=1)\n",
    "\n",
    "# Inner loop: for model/parameter selection\n",
    "cv_inner = KFold(n_splits=4, shuffle=True, random_state=1)\n",
    "\n",
    "# We define the model\n",
    "model = GradientBoostingClassifier(random_state=1)\n",
    "\n",
    "# We define search space: we want to optimize the number of estimators (parameter grid)\n",
    "# N_estimators = the number of boosting stages to perform\n",
    "space = dict()\n",
    "space['n_estimators'] = [50, 100, 250, 500]\n",
    "\n",
    "# Define search\n",
    "search = GridSearchCV(model, space, scoring='accuracy', cv=cv_inner, refit=True)\n",
    "\n",
    "# We fit the search to be able to find best hyperparameters\n",
    "result = search.fit(X, y)\n",
    "\n",
    "# Execute the nested cross-validation\n",
    "scores = cross_val_score(result, X, y, cv=cv_outer, scoring='accuracy')\n",
    "\n",
    "# Report performance\n",
    "print('Accuracy: %.3f (%.3f)' % (np.mean(scores), np.std(scores)))\n",
    "print(f'The best option is using {result.best_params_} with a {result.best_score_} accuracy')"
   ]
  },
  {
   "cell_type": "code",
   "execution_count": 6,
   "id": "0c009ec2",
   "metadata": {},
   "outputs": [
    {
     "name": "stdout",
     "output_type": "stream",
     "text": [
      "[[0.09832013 0.90167987]\n",
      " [0.89106083 0.10893917]\n",
      " [0.14291704 0.85708296]\n",
      " [0.47774111 0.52225889]\n",
      " [0.06326413 0.93673587]\n",
      " [0.89173272 0.10826728]\n",
      " [0.83131371 0.16868629]\n",
      " [0.03892631 0.96107369]\n",
      " [0.72615598 0.27384402]\n",
      " [0.32831925 0.67168075]]\n"
     ]
    }
   ],
   "source": [
    "X_train, X_test, y_train, y_test = train_test_split(X, y, test_size=0.20, random_state=1)\n",
    "\n",
    "# Compute the probability of the outcomes\n",
    "prob2 = result.predict_proba(X_test)\n",
    "print(prob2[:10])"
   ]
  },
  {
   "cell_type": "markdown",
   "id": "b77cd25c",
   "metadata": {},
   "source": [
    "_c.\tLasso penalized logistic regression, optimizing L1 regularization strength (1 point)_"
   ]
  },
  {
   "cell_type": "code",
   "execution_count": 7,
   "id": "a7ae6997",
   "metadata": {
    "scrolled": true
   },
   "outputs": [
    {
     "name": "stdout",
     "output_type": "stream",
     "text": [
      "The best option is using {'alpha': 1}\n"
     ]
    }
   ],
   "source": [
    "# Divide the dataframe into target and rest\n",
    "X = dataset.drop(['Label'], axis=1) \n",
    "y = dataset['Label']\n",
    "\n",
    "# We configure the nested cross-validation procedure: we are going to have a outer loop and a inner loop\n",
    "# Outer loop: helps us asses the quality of the model\n",
    "cv_outer = KFold(n_splits=5, shuffle=True, random_state=1)\n",
    "\n",
    "# Inner loop: for model/parameter selection\n",
    "cv_inner = KFold(n_splits=4, shuffle=True, random_state=1)\n",
    "\n",
    "# We define the model\n",
    "model = Lasso(random_state=1)\n",
    "\n",
    "# We define search space: we want to optimize the L1 regularization strength, which is alpha\n",
    "space = dict()\n",
    "space['alpha'] = [1, 5, 10, 15]\n",
    "\n",
    "# Define search\n",
    "search = GridSearchCV(model, space, cv=cv_inner, refit=True)\n",
    "\n",
    "# We fit the search to be able to find best hyperparameters\n",
    "result = search.fit(X, y)\n",
    "\n",
    "# Execute the nested cross-validation\n",
    "scores = cross_val_score(result, X, y, cv=cv_outer)\n",
    "\n",
    "# Report performance\n",
    "print(f'The best option is using {result.best_params_}')"
   ]
  },
  {
   "cell_type": "markdown",
   "id": "b65d554d",
   "metadata": {},
   "source": [
    "I know we can't use the predict_proba method, instead we should use the CalibratedClassifierCV but I'm not able to implement it."
   ]
  },
  {
   "cell_type": "markdown",
   "id": "db7ab97b",
   "metadata": {},
   "source": [
    "**2. Inform yourself about calibration curves (reliability diagrams).**"
   ]
  },
  {
   "cell_type": "markdown",
   "id": "a1c3be26",
   "metadata": {},
   "source": [
    "_d.\tDescribe how calibration curves can explain your model’s performance. \n",
    "(1 point)_"
   ]
  },
  {
   "cell_type": "markdown",
   "id": "7b7d3365",
   "metadata": {},
   "source": [
    "Calibration curves or reliability diagrams compare the calibration of classifier's probabilities.\n",
    "\n",
    "We usually used accuracy to measure a model's performance, however a model should also be well-calibrated. \n",
    "\n",
    "This calibration plot is going to show the relation between the true class of the samples and the predicted probabilities. Therefore, this will give us a measure of how realistic a model prediction is."
   ]
  },
  {
   "cell_type": "markdown",
   "id": "c5c37d75",
   "metadata": {},
   "source": [
    "_e.\tUse the predicted probabilities of each model from question 1 to plot a calibration curve, then explain your results. (3 points)_"
   ]
  },
  {
   "cell_type": "code",
   "execution_count": 8,
   "id": "2ae129cb",
   "metadata": {},
   "outputs": [],
   "source": [
    "import matplotlib.pyplot as plt\n",
    "from sklearn.calibration import calibration_curve\n",
    "\n",
    "rf_y, rf_x = calibration_curve(y_test, prob1[:,1], n_bins=10)\n",
    "gb_y, gb_x = calibration_curve(y_test, prob2[:,1], n_bins=10)\n"
   ]
  },
  {
   "cell_type": "code",
   "execution_count": 9,
   "id": "72ca4319",
   "metadata": {},
   "outputs": [
    {
     "data": {
      "image/png": "[encoded data removed]",
      "text/plain": [
       "<Figure size 432x288 with 1 Axes>"
      ]
     },
     "metadata": {
      "needs_background": "light"
     },
     "output_type": "display_data"
    }
   ],
   "source": [
    "import matplotlib.pyplot as plt\n",
    "import matplotlib.lines as mlines\n",
    "import matplotlib.transforms as mtransforms\n",
    "\n",
    "fig, ax = plt.subplots()\n",
    "# only these two lines are calibration curves\n",
    "plt.plot(rf_x,rf_y, marker='o', linewidth=1, label='Random forest')\n",
    "plt.plot(gb_x, gb_y, marker='o', linewidth=1, label='Gradient boosting')\n",
    "\n",
    "# reference line, legends, and axis labels\n",
    "line = mlines.Line2D([0, 1], [0, 1], color='black')\n",
    "transform = ax.transAxes\n",
    "line.set_transform(transform)\n",
    "ax.add_line(line)\n",
    "fig.suptitle('Calibration plot for Titanic survavil data')\n",
    "ax.set_xlabel('Predicted probability')\n",
    "ax.set_ylabel('True probability in each bin')\n",
    "plt.legend()\n",
    "plt.show()"
   ]
  },
  {
   "cell_type": "markdown",
   "id": "0be8c05a",
   "metadata": {},
   "source": [
    "We could say the model trained with Gradient Boosting is performing best than Random Forest.  Nevertheless, it is not a great perfomance either."
   ]
  },
  {
   "cell_type": "markdown",
   "id": "cabb776e",
   "metadata": {},
   "source": [
    "____"
   ]
  },
  {
   "cell_type": "markdown",
   "id": "7bde03ac",
   "metadata": {},
   "source": [
    "exercise2)"
   ]
  },
  {
   "cell_type": "markdown",
   "id": "8cdc6a58",
   "metadata": {},
   "source": [
    "1. Suppose there is a Multi-Layer Perceptron (MLP) composed of one input layer\n",
    "with 8 neurons, followed by one hidden layer with 30 artificial neurons, and one\n",
    "output layer with 3 artificial neurons. All artificial neurons use the ReLU activation\n",
    "function.\n",
    "\n",
    "a. Deduce the shape of input matrix X, hidden layer’s weight vector Wh, bias\n",
    "vector bh and the shape of the network’s output matrix Y. (2 points)"
   ]
  },
  {
   "cell_type": "markdown",
   "id": "97bbf607",
   "metadata": {},
   "source": [
    " shape of input matrix X=number of neurones  * batch size                      \n",
    "                       X= 8*batch size\n",
    "\n",
    "Hidden layer's weight vector Wh = 240\n",
    "\n",
    "Hidden layer's bias vector bh= 30\n",
    "\n",
    "shape of the network's output matrix Y = batch size * number of neurones in output layer                     "
   ]
  },
  {
   "cell_type": "markdown",
   "id": "01639250",
   "metadata": {},
   "source": [
    "b. Write the equation that computes the network’s output matrix Y as a function of X, Wh , bh , Wo and bo. (2 points)"
   ]
  },
  {
   "cell_type": "markdown",
   "id": "7d668050",
   "metadata": {},
   "source": [
    "Y=(bo+Wo)*(bh+whX)\n",
    "\n",
    "Y=93*(30+1920*batch size)"
   ]
  },
  {
   "cell_type": "markdown",
   "id": "9f32f3ef",
   "metadata": {},
   "source": [
    "2.What are the principal and unavoidable limitations of the backpropagation (BP)? (1 point)"
   ]
  },
  {
   "cell_type": "markdown",
   "id": "b6deab80",
   "metadata": {},
   "source": [
    "-It relies on input to perform on a specific problem\n",
    "\n",
    "-It is sensitive to complex/ noisy data\n",
    "\n",
    "-It needs the derivatives of activation functions for the network design time.\n"
   ]
  },
  {
   "cell_type": "markdown",
   "id": "3820ac07",
   "metadata": {},
   "source": [
    "-------------------------------"
   ]
  },
  {
   "cell_type": "markdown",
   "id": "c5a02f28",
   "metadata": {},
   "source": [
    "3-4) Compute h1, h2, o1, and total error using ReLU units. (2 points)"
   ]
  },
  {
   "cell_type": "code",
   "execution_count": 10,
   "id": "faf2c0ff",
   "metadata": {},
   "outputs": [
    {
     "name": "stdout",
     "output_type": "stream",
     "text": [
      "h1:  0.07499999999999997\n",
      "h2:  0.14799999999999996\n",
      "o1:  0.60775\n",
      "total_error:  0.15386006249999998\n"
     ]
    }
   ],
   "source": [
    "from sklearn.metrics import mean_squared_error\n",
    "\n",
    "def relu(x):\n",
    "    return max(0.0, x)\n",
    "\n",
    "i1, i2 = 0.9, 0.3\n",
    "w1, w2, w3, w4, w5, w6 = -0.2, 0.35, 0.12, 0.8, 0.45, 0.5\n",
    "b1, b2, b3 = 0.15, -0.2, 0.5\n",
    "\n",
    "h1_prev = w1*i1 + w2*i2 + b1\n",
    "h2_prev = w3*i1 + w4*i2 + b2\n",
    "h1_net = relu(h1_prev)\n",
    "h2_net = relu(h2_prev)\n",
    "o1 = w5*h1_net + w6*h2_net + b3\n",
    "total_error = mean_squared_error([1], [o1])\n",
    "\n",
    "print(\"h1: \", h1_net)\n",
    "print(\"h2: \", h2_net)\n",
    "print(\"o1: \", o1)\n",
    "print(\"total_error: \", total_error)"
   ]
  },
  {
   "cell_type": "markdown",
   "id": "d725cf22",
   "metadata": {},
   "source": [
    "5) Calculate the updates of the network weights w1, …, w6 and bias terms b1, b2, b3 using backpropagation. Assume a learning rate of 1 for the sake of simplicity. (3 points)."
   ]
  },
  {
   "cell_type": "markdown",
   "id": "4d6cbe82",
   "metadata": {},
   "source": [
    "derivative of relu is defined as;\n",
    "\n",
    "$f(x) = 1$ if $x > 0$\n",
    "$f(x) = 0$ if $x <= 0$\n",
    "\n",
    "$\\frac{\\partial L}{\\partial o} = -2*(1 - o1)$"
   ]
  },
  {
   "cell_type": "code",
   "execution_count": 11,
   "id": "a563c8c9",
   "metadata": {},
   "outputs": [
    {
     "data": {
      "text/plain": [
       "-0.11610599999999997"
      ]
     },
     "execution_count": 11,
     "metadata": {},
     "output_type": "execute_result"
    }
   ],
   "source": [
    "par_L_over_w6 = -2*(1 - o1)*1*h2_prev\n",
    "par_L_over_w6"
   ]
  },
  {
   "cell_type": "markdown",
   "id": "15663850",
   "metadata": {},
   "source": [
    "$\\frac{\\partial L}{\\partial w6} = \\frac{\\partial L}{\\partial o1} * \\frac{\\partial o1}{\\partial w6} = -2*(1 - o1)*relu'(h1)*h2 = -0.1161$"
   ]
  },
  {
   "cell_type": "code",
   "execution_count": 12,
   "id": "d1f78902",
   "metadata": {},
   "outputs": [
    {
     "data": {
      "text/plain": [
       "-0.05883749999999997"
      ]
     },
     "execution_count": 12,
     "metadata": {},
     "output_type": "execute_result"
    }
   ],
   "source": [
    "par_L_over_w5 = -2*(1 - o1)*1*h1_prev\n",
    "par_L_over_w5"
   ]
  },
  {
   "cell_type": "markdown",
   "id": "c2751b27",
   "metadata": {},
   "source": [
    "$\\frac{\\partial L}{\\partial w5} = \\frac{\\partial L}{\\partial o1} * \\frac{\\partial o1}{\\partial w5} = -2*(1 - o1)*relu'(h1)*h1 = -0.0588$"
   ]
  },
  {
   "cell_type": "code",
   "execution_count": 13,
   "id": "83fc93bb",
   "metadata": {},
   "outputs": [
    {
     "data": {
      "text/plain": [
       "-0.7845"
      ]
     },
     "execution_count": 13,
     "metadata": {},
     "output_type": "execute_result"
    }
   ],
   "source": [
    "par_L_over_b3 = -2*(1 - o1)*1\n",
    "par_L_over_b3"
   ]
  },
  {
   "cell_type": "markdown",
   "id": "4bc3c450",
   "metadata": {},
   "source": [
    "$\\frac{\\partial L}{\\partial b3} = \\frac{\\partial L}{\\partial o1} * \\frac{\\partial o1}{\\partial b3} = -2*(1 - o1)*b3 = -0.7845$"
   ]
  },
  {
   "cell_type": "code",
   "execution_count": 14,
   "id": "b896358a",
   "metadata": {},
   "outputs": [
    {
     "data": {
      "text/plain": [
       "-0.31772249999999996"
      ]
     },
     "execution_count": 14,
     "metadata": {},
     "output_type": "execute_result"
    }
   ],
   "source": [
    "par_L_over_w1 = -2*(1 - o1)*1*w5*i1\n",
    "par_L_over_w1"
   ]
  },
  {
   "cell_type": "markdown",
   "id": "cf6c8ec2",
   "metadata": {},
   "source": [
    "$\\frac{\\partial L}{\\partial w1} = \\frac{\\partial L}{\\partial o1} * \\frac{\\partial o1}{\\partial h1} * \\frac{\\partial h1}{\\partial w1} = -2*(1 - o1)*w5*relu'(h1)*i1 = -0.3177$"
   ]
  },
  {
   "cell_type": "code",
   "execution_count": 15,
   "id": "2f7c37c8",
   "metadata": {},
   "outputs": [
    {
     "data": {
      "text/plain": [
       "-0.10590749999999999"
      ]
     },
     "execution_count": 15,
     "metadata": {},
     "output_type": "execute_result"
    }
   ],
   "source": [
    "par_L_over_w2 = -2*(1 - o1)*1*w5*i2\n",
    "par_L_over_w2"
   ]
  },
  {
   "cell_type": "markdown",
   "id": "2716bd4a",
   "metadata": {},
   "source": [
    "$\\frac{\\partial L}{\\partial w2} = \\frac{\\partial L}{\\partial o1} * \\frac{\\partial o1}{\\partial h1} * \\frac{\\partial h1}{\\partial w2} = -2*(1 - o1)*w5*relu'(h1)*i2 = -0.1059$"
   ]
  },
  {
   "cell_type": "code",
   "execution_count": 16,
   "id": "a522ac25",
   "metadata": {},
   "outputs": [
    {
     "data": {
      "text/plain": [
       "-0.353025"
      ]
     },
     "execution_count": 16,
     "metadata": {},
     "output_type": "execute_result"
    }
   ],
   "source": [
    "par_L_over_w3 = -2*(1 - o1)*1*w6*i1\n",
    "par_L_over_w3"
   ]
  },
  {
   "cell_type": "markdown",
   "id": "25bd67f9",
   "metadata": {},
   "source": [
    "$\\frac{\\partial L}{\\partial w3} = \\frac{\\partial L}{\\partial o1} * \\frac{\\partial o1}{\\partial h1} * \\frac{\\partial h1}{\\partial w3} = -2*(1 - o1)*w6*relu'(h1)*i1 = -0.3530$"
   ]
  },
  {
   "cell_type": "code",
   "execution_count": 17,
   "id": "c7d54a2b",
   "metadata": {},
   "outputs": [
    {
     "data": {
      "text/plain": [
       "-0.11767499999999999"
      ]
     },
     "execution_count": 17,
     "metadata": {},
     "output_type": "execute_result"
    }
   ],
   "source": [
    "par_L_over_w4 = -2*(1 - o1)*1*w6*i2\n",
    "par_L_over_w4"
   ]
  },
  {
   "cell_type": "markdown",
   "id": "1a3d1eb5",
   "metadata": {},
   "source": [
    "$\\frac{\\partial L}{\\partial w4} = \\frac{\\partial L}{\\partial o1} * \\frac{\\partial o1}{\\partial h1} * \\frac{\\partial h1}{\\partial w4} = -2*(1 - o1)*w6*relu'(h1)*i2 = -0.1176$"
   ]
  },
  {
   "cell_type": "code",
   "execution_count": 18,
   "id": "39a052eb",
   "metadata": {},
   "outputs": [
    {
     "data": {
      "text/plain": [
       "-0.39225"
      ]
     },
     "execution_count": 18,
     "metadata": {},
     "output_type": "execute_result"
    }
   ],
   "source": [
    "par_L_over_b2 = -2*(1 - o1)*1*w6\n",
    "par_L_over_b2"
   ]
  },
  {
   "cell_type": "markdown",
   "id": "eda7b11d",
   "metadata": {},
   "source": [
    "$\\frac{\\partial L}{\\partial b2} = \\frac{\\partial L}{\\partial o1} * \\frac{\\partial o1}{\\partial b2} = -2*(1 - o1)*w6*relu'(h1) = -0.3922$"
   ]
  },
  {
   "cell_type": "code",
   "execution_count": 19,
   "id": "93acabe5",
   "metadata": {},
   "outputs": [
    {
     "data": {
      "text/plain": [
       "-0.353025"
      ]
     },
     "execution_count": 19,
     "metadata": {},
     "output_type": "execute_result"
    }
   ],
   "source": [
    "par_L_over_b1 = -2*(1 - o1)*1*w5\n",
    "par_L_over_b1"
   ]
  },
  {
   "cell_type": "markdown",
   "id": "79e46ab9",
   "metadata": {},
   "source": [
    "$\\frac{\\partial L}{\\partial b1} = \\frac{\\partial L}{\\partial o1} * \\frac{\\partial o1}{\\partial b1} = -2*(1 - o1)*w5*relu'(h1) = -0.3530$"
   ]
  },
  {
   "cell_type": "markdown",
   "id": "1f6be9ed",
   "metadata": {},
   "source": [
    "---------------------------"
   ]
  }
 ],
 "metadata": {
  "kernelspec": {
   "display_name": "Python 3 (ipykernel)",
   "language": "python",
   "name": "python3"
  },
  "language_info": {
   "codemirror_mode": {
    "name": "ipython",
    "version": 3
   },
   "file_extension": ".py",
   "mimetype": "text/x-python",
   "name": "python",
   "nbconvert_exporter": "python",
   "pygments_lexer": "ipython3",
   "version": "3.9.7"
  },
  "vscode": {
   "interpreter": {
    "hash": "916dbcbb3f70747c44a77c7bcd40155683ae19c65e1c03b4aa3499c5328201f1"
   }
  }
 },
 "nbformat": 4,
 "nbformat_minor": 5
}
