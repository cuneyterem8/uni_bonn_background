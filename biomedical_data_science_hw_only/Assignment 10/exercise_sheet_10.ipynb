{
 "cells": [
  {
   "cell_type": "markdown",
   "id": "652761c1",
   "metadata": {},
   "source": [
    "## Exercise sheet 10"
   ]
  },
  {
   "cell_type": "markdown",
   "id": "726a1d3a",
   "metadata": {},
   "source": [
    "### Exercise 2 - Generative Adversarial Networks (GANs) (6 points)"
   ]
  },
  {
   "cell_type": "markdown",
   "id": "fca1ae8e",
   "metadata": {},
   "source": [
    "**1. What are the specific properties of GANs in comparison to VAEs? (2points)**"
   ]
  },
  {
   "cell_type": "markdown",
   "id": "20ea0f08",
   "metadata": {},
   "source": [
    "GANs are Neural Networks that take random variables as input and generate outputs. A discriminator is going to predict if this output belongs to a target distribution or not (distribution of the training set). Once the network is trained, you can generate a variety of outputs just by sampling the initial random input and forwarding through the generator.\n",
    "\n",
    "So one specific property compared to VAEs is the input data: \n",
    "\n",
    "- In GANs the input is a small vector of random numbers .\n",
    "- In VAEs to get the input data you need to compress high dimensional data.\n",
    "\n",
    "Moreover, they are both methods of unsupervised learning and they are generative models but the have different approaches:\n",
    "- A GAN is supposed to learn to generate realistic 'new' samples of a dataset.\n",
    "- A VAE just reconstruct their inputs and can’t generate realistic 'new' samples.\n",
    "\n",
    "We can also mention that GANs tend to generate sharper images but they are really hard to train, whereas VAEs generate blurrier images but they are easier to train."
   ]
  },
  {
   "cell_type": "markdown",
   "id": "35197d30",
   "metadata": {},
   "source": [
    "**2. Familiarize yourself with the following type of GANs and briefly explain how each\n",
    "technique differs from vanilla GANs and give an application example for each type (Don't forget to cite the chosen examples). (4 points)**"
   ]
  },
  {
   "cell_type": "markdown",
   "id": "7ca3cde9",
   "metadata": {},
   "source": [
    "a- GAN is simple fully connected network contains relu function and activation function\n",
    "DCGAN uses transposed convolution technique to sample 2D image size contains conv2dtranspose layers having paddings, strides and batch normalization along with relu and activation functions.\n",
    "\n",
    "[1] https://kikaben.com/having-fun-with-deep-convolutional-gans/#chapter-2\n",
    "\n",
    "b- WGAN is an improvement of the casual GANs. It utilizes two primary probability distributions such as probability distribution of the generator and probability distribution from the real images. Wasserstein distance fixes unstability of the training while calculating gradients. \n",
    "\n",
    "$\\max_w E_x [f_w(x)] - E_z [f_w(g_t(z))]$\n",
    "\n",
    "[2] https://blog.paperspace.com/wgans/\n"
   ]
  },
  {
   "cell_type": "code",
   "execution_count": null,
   "id": "bff0650d",
   "metadata": {},
   "outputs": [],
   "source": []
  }
 ],
 "metadata": {
  "kernelspec": {
   "display_name": "Python 3 (ipykernel)",
   "language": "python",
   "name": "python3"
  },
  "language_info": {
   "codemirror_mode": {
    "name": "ipython",
    "version": 3
   },
   "file_extension": ".py",
   "mimetype": "text/x-python",
   "name": "python",
   "nbconvert_exporter": "python",
   "pygments_lexer": "ipython3",
   "version": "3.9.7"
  }
 },
 "nbformat": 4,
 "nbformat_minor": 5
}
