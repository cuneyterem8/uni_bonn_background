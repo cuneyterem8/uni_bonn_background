{
 "cells": [
  {
   "cell_type": "markdown",
   "metadata": {},
   "source": [
    "## Exercise sheet 1\n",
    "\n",
    "Cüneyt Erem\n",
    "3277992\n",
    "s6cuerem@uni-bonn.de\n",
    "\n",
    "Nkeh Victor Ndiwago\n",
    "3504121\n",
    "s0vinkeh@uni-bonn.de\n",
    "\n",
    "Paula Romero Jiménez\n",
    "3320220\n",
    "s0parome@uni-bonn.de"
   ]
  },
  {
   "cell_type": "markdown",
   "metadata": {},
   "source": [
    "------------------------"
   ]
  },
  {
   "cell_type": "markdown",
   "metadata": {},
   "source": [
    "ex1)"
   ]
  },
  {
   "cell_type": "markdown",
   "metadata": {},
   "source": [
    "------------------------"
   ]
  },
  {
   "cell_type": "markdown",
   "metadata": {},
   "source": [
    "#### 1. Load the Iris dataset into your notebook from Scikit-Learn"
   ]
  },
  {
   "cell_type": "code",
   "execution_count": 1,
   "metadata": {},
   "outputs": [],
   "source": [
    "import pandas as pd\n",
    "import numpy as np\n",
    "import matplotlib.pyplot as plt\n",
    "\n",
    "#load iris dataset\n",
    "from sklearn import datasets\n",
    "iris = datasets.load_iris()"
   ]
  },
  {
   "cell_type": "markdown",
   "metadata": {},
   "source": [
    "#### 2. Report the descriptive statistics of the features of the iris dataset\n",
    "    a. Mean, Median,  Mode\n",
    "    b. Variance, MAD, Standard deviation\n",
    "    c. Quantiles, IQR"
   ]
  },
  {
   "cell_type": "code",
   "execution_count": 2,
   "metadata": {},
   "outputs": [
    {
     "name": "stdout",
     "output_type": "stream",
     "text": [
      "['sepal length (cm)', 'sepal width (cm)', 'petal length (cm)', 'petal width (cm)']\n",
      "['setosa' 'versicolor' 'virginica']\n",
      "(150, 4)\n"
     ]
    }
   ],
   "source": [
    "# Dataset preview\n",
    "print (iris.feature_names)     # Names of features or columns in iris dataset\n",
    "print (iris.target_names)      # Names of targets in iris dataset\n",
    "print (iris.data.shape) "
   ]
  },
  {
   "cell_type": "code",
   "execution_count": 3,
   "metadata": {},
   "outputs": [
    {
     "name": "stdout",
     "output_type": "stream",
     "text": [
      "   sepal length (cm)  sepal width (cm)  petal length (cm)  petal width (cm)\n",
      "0                5.1               3.5                1.4               0.2\n",
      "1                4.9               3.0                1.4               0.2\n",
      "2                4.7               3.2                1.3               0.2\n",
      "3                4.6               3.1                1.5               0.2\n",
      "4                5.0               3.6                1.4               0.2\n"
     ]
    }
   ],
   "source": [
    "# Convert the data into Dataframe\n",
    "#iris_df = pd.DataFrame(data= np.c_[iris['data'], iris['target']],columns= iris['feature_names'] + ['Species'])\n",
    "iris_df = pd.DataFrame(iris.data, columns=iris.feature_names)\n",
    "#print(iris_df)\n",
    "print(iris_df.head())"
   ]
  },
  {
   "cell_type": "code",
   "execution_count": 4,
   "metadata": {},
   "outputs": [
    {
     "data": {
      "text/html": [
       "<div>\n",
       "<style scoped>\n",
       "    .dataframe tbody tr th:only-of-type {\n",
       "        vertical-align: middle;\n",
       "    }\n",
       "\n",
       "    .dataframe tbody tr th {\n",
       "        vertical-align: top;\n",
       "    }\n",
       "\n",
       "    .dataframe thead th {\n",
       "        text-align: right;\n",
       "    }\n",
       "</style>\n",
       "<table border=\"1\" class=\"dataframe\">\n",
       "  <thead>\n",
       "    <tr style=\"text-align: right;\">\n",
       "      <th></th>\n",
       "      <th>sepal length (cm)</th>\n",
       "      <th>sepal width (cm)</th>\n",
       "      <th>petal length (cm)</th>\n",
       "      <th>petal width (cm)</th>\n",
       "    </tr>\n",
       "  </thead>\n",
       "  <tbody>\n",
       "    <tr>\n",
       "      <th>count</th>\n",
       "      <td>150.000000</td>\n",
       "      <td>150.000000</td>\n",
       "      <td>150.000000</td>\n",
       "      <td>150.000000</td>\n",
       "    </tr>\n",
       "    <tr>\n",
       "      <th>mean</th>\n",
       "      <td>5.843333</td>\n",
       "      <td>3.057333</td>\n",
       "      <td>3.758000</td>\n",
       "      <td>1.199333</td>\n",
       "    </tr>\n",
       "    <tr>\n",
       "      <th>std</th>\n",
       "      <td>0.828066</td>\n",
       "      <td>0.435866</td>\n",
       "      <td>1.765298</td>\n",
       "      <td>0.762238</td>\n",
       "    </tr>\n",
       "    <tr>\n",
       "      <th>min</th>\n",
       "      <td>4.300000</td>\n",
       "      <td>2.000000</td>\n",
       "      <td>1.000000</td>\n",
       "      <td>0.100000</td>\n",
       "    </tr>\n",
       "    <tr>\n",
       "      <th>25%</th>\n",
       "      <td>5.100000</td>\n",
       "      <td>2.800000</td>\n",
       "      <td>1.600000</td>\n",
       "      <td>0.300000</td>\n",
       "    </tr>\n",
       "    <tr>\n",
       "      <th>50%</th>\n",
       "      <td>5.800000</td>\n",
       "      <td>3.000000</td>\n",
       "      <td>4.350000</td>\n",
       "      <td>1.300000</td>\n",
       "    </tr>\n",
       "    <tr>\n",
       "      <th>75%</th>\n",
       "      <td>6.400000</td>\n",
       "      <td>3.300000</td>\n",
       "      <td>5.100000</td>\n",
       "      <td>1.800000</td>\n",
       "    </tr>\n",
       "    <tr>\n",
       "      <th>max</th>\n",
       "      <td>7.900000</td>\n",
       "      <td>4.400000</td>\n",
       "      <td>6.900000</td>\n",
       "      <td>2.500000</td>\n",
       "    </tr>\n",
       "  </tbody>\n",
       "</table>\n",
       "</div>"
      ],
      "text/plain": [
       "       sepal length (cm)  sepal width (cm)  petal length (cm)  \\\n",
       "count         150.000000        150.000000         150.000000   \n",
       "mean            5.843333          3.057333           3.758000   \n",
       "std             0.828066          0.435866           1.765298   \n",
       "min             4.300000          2.000000           1.000000   \n",
       "25%             5.100000          2.800000           1.600000   \n",
       "50%             5.800000          3.000000           4.350000   \n",
       "75%             6.400000          3.300000           5.100000   \n",
       "max             7.900000          4.400000           6.900000   \n",
       "\n",
       "       petal width (cm)  \n",
       "count        150.000000  \n",
       "mean           1.199333  \n",
       "std            0.762238  \n",
       "min            0.100000  \n",
       "25%            0.300000  \n",
       "50%            1.300000  \n",
       "75%            1.800000  \n",
       "max            2.500000  "
      ]
     },
     "execution_count": 4,
     "metadata": {},
     "output_type": "execute_result"
    }
   ],
   "source": [
    "# This function gives us statistical information about the dataset\n",
    "iris_df.describe()"
   ]
  },
  {
   "cell_type": "markdown",
   "metadata": {},
   "source": [
    "##### a. Mean, Median,  Mode"
   ]
  },
  {
   "cell_type": "code",
   "execution_count": 5,
   "metadata": {},
   "outputs": [
    {
     "data": {
      "text/plain": [
       "sepal length (cm)    5.843333\n",
       "sepal width (cm)     3.057333\n",
       "petal length (cm)    3.758000\n",
       "petal width (cm)     1.199333\n",
       "dtype: float64"
      ]
     },
     "execution_count": 5,
     "metadata": {},
     "output_type": "execute_result"
    }
   ],
   "source": [
    "iris_df.mean()"
   ]
  },
  {
   "cell_type": "code",
   "execution_count": 6,
   "metadata": {},
   "outputs": [
    {
     "data": {
      "text/plain": [
       "sepal length (cm)    5.80\n",
       "sepal width (cm)     3.00\n",
       "petal length (cm)    4.35\n",
       "petal width (cm)     1.30\n",
       "dtype: float64"
      ]
     },
     "execution_count": 6,
     "metadata": {},
     "output_type": "execute_result"
    }
   ],
   "source": [
    "iris_df.median()"
   ]
  },
  {
   "cell_type": "code",
   "execution_count": 7,
   "metadata": {},
   "outputs": [
    {
     "data": {
      "text/html": [
       "<div>\n",
       "<style scoped>\n",
       "    .dataframe tbody tr th:only-of-type {\n",
       "        vertical-align: middle;\n",
       "    }\n",
       "\n",
       "    .dataframe tbody tr th {\n",
       "        vertical-align: top;\n",
       "    }\n",
       "\n",
       "    .dataframe thead th {\n",
       "        text-align: right;\n",
       "    }\n",
       "</style>\n",
       "<table border=\"1\" class=\"dataframe\">\n",
       "  <thead>\n",
       "    <tr style=\"text-align: right;\">\n",
       "      <th></th>\n",
       "      <th>sepal length (cm)</th>\n",
       "      <th>sepal width (cm)</th>\n",
       "      <th>petal length (cm)</th>\n",
       "      <th>petal width (cm)</th>\n",
       "    </tr>\n",
       "  </thead>\n",
       "  <tbody>\n",
       "    <tr>\n",
       "      <th>0</th>\n",
       "      <td>5.0</td>\n",
       "      <td>3.0</td>\n",
       "      <td>1.4</td>\n",
       "      <td>0.2</td>\n",
       "    </tr>\n",
       "    <tr>\n",
       "      <th>1</th>\n",
       "      <td>NaN</td>\n",
       "      <td>NaN</td>\n",
       "      <td>1.5</td>\n",
       "      <td>NaN</td>\n",
       "    </tr>\n",
       "  </tbody>\n",
       "</table>\n",
       "</div>"
      ],
      "text/plain": [
       "   sepal length (cm)  sepal width (cm)  petal length (cm)  petal width (cm)\n",
       "0                5.0               3.0                1.4               0.2\n",
       "1                NaN               NaN                1.5               NaN"
      ]
     },
     "execution_count": 7,
     "metadata": {},
     "output_type": "execute_result"
    }
   ],
   "source": [
    "iris_df.mode()"
   ]
  },
  {
   "cell_type": "markdown",
   "metadata": {},
   "source": [
    "##### b. Variance, MAD, Standard deviation"
   ]
  },
  {
   "cell_type": "code",
   "execution_count": 8,
   "metadata": {},
   "outputs": [
    {
     "data": {
      "text/plain": [
       "sepal length (cm)    0.685694\n",
       "sepal width (cm)     0.189979\n",
       "petal length (cm)    3.116278\n",
       "petal width (cm)     0.581006\n",
       "dtype: float64"
      ]
     },
     "execution_count": 8,
     "metadata": {},
     "output_type": "execute_result"
    }
   ],
   "source": [
    "iris_df.var()"
   ]
  },
  {
   "cell_type": "code",
   "execution_count": 9,
   "metadata": {},
   "outputs": [
    {
     "data": {
      "text/plain": [
       "sepal length (cm)    0.687556\n",
       "sepal width (cm)     0.336782\n",
       "petal length (cm)    1.562747\n",
       "petal width (cm)     0.658133\n",
       "dtype: float64"
      ]
     },
     "execution_count": 9,
     "metadata": {},
     "output_type": "execute_result"
    }
   ],
   "source": [
    "iris_df.mad()"
   ]
  },
  {
   "cell_type": "code",
   "execution_count": 10,
   "metadata": {},
   "outputs": [
    {
     "data": {
      "text/plain": [
       "sepal length (cm)    0.828066\n",
       "sepal width (cm)     0.435866\n",
       "petal length (cm)    1.765298\n",
       "petal width (cm)     0.762238\n",
       "dtype: float64"
      ]
     },
     "execution_count": 10,
     "metadata": {},
     "output_type": "execute_result"
    }
   ],
   "source": [
    "iris_df.std()"
   ]
  },
  {
   "cell_type": "markdown",
   "metadata": {},
   "source": [
    "##### c. Quantiles, IQR"
   ]
  },
  {
   "cell_type": "code",
   "execution_count": 11,
   "metadata": {},
   "outputs": [
    {
     "data": {
      "text/plain": [
       "sepal length (cm)    6.4\n",
       "sepal width (cm)     3.3\n",
       "petal length (cm)    5.1\n",
       "petal width (cm)     1.8\n",
       "Name: 0.75, dtype: float64"
      ]
     },
     "execution_count": 11,
     "metadata": {},
     "output_type": "execute_result"
    }
   ],
   "source": [
    "iris_df.quantile(.75)"
   ]
  },
  {
   "cell_type": "code",
   "execution_count": 12,
   "metadata": {},
   "outputs": [
    {
     "data": {
      "text/plain": [
       "sepal length (cm)    5.80\n",
       "sepal width (cm)     3.00\n",
       "petal length (cm)    4.35\n",
       "petal width (cm)     1.30\n",
       "Name: 0.5, dtype: float64"
      ]
     },
     "execution_count": 12,
     "metadata": {},
     "output_type": "execute_result"
    }
   ],
   "source": [
    "iris_df.quantile(.5)"
   ]
  },
  {
   "cell_type": "code",
   "execution_count": 13,
   "metadata": {},
   "outputs": [
    {
     "data": {
      "text/plain": [
       "sepal length (cm)    5.1\n",
       "sepal width (cm)     2.8\n",
       "petal length (cm)    1.6\n",
       "petal width (cm)     0.3\n",
       "Name: 0.25, dtype: float64"
      ]
     },
     "execution_count": 13,
     "metadata": {},
     "output_type": "execute_result"
    }
   ],
   "source": [
    "iris_df.quantile(.25)"
   ]
  },
  {
   "cell_type": "code",
   "execution_count": 14,
   "metadata": {},
   "outputs": [
    {
     "name": "stdout",
     "output_type": "stream",
     "text": [
      "sepal length (cm)    1.3\n",
      "sepal width (cm)     0.5\n",
      "petal length (cm)    3.5\n",
      "petal width (cm)     1.5\n",
      "dtype: float64\n"
     ]
    }
   ],
   "source": [
    "IQR=iris_df.quantile(.75) - iris_df.quantile(.25)\n",
    "print(IQR)"
   ]
  },
  {
   "cell_type": "markdown",
   "metadata": {},
   "source": [
    "#### 3. Plot a density plot for each of the variables. Interpret the plots."
   ]
  },
  {
   "cell_type": "code",
   "execution_count": 15,
   "metadata": {},
   "outputs": [],
   "source": [
    "iris_df.rename(columns = {'sepal length (cm)':'sepal_length', 'sepal width (cm)':'sepal_width', 'petal length (cm)':'petal_length', 'petal width (cm)':'petal_width' }, inplace = True)"
   ]
  },
  {
   "cell_type": "code",
   "execution_count": 16,
   "metadata": {},
   "outputs": [
    {
     "data": {
      "text/plain": [
       "['sepal_length', 'sepal_width', 'petal_length', 'petal_width']"
      ]
     },
     "execution_count": 16,
     "metadata": {},
     "output_type": "execute_result"
    }
   ],
   "source": [
    "list(iris_df)"
   ]
  },
  {
   "cell_type": "code",
   "execution_count": 17,
   "metadata": {},
   "outputs": [
    {
     "data": {
      "image/png": "[encoded data removed]",
      "text/plain": [
       "<Figure size 432x288 with 1 Axes>"
      ]
     },
     "metadata": {
      "needs_background": "light"
     },
     "output_type": "display_data"
    }
   ],
   "source": [
    "# Plot for the sepal length\n",
    "iris_df.sepal_length.plot.density(color='green')\n",
    "plt.title('Density plot for sepal length')\n",
    "plt.show()"
   ]
  },
  {
   "cell_type": "markdown",
   "metadata": {},
   "source": [
    "According to the plot, most of the sepals measure around 6 cm long, and if we compare that value with the ones obtained in our mean, median and mode it is correct."
   ]
  },
  {
   "cell_type": "code",
   "execution_count": 18,
   "metadata": {},
   "outputs": [
    {
     "data": {
      "image/png": "[encoded data removed]",
      "text/plain": [
       "<Figure size 432x288 with 1 Axes>"
      ]
     },
     "metadata": {
      "needs_background": "light"
     },
     "output_type": "display_data"
    }
   ],
   "source": [
    "# Plot for the sepal width\n",
    "iris_df.sepal_width.plot.density(color='red')\n",
    "plt.title('Density plot for sepal width')\n",
    "plt.show()"
   ]
  },
  {
   "cell_type": "markdown",
   "metadata": {},
   "source": [
    "We can observe a clear predominance of 3 cm width, and our values of mean,  median and mode are 3, 3.05 and 3.\n",
    "\n",
    "So we could say in sepals the common points are in one same region, allowing then such a low variance, MAD and standard deviation."
   ]
  },
  {
   "cell_type": "code",
   "execution_count": 19,
   "metadata": {},
   "outputs": [
    {
     "data": {
      "image/png": "[encoded data removed]",
      "text/plain": [
       "<Figure size 432x288 with 1 Axes>"
      ]
     },
     "metadata": {
      "needs_background": "light"
     },
     "output_type": "display_data"
    }
   ],
   "source": [
    "# Plot for the petal length\n",
    "iris_df.petal_length.plot.density(color='blue')\n",
    "plt.title('Density plot for petal length')\n",
    "plt.show()"
   ]
  },
  {
   "cell_type": "code",
   "execution_count": 20,
   "metadata": {},
   "outputs": [
    {
     "data": {
      "image/png": "[encoded data removed]",
      "text/plain": [
       "<Figure size 432x288 with 1 Axes>"
      ]
     },
     "metadata": {
      "needs_background": "light"
     },
     "output_type": "display_data"
    }
   ],
   "source": [
    "# Plot for the petal width\n",
    "iris_df.petal_width.plot.density(color='orange')\n",
    "plt.title('Density plot for petal width')\n",
    "plt.show()"
   ]
  },
  {
   "cell_type": "markdown",
   "metadata": {},
   "source": [
    "In the case of the petals, we have two peaks of density. Therefore, our values of mean, median and mode are not going to coincide with the ones in the plot. Moreover, in petals we observe a higher variance and standard deviation, which is normal taking into account the difference between the common data points."
   ]
  },
  {
   "cell_type": "markdown",
   "metadata": {},
   "source": [
    "#### 4. Create a violin plot for the sepal width feature for each class. What can be seen from the plots?"
   ]
  },
  {
   "cell_type": "code",
   "execution_count": 21,
   "metadata": {},
   "outputs": [
    {
     "data": {
      "text/plain": [
       "0.0    50\n",
       "1.0    50\n",
       "2.0    50\n",
       "Name: Species, dtype: int64"
      ]
     },
     "execution_count": 21,
     "metadata": {},
     "output_type": "execute_result"
    }
   ],
   "source": [
    "iris_df2 = pd.DataFrame(data= np.c_[iris['data'], iris['target']],columns= iris['feature_names'] + ['Species'])\n",
    "\n",
    "iris_df2['Species'].value_counts()"
   ]
  },
  {
   "cell_type": "code",
   "execution_count": 22,
   "metadata": {},
   "outputs": [],
   "source": [
    "setosa = iris_df.iloc[0:49,1]\n",
    "versicolor = iris_df.iloc[50:99,1]\n",
    "virginica = iris_df.iloc[100:149,1]\n",
    "sepal_w = [setosa, versicolor, virginica]"
   ]
  },
  {
   "cell_type": "code",
   "execution_count": 23,
   "metadata": {},
   "outputs": [
    {
     "data": {
      "text/plain": [
       "{'bodies': [<matplotlib.collections.PolyCollection at 0x7fb10f9cbfd0>,\n",
       "  <matplotlib.collections.PolyCollection at 0x7fb10f9de2e0>,\n",
       "  <matplotlib.collections.PolyCollection at 0x7fb10f9de5b0>],\n",
       " 'cmeans': <matplotlib.collections.LineCollection at 0x7fb1706c3ca0>,\n",
       " 'cmaxes': <matplotlib.collections.LineCollection at 0x7fb10f9dea00>,\n",
       " 'cmins': <matplotlib.collections.LineCollection at 0x7fb10f9ded00>,\n",
       " 'cbars': <matplotlib.collections.LineCollection at 0x7fb113f0a100>}"
      ]
     },
     "execution_count": 23,
     "metadata": {},
     "output_type": "execute_result"
    },
    {
     "data": {
      "image/png": "[encoded data removed]",
      "text/plain": [
       "<Figure size 432x288 with 1 Axes>"
      ]
     },
     "metadata": {
      "needs_background": "light"
     },
     "output_type": "display_data"
    }
   ],
   "source": [
    "fig, ax = plt.subplots()\n",
    "\n",
    "ax.violinplot(sepal_w, positions=None, vert=True, widths=0.5, showmeans=True, showextrema=True, showmedians=False, points=100)"
   ]
  },
  {
   "cell_type": "markdown",
   "metadata": {},
   "source": [
    "We observe the difference between the sepal's width of the three species. Setosa is going to have wider sepals than virginica, being versicolor's ones the smallest of the three. "
   ]
  },
  {
   "cell_type": "markdown",
   "metadata": {},
   "source": [
    "------------------------"
   ]
  },
  {
   "cell_type": "markdown",
   "metadata": {},
   "source": [
    "ex2)"
   ]
  },
  {
   "cell_type": "markdown",
   "metadata": {},
   "source": [
    "------------------------"
   ]
  },
  {
   "cell_type": "markdown",
   "metadata": {},
   "source": [
    "#### 1) Load the banknote authentication dataset from the given data_banknote_authentication.csv file. How many rows and columns does the dataset contain? "
   ]
  },
  {
   "cell_type": "code",
   "execution_count": 24,
   "metadata": {},
   "outputs": [
    {
     "name": "stdout",
     "output_type": "stream",
     "text": [
      "   Variance  Skewness  Curtosis  Entropy  Class\n",
      "0       NaN    8.6661   -2.8073 -0.44699    0.0\n",
      "1   4.54590    8.1674   -2.4586 -1.46210    0.0\n",
      "2   3.86600   -2.6383    1.9242      NaN    0.0\n",
      "3   3.45660    9.5228   -4.0112 -3.59440    0.0\n",
      "4   0.32924   -4.4552    4.5718      NaN    0.0\n"
     ]
    }
   ],
   "source": [
    "import pandas as pd\n",
    "#import os\n",
    "path=\"data_banknote_authentication.csv\"\n",
    "dataset=pd.read_csv(path)\n",
    "#print(dataset)\n",
    "print(dataset.head())"
   ]
  },
  {
   "cell_type": "code",
   "execution_count": 25,
   "metadata": {},
   "outputs": [
    {
     "name": "stdout",
     "output_type": "stream",
     "text": [
      "there are 1382 rows and 5 columns in the dataset\n"
     ]
    }
   ],
   "source": [
    "print(f\"there are {len(dataset.index)} rows and {len(dataset.columns)} columns in the dataset\")"
   ]
  },
  {
   "cell_type": "markdown",
   "metadata": {},
   "source": [
    "#### 2) Mention the different types of varaibles.Which types does your dataset contain"
   ]
  },
  {
   "cell_type": "markdown",
   "metadata": {},
   "source": [
    "There  are two main types of variables :Categorical varaible and Numeric variable\n",
    "Categorical also known as quantitative is subdivided into Nominal(no ordering) and ordinal variable(involves order) while Numerical also known as quantitative variable is subdivided into discrete(takes particular values) and continuous variable(measured on a continous scale).The dataset contains continous variables."
   ]
  },
  {
   "cell_type": "markdown",
   "metadata": {},
   "source": [
    "#### 3) Count the number of duplicate rows in the dataset.How can you remove the duplicate rows"
   ]
  },
  {
   "cell_type": "markdown",
   "metadata": {},
   "source": [
    "------------------------"
   ]
  },
  {
   "cell_type": "code",
   "execution_count": 26,
   "metadata": {},
   "outputs": [
    {
     "name": "stdout",
     "output_type": "stream",
     "text": [
      "      Variance  Skewness  Curtosis  Entropy  Class\n",
      "190    0.92970   -3.7971   4.64290 -0.29570    0.0\n",
      "195   -1.85840    7.8860  -1.66430 -1.83840    0.0\n",
      "268    0.92970   -3.7971   4.64290 -0.29570    0.0\n",
      "284   -1.30000   10.2678  -2.95300 -5.86380    0.0\n",
      "300    0.32920   -4.4552   4.57180 -0.98880    0.0\n",
      "315    0.32920   -4.4552   4.57180 -0.98880    0.0\n",
      "345   -1.85840    7.8860  -1.66430 -1.83840    0.0\n",
      "427   -1.30000   10.2678  -2.95300 -5.86380    0.0\n",
      "436    0.37980    0.7098   0.75720 -0.44440    0.0\n",
      "476    0.37980    0.7098   0.75720 -0.44440    0.0\n",
      "615   -0.20620    9.2207  -3.70440 -6.81030    0.0\n",
      "691    0.57060   -0.0248   1.24210 -0.56210    0.0\n",
      "727   -2.64790   10.1374  -1.33100 -5.47070    0.0\n",
      "1372       NaN    8.6661  -2.80730 -0.44699    0.0\n",
      "1373   4.54590    8.1674  -2.45860 -1.46210    0.0\n",
      "1374   3.86600   -2.6383   1.92420      NaN    0.0\n",
      "1375   3.45660    9.5228  -4.01120 -3.59440    0.0\n",
      "1376   0.32924   -4.4552   4.57180      NaN    0.0\n",
      "1377   4.36840    9.6718  -3.96060 -3.16250    0.0\n",
      "1378   3.59120    3.0129   0.72888  0.56421    0.0\n",
      "1379   2.09220   -6.8100       NaN -0.60216    0.0\n",
      "1380   3.20320    5.7588  -0.75345 -0.61251    0.0\n",
      "1381   1.53560    9.1772  -2.27180 -0.73535    0.0\n",
      "There are 23 duplicated rows\n"
     ]
    }
   ],
   "source": [
    "print(dataset.loc[dataset.duplicated(keep=\"first\"),:])\n",
    "dataset.duplicated()\n",
    "print(f\"There are {dataset.duplicated().sum()} duplicated rows\")"
   ]
  },
  {
   "cell_type": "code",
   "execution_count": 27,
   "metadata": {},
   "outputs": [
    {
     "name": "stdout",
     "output_type": "stream",
     "text": [
      "   Variance  Skewness  Curtosis  Entropy  Class\n",
      "0       NaN    8.6661   -2.8073 -0.44699    0.0\n",
      "1   4.54590    8.1674   -2.4586 -1.46210    0.0\n",
      "2   3.86600   -2.6383    1.9242      NaN    0.0\n",
      "3   3.45660    9.5228   -4.0112 -3.59440    0.0\n",
      "4   0.32924   -4.4552    4.5718      NaN    0.0 \n",
      "\n",
      "<class 'pandas.core.frame.DataFrame'>\n",
      "Int64Index: 1359 entries, 0 to 1371\n",
      "Data columns (total 5 columns):\n",
      " #   Column    Non-Null Count  Dtype  \n",
      "---  ------    --------------  -----  \n",
      " 0   Variance  1217 non-null   float64\n",
      " 1   Skewness  1224 non-null   float64\n",
      " 2   Curtosis  1229 non-null   float64\n",
      " 3   Entropy   1215 non-null   float64\n",
      " 4   Class     1224 non-null   float64\n",
      "dtypes: float64(5)\n",
      "memory usage: 63.7 KB\n",
      "None\n"
     ]
    }
   ],
   "source": [
    "drop= dataset.drop_duplicates()\n",
    "#print(drop)\n",
    "print(drop.head(), '\\n')\n",
    "print(drop.info())"
   ]
  },
  {
   "cell_type": "markdown",
   "metadata": {},
   "source": [
    "#### 4) Count the number of missing values in the dataset"
   ]
  },
  {
   "cell_type": "code",
   "execution_count": 28,
   "metadata": {},
   "outputs": [
    {
     "name": "stdout",
     "output_type": "stream",
     "text": [
      "There are 690 missing values in the dataset.\n"
     ]
    }
   ],
   "source": [
    "missing_values= dataset.isna().sum().sum()\n",
    "print(f\"There are {missing_values} missing values in the dataset.\")"
   ]
  },
  {
   "cell_type": "markdown",
   "metadata": {},
   "source": [
    "#### 5) How an you deal with missing values in a dataset? implement one of the possible methods"
   ]
  },
  {
   "cell_type": "markdown",
   "metadata": {},
   "source": [
    "deleting the rows with a null value for a particular feature\n",
    "replacing  the null value with mean meadian or mode\n",
    "assinging a unique category\n",
    "predicting the missing value\n",
    "using algorithms which support missing values"
   ]
  },
  {
   "cell_type": "code",
   "execution_count": 29,
   "metadata": {},
   "outputs": [
    {
     "name": "stdout",
     "output_type": "stream",
     "text": [
      "before:  Variance    143\n",
      "Skewness    135\n",
      "Curtosis    131\n",
      "Entropy     146\n",
      "Class       135\n",
      "dtype: int64 \n",
      "\n",
      "after:  Variance    0\n",
      "Skewness    0\n",
      "Curtosis    0\n",
      "Entropy     0\n",
      "Class       0\n",
      "dtype: int64\n"
     ]
    }
   ],
   "source": [
    "print('before: ', dataset.isna().sum(), '\\n')\n",
    "dataset.fillna(dataset.mean().round(1), inplace=True)\n",
    "print('after: ', dataset.isna().sum())"
   ]
  },
  {
   "cell_type": "markdown",
   "metadata": {},
   "source": [
    "----------------------"
   ]
  },
  {
   "cell_type": "markdown",
   "metadata": {},
   "source": [
    "ex3)"
   ]
  },
  {
   "cell_type": "markdown",
   "metadata": {},
   "source": [
    "----------------------"
   ]
  },
  {
   "cell_type": "markdown",
   "metadata": {},
   "source": [
    "1) Load the dataset from the given dataset.csv file"
   ]
  },
  {
   "cell_type": "code",
   "execution_count": 30,
   "metadata": {},
   "outputs": [],
   "source": [
    "import pandas as pd\n",
    "import seaborn as sns"
   ]
  },
  {
   "cell_type": "code",
   "execution_count": 31,
   "metadata": {},
   "outputs": [
    {
     "name": "stdout",
     "output_type": "stream",
     "text": [
      "   Unnamed: 0  feature_1  feature_2  feature_3  feature_4\n",
      "0           0   0.286672   0.006711   0.178739  -4.997212\n",
      "1           1   0.230586   0.013423   0.351505  -4.297285\n",
      "2           2   0.074979   0.020134   0.879812  -3.884994\n",
      "3           3   0.187541   0.026846   0.226149  -3.590439\n",
      "4           4   0.422490   0.033557   0.424136  -3.360375\n"
     ]
    }
   ],
   "source": [
    "dataset2 = pd.read_csv(\"dataset.csv\")\n",
    "print(dataset2.head())"
   ]
  },
  {
   "cell_type": "markdown",
   "metadata": {},
   "source": [
    "-------------------------"
   ]
  },
  {
   "cell_type": "markdown",
   "metadata": {},
   "source": [
    "2) Plot the scatterplot matrix for the given dataset. What can be seen in the\n",
    "scatterplot matrix?"
   ]
  },
  {
   "cell_type": "code",
   "execution_count": 32,
   "metadata": {},
   "outputs": [
    {
     "data": {
      "text/plain": [
       "array([[<matplotlib.axes._subplots.AxesSubplot object at 0x7fb10f187e20>,\n",
       "        <matplotlib.axes._subplots.AxesSubplot object at 0x7fb10f12d3d0>,\n",
       "        <matplotlib.axes._subplots.AxesSubplot object at 0x7fb10fa14790>,\n",
       "        <matplotlib.axes._subplots.AxesSubplot object at 0x7fb10fa5dd30>],\n",
       "       [<matplotlib.axes._subplots.AxesSubplot object at 0x7fb10fabbe80>,\n",
       "        <matplotlib.axes._subplots.AxesSubplot object at 0x7fb1706cb5b0>,\n",
       "        <matplotlib.axes._subplots.AxesSubplot object at 0x7fb10fae0df0>,\n",
       "        <matplotlib.axes._subplots.AxesSubplot object at 0x7fb111b7d970>],\n",
       "       [<matplotlib.axes._subplots.AxesSubplot object at 0x7fb10fa58400>,\n",
       "        <matplotlib.axes._subplots.AxesSubplot object at 0x7fb10fa970a0>,\n",
       "        <matplotlib.axes._subplots.AxesSubplot object at 0x7fb10f0f1c40>,\n",
       "        <matplotlib.axes._subplots.AxesSubplot object at 0x7fb10f0a64f0>],\n",
       "       [<matplotlib.axes._subplots.AxesSubplot object at 0x7fb10f0d0d30>,\n",
       "        <matplotlib.axes._subplots.AxesSubplot object at 0x7fb10f0855b0>,\n",
       "        <matplotlib.axes._subplots.AxesSubplot object at 0x7fb10f031df0>,\n",
       "        <matplotlib.axes._subplots.AxesSubplot object at 0x7fb10efe3670>]],\n",
       "      dtype=object)"
      ]
     },
     "execution_count": 32,
     "metadata": {},
     "output_type": "execute_result"
    },
    {
     "data": {
      "image/png": "[encoded data removed]",
      "text/plain": [
       "<Figure size 720x720 with 16 Axes>"
      ]
     },
     "metadata": {
      "needs_background": "light"
     },
     "output_type": "display_data"
    }
   ],
   "source": [
    "pd.plotting.scatter_matrix(dataset2.iloc[:,1:], figsize=(10,10))"
   ]
  },
  {
   "cell_type": "markdown",
   "metadata": {},
   "source": [
    "scatter_matrix shows correlation between different features. feature 1-2 and 1-4 have positive weak correlation, 1-3 has no correlation, 2-4 has positive strong correlation between them."
   ]
  },
  {
   "cell_type": "markdown",
   "metadata": {},
   "source": [
    "-------------------------"
   ]
  },
  {
   "cell_type": "markdown",
   "metadata": {},
   "source": [
    "3) Which correlation would suit the comparison of feature_1 and feature_3?\n",
    "Calculate the relevant correlation coefficient for the 2 features"
   ]
  },
  {
   "cell_type": "code",
   "execution_count": 33,
   "metadata": {},
   "outputs": [
    {
     "name": "stdout",
     "output_type": "stream",
     "text": [
      "pearson: \n",
      "            feature_1  feature_3\n",
      "feature_1   1.000000  -0.004628\n",
      "feature_3  -0.004628   1.000000 \n",
      "\n",
      "kendall: \n",
      "            feature_1  feature_3\n",
      "feature_1   1.000000  -0.006251\n",
      "feature_3  -0.006251   1.000000 \n",
      "\n",
      "spearman: \n",
      "            feature_1  feature_3\n",
      "feature_1    1.00000   -0.01755\n",
      "feature_3   -0.01755    1.00000 \n",
      "\n"
     ]
    }
   ],
   "source": [
    "dataset_corr = dataset2[['feature_1','feature_3']]\n",
    "\n",
    "print('pearson: \\n', dataset_corr.corr(method='pearson'), '\\n')\n",
    "print('kendall: \\n', dataset_corr.corr(method='kendall'), '\\n')\n",
    "print('spearman: \\n', dataset_corr.corr(method='spearman'), '\\n')"
   ]
  },
  {
   "cell_type": "markdown",
   "metadata": {},
   "source": [
    " there is no obvious correlation between them, and lowest negative correlation is pearson"
   ]
  },
  {
   "cell_type": "markdown",
   "metadata": {},
   "source": [
    "-----------------------------"
   ]
  },
  {
   "cell_type": "markdown",
   "metadata": {},
   "source": [
    "4) Plot the correlation heatmap of the entire dataset"
   ]
  },
  {
   "cell_type": "code",
   "execution_count": 34,
   "metadata": {},
   "outputs": [
    {
     "data": {
      "text/plain": [
       "<matplotlib.axes._subplots.AxesSubplot at 0x7fb10efacb50>"
      ]
     },
     "execution_count": 34,
     "metadata": {},
     "output_type": "execute_result"
    },
    {
     "data": {
      "image/png": "[encoded data removed]",
      "text/plain": [
       "<Figure size 432x288 with 2 Axes>"
      ]
     },
     "metadata": {
      "needs_background": "light"
     },
     "output_type": "display_data"
    }
   ],
   "source": [
    "\n",
    "sns.heatmap(dataset2.iloc[:,1:].corr(method='pearson'), xticklabels=dataset2.iloc[:,1:].columns, yticklabels=dataset2.iloc[:,1:].columns, annot=True)"
   ]
  },
  {
   "cell_type": "markdown",
   "metadata": {},
   "source": [
    "--------------------------"
   ]
  },
  {
   "cell_type": "code",
   "execution_count": null,
   "metadata": {},
   "outputs": [],
   "source": []
  }
 ],
 "metadata": {
  "interpreter": {
   "hash": "916dbcbb3f70747c44a77c7bcd40155683ae19c65e1c03b4aa3499c5328201f1"
  },
  "kernelspec": {
   "display_name": "Python 3 (ipykernel)",
   "language": "python",
   "name": "python3"
  },
  "language_info": {
   "codemirror_mode": {
    "name": "ipython",
    "version": 3
   },
   "file_extension": ".py",
   "mimetype": "text/x-python",
   "name": "python",
   "nbconvert_exporter": "python",
   "pygments_lexer": "ipython3",
   "version": "3.8.10"
  }
 },
 "nbformat": 4,
 "nbformat_minor": 2
}
