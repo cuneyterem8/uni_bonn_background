{
 "cells": [
  {
   "cell_type": "markdown",
   "metadata": {},
   "source": [
    "### Exercise sheet 3"
   ]
  },
  {
   "cell_type": "markdown",
   "metadata": {},
   "source": [
    "Cüneyt Erem\n",
    "3277992\n",
    "s6cuerem@uni-bonn.de\n",
    "\n",
    "Nkeh Victor Ndiwago\n",
    "3504121\n",
    "s0vinkeh@uni-bonn.de\n",
    "\n",
    "Paula Romero Jiménez\n",
    "3320220\n",
    "s0parome@uni-bonn.de"
   ]
  },
  {
   "cell_type": "markdown",
   "metadata": {},
   "source": [
    "------------------------------------------------"
   ]
  },
  {
   "cell_type": "markdown",
   "metadata": {},
   "source": [
    "ex1))"
   ]
  },
  {
   "cell_type": "markdown",
   "metadata": {},
   "source": [
    "------------------------------------------------"
   ]
  },
  {
   "cell_type": "markdown",
   "metadata": {},
   "source": [
    "1)) You want to predict whether a patient will develop lung cancer, and you are given the years of smoking as well as their age as a feature.Considering the equation of the logistic regression,what are X and Y in this case? "
   ]
  },
  {
   "cell_type": "markdown",
   "metadata": {},
   "source": [
    "The independent (predictor) variable  X  is  the years of smoking and age\n",
    "The dependent variable Y is lung cancer\n"
   ]
  },
  {
   "cell_type": "markdown",
   "metadata": {},
   "source": [
    "------------------------------------------------"
   ]
  },
  {
   "cell_type": "markdown",
   "metadata": {},
   "source": [
    "2)) What  are  the  outputs  of  the logistic  model  and  the  logistic  function?  What  are  their ranges?  "
   ]
  },
  {
   "cell_type": "markdown",
   "metadata": {},
   "source": [
    "logistic function;\n",
    "\n",
    "$ p(x) = \\dfrac{1}{1+\\exp-(\\beta_0 + \\beta1x)} $\n",
    " \n",
    "logistic regression model, log likelihhod will be;\n",
    "\n",
    "l(x) = $\\sum_{k=1}^{K} {y_k \\log_b p(x_k)} + \\sum_{k=1}^{K} { (1 - y_k) \\log_b (1 - p(x_k))}$\n",
    "\n",
    "\n",
    "logistic function models probabilities p(X) using a function that gives outputs between 0 and 1 that is 0<p(x)<1.\n",
    "\n",
    "Same range is for logistic regression model as between 0 and 1 that is 0<l(x)<1"
   ]
  },
  {
   "cell_type": "markdown",
   "metadata": {},
   "source": [
    "------------------------------------------------"
   ]
  },
  {
   "cell_type": "markdown",
   "metadata": {},
   "source": [
    "3)) \n",
    "\n",
    "We want to assess the statisticalsignificance of the predictor mean radius. Let us say we have two different models to estimate the target variable:\n",
    "Model 1 has all nine predictor variables.\n",
    "Model 2 has eight predictor variables, all but the ‘mean radius’.\n",
    "What is our null hypothesis here? \n",
    "Which statistical test would you apply to compare the fit of the two models? \n",
    "Which result of the statistical test would let you conclude whether the predictor variable ‘mean radius’ is statistically significant or not?"
   ]
  },
  {
   "cell_type": "markdown",
   "metadata": {},
   "source": [
    "-we want to determine wether there is a significant difference in the two models one with the predictor mean radius and the other without.\n",
    "-Null Hypothesis:all regression coefficients are zero (differences in group mean) .\n",
    "-The ANOVA-Ftest\n",
    "-The p-value is used to conclude.A low p-value <0.05 means we reject the null hypothesis.in other words, a predictor that has a low p-value is likely to be a meaningful addition to your model because changes in the predictor's value are related to changes in the response variable."
   ]
  },
  {
   "cell_type": "markdown",
   "metadata": {},
   "source": [
    "------------------------------------------------"
   ]
  },
  {
   "cell_type": "markdown",
   "metadata": {},
   "source": [
    "4)) Which assumptions have to be fufilled to apply logistic regression? are they fufilled in this example?"
   ]
  },
  {
   "cell_type": "markdown",
   "metadata": {},
   "source": [
    "-Fitting of logistic regression models is done in an iterative process(Newton-Raphson method)-Non-convergence may occur due to violation of model assumptions:Linear class separation possible with not too large class overlap.  No colinearities among regressor variables"
   ]
  },
  {
   "cell_type": "markdown",
   "metadata": {},
   "source": [
    "------------------------------------------------"
   ]
  },
  {
   "cell_type": "markdown",
   "metadata": {},
   "source": [
    "ex2))"
   ]
  },
  {
   "cell_type": "markdown",
   "metadata": {},
   "source": [
    "------------------------------------------------"
   ]
  },
  {
   "cell_type": "code",
   "execution_count": 1,
   "metadata": {},
   "outputs": [],
   "source": [
    "import numpy as np\n",
    "import pandas as pd\n",
    "import seaborn as sns\n",
    "import statsmodels as sm"
   ]
  },
  {
   "cell_type": "markdown",
   "metadata": {},
   "source": [
    "#### 1. Data correlation"
   ]
  },
  {
   "cell_type": "markdown",
   "metadata": {},
   "source": [
    "_a. Load the raw Diabetes CSV file onto your notebook, which its data has not\n",
    "been standardized (file: diabetes_raw.csv). Create separate dataframes for the target variable (“Y”) and the input variables (all columns except “Y”). Examine the correlation properties between the input variables by plotting a correlation heatmap using the Pandas corr() function and the Seaborn heatmap() function. (1P)_"
   ]
  },
  {
   "cell_type": "code",
   "execution_count": 2,
   "metadata": {},
   "outputs": [
    {
     "data": {
      "text/html": [
       "<div>\n",
       "<style scoped>\n",
       "    .dataframe tbody tr th:only-of-type {\n",
       "        vertical-align: middle;\n",
       "    }\n",
       "\n",
       "    .dataframe tbody tr th {\n",
       "        vertical-align: top;\n",
       "    }\n",
       "\n",
       "    .dataframe thead th {\n",
       "        text-align: right;\n",
       "    }\n",
       "</style>\n",
       "<table border=\"1\" class=\"dataframe\">\n",
       "  <thead>\n",
       "    <tr style=\"text-align: right;\">\n",
       "      <th></th>\n",
       "      <th>AGE</th>\n",
       "      <th>SEX</th>\n",
       "      <th>BMI</th>\n",
       "      <th>BP</th>\n",
       "      <th>S1</th>\n",
       "      <th>S2</th>\n",
       "      <th>S3</th>\n",
       "      <th>S4</th>\n",
       "      <th>S5</th>\n",
       "      <th>S6</th>\n",
       "      <th>Y</th>\n",
       "    </tr>\n",
       "  </thead>\n",
       "  <tbody>\n",
       "    <tr>\n",
       "      <th>0</th>\n",
       "      <td>59</td>\n",
       "      <td>2</td>\n",
       "      <td>32.1</td>\n",
       "      <td>101.0</td>\n",
       "      <td>157</td>\n",
       "      <td>93.2</td>\n",
       "      <td>38.0</td>\n",
       "      <td>4.0</td>\n",
       "      <td>4.8598</td>\n",
       "      <td>87</td>\n",
       "      <td>151</td>\n",
       "    </tr>\n",
       "    <tr>\n",
       "      <th>1</th>\n",
       "      <td>48</td>\n",
       "      <td>1</td>\n",
       "      <td>21.6</td>\n",
       "      <td>87.0</td>\n",
       "      <td>183</td>\n",
       "      <td>103.2</td>\n",
       "      <td>70.0</td>\n",
       "      <td>3.0</td>\n",
       "      <td>3.8918</td>\n",
       "      <td>69</td>\n",
       "      <td>75</td>\n",
       "    </tr>\n",
       "    <tr>\n",
       "      <th>2</th>\n",
       "      <td>72</td>\n",
       "      <td>2</td>\n",
       "      <td>30.5</td>\n",
       "      <td>93.0</td>\n",
       "      <td>156</td>\n",
       "      <td>93.6</td>\n",
       "      <td>41.0</td>\n",
       "      <td>4.0</td>\n",
       "      <td>4.6728</td>\n",
       "      <td>85</td>\n",
       "      <td>141</td>\n",
       "    </tr>\n",
       "    <tr>\n",
       "      <th>3</th>\n",
       "      <td>24</td>\n",
       "      <td>1</td>\n",
       "      <td>25.3</td>\n",
       "      <td>84.0</td>\n",
       "      <td>198</td>\n",
       "      <td>131.4</td>\n",
       "      <td>40.0</td>\n",
       "      <td>5.0</td>\n",
       "      <td>4.8903</td>\n",
       "      <td>89</td>\n",
       "      <td>206</td>\n",
       "    </tr>\n",
       "    <tr>\n",
       "      <th>4</th>\n",
       "      <td>50</td>\n",
       "      <td>1</td>\n",
       "      <td>23.0</td>\n",
       "      <td>101.0</td>\n",
       "      <td>192</td>\n",
       "      <td>125.4</td>\n",
       "      <td>52.0</td>\n",
       "      <td>4.0</td>\n",
       "      <td>4.2905</td>\n",
       "      <td>80</td>\n",
       "      <td>135</td>\n",
       "    </tr>\n",
       "  </tbody>\n",
       "</table>\n",
       "</div>"
      ],
      "text/plain": [
       "   AGE  SEX   BMI     BP   S1     S2    S3   S4      S5  S6    Y\n",
       "0   59    2  32.1  101.0  157   93.2  38.0  4.0  4.8598  87  151\n",
       "1   48    1  21.6   87.0  183  103.2  70.0  3.0  3.8918  69   75\n",
       "2   72    2  30.5   93.0  156   93.6  41.0  4.0  4.6728  85  141\n",
       "3   24    1  25.3   84.0  198  131.4  40.0  5.0  4.8903  89  206\n",
       "4   50    1  23.0  101.0  192  125.4  52.0  4.0  4.2905  80  135"
      ]
     },
     "execution_count": 2,
     "metadata": {},
     "output_type": "execute_result"
    }
   ],
   "source": [
    "diabetes = pd.read_csv('diabetes_raw.csv')\n",
    "diabetes.head()"
   ]
  },
  {
   "cell_type": "code",
   "execution_count": 3,
   "metadata": {},
   "outputs": [
    {
     "data": {
      "text/html": [
       "<div>\n",
       "<style scoped>\n",
       "    .dataframe tbody tr th:only-of-type {\n",
       "        vertical-align: middle;\n",
       "    }\n",
       "\n",
       "    .dataframe tbody tr th {\n",
       "        vertical-align: top;\n",
       "    }\n",
       "\n",
       "    .dataframe thead th {\n",
       "        text-align: right;\n",
       "    }\n",
       "</style>\n",
       "<table border=\"1\" class=\"dataframe\">\n",
       "  <thead>\n",
       "    <tr style=\"text-align: right;\">\n",
       "      <th></th>\n",
       "      <th>Y</th>\n",
       "    </tr>\n",
       "  </thead>\n",
       "  <tbody>\n",
       "    <tr>\n",
       "      <th>0</th>\n",
       "      <td>151</td>\n",
       "    </tr>\n",
       "    <tr>\n",
       "      <th>1</th>\n",
       "      <td>75</td>\n",
       "    </tr>\n",
       "    <tr>\n",
       "      <th>2</th>\n",
       "      <td>141</td>\n",
       "    </tr>\n",
       "    <tr>\n",
       "      <th>3</th>\n",
       "      <td>206</td>\n",
       "    </tr>\n",
       "    <tr>\n",
       "      <th>4</th>\n",
       "      <td>135</td>\n",
       "    </tr>\n",
       "  </tbody>\n",
       "</table>\n",
       "</div>"
      ],
      "text/plain": [
       "     Y\n",
       "0  151\n",
       "1   75\n",
       "2  141\n",
       "3  206\n",
       "4  135"
      ]
     },
     "execution_count": 3,
     "metadata": {},
     "output_type": "execute_result"
    }
   ],
   "source": [
    "diabetes_target = pd.DataFrame(diabetes, columns=['Y'])\n",
    "diabetes_target.head()"
   ]
  },
  {
   "cell_type": "code",
   "execution_count": 4,
   "metadata": {},
   "outputs": [
    {
     "data": {
      "text/html": [
       "<div>\n",
       "<style scoped>\n",
       "    .dataframe tbody tr th:only-of-type {\n",
       "        vertical-align: middle;\n",
       "    }\n",
       "\n",
       "    .dataframe tbody tr th {\n",
       "        vertical-align: top;\n",
       "    }\n",
       "\n",
       "    .dataframe thead th {\n",
       "        text-align: right;\n",
       "    }\n",
       "</style>\n",
       "<table border=\"1\" class=\"dataframe\">\n",
       "  <thead>\n",
       "    <tr style=\"text-align: right;\">\n",
       "      <th></th>\n",
       "      <th>AGE</th>\n",
       "      <th>SEX</th>\n",
       "      <th>BMI</th>\n",
       "      <th>BP</th>\n",
       "      <th>S1</th>\n",
       "      <th>S2</th>\n",
       "      <th>S3</th>\n",
       "      <th>S4</th>\n",
       "      <th>S5</th>\n",
       "      <th>S6</th>\n",
       "    </tr>\n",
       "  </thead>\n",
       "  <tbody>\n",
       "    <tr>\n",
       "      <th>0</th>\n",
       "      <td>59</td>\n",
       "      <td>2</td>\n",
       "      <td>32.1</td>\n",
       "      <td>101.0</td>\n",
       "      <td>157</td>\n",
       "      <td>93.2</td>\n",
       "      <td>38.0</td>\n",
       "      <td>4.0</td>\n",
       "      <td>4.8598</td>\n",
       "      <td>87</td>\n",
       "    </tr>\n",
       "    <tr>\n",
       "      <th>1</th>\n",
       "      <td>48</td>\n",
       "      <td>1</td>\n",
       "      <td>21.6</td>\n",
       "      <td>87.0</td>\n",
       "      <td>183</td>\n",
       "      <td>103.2</td>\n",
       "      <td>70.0</td>\n",
       "      <td>3.0</td>\n",
       "      <td>3.8918</td>\n",
       "      <td>69</td>\n",
       "    </tr>\n",
       "    <tr>\n",
       "      <th>2</th>\n",
       "      <td>72</td>\n",
       "      <td>2</td>\n",
       "      <td>30.5</td>\n",
       "      <td>93.0</td>\n",
       "      <td>156</td>\n",
       "      <td>93.6</td>\n",
       "      <td>41.0</td>\n",
       "      <td>4.0</td>\n",
       "      <td>4.6728</td>\n",
       "      <td>85</td>\n",
       "    </tr>\n",
       "    <tr>\n",
       "      <th>3</th>\n",
       "      <td>24</td>\n",
       "      <td>1</td>\n",
       "      <td>25.3</td>\n",
       "      <td>84.0</td>\n",
       "      <td>198</td>\n",
       "      <td>131.4</td>\n",
       "      <td>40.0</td>\n",
       "      <td>5.0</td>\n",
       "      <td>4.8903</td>\n",
       "      <td>89</td>\n",
       "    </tr>\n",
       "    <tr>\n",
       "      <th>4</th>\n",
       "      <td>50</td>\n",
       "      <td>1</td>\n",
       "      <td>23.0</td>\n",
       "      <td>101.0</td>\n",
       "      <td>192</td>\n",
       "      <td>125.4</td>\n",
       "      <td>52.0</td>\n",
       "      <td>4.0</td>\n",
       "      <td>4.2905</td>\n",
       "      <td>80</td>\n",
       "    </tr>\n",
       "  </tbody>\n",
       "</table>\n",
       "</div>"
      ],
      "text/plain": [
       "   AGE  SEX   BMI     BP   S1     S2    S3   S4      S5  S6\n",
       "0   59    2  32.1  101.0  157   93.2  38.0  4.0  4.8598  87\n",
       "1   48    1  21.6   87.0  183  103.2  70.0  3.0  3.8918  69\n",
       "2   72    2  30.5   93.0  156   93.6  41.0  4.0  4.6728  85\n",
       "3   24    1  25.3   84.0  198  131.4  40.0  5.0  4.8903  89\n",
       "4   50    1  23.0  101.0  192  125.4  52.0  4.0  4.2905  80"
      ]
     },
     "execution_count": 4,
     "metadata": {},
     "output_type": "execute_result"
    }
   ],
   "source": [
    "diabetes_input = pd.DataFrame(diabetes, columns=['AGE','SEX','BMI','BP','S1','S2','S3','S4','S5','S6'])\n",
    "diabetes_input.head()"
   ]
  },
  {
   "cell_type": "code",
   "execution_count": 5,
   "metadata": {},
   "outputs": [
    {
     "data": {
      "text/html": [
       "<div>\n",
       "<style scoped>\n",
       "    .dataframe tbody tr th:only-of-type {\n",
       "        vertical-align: middle;\n",
       "    }\n",
       "\n",
       "    .dataframe tbody tr th {\n",
       "        vertical-align: top;\n",
       "    }\n",
       "\n",
       "    .dataframe thead th {\n",
       "        text-align: right;\n",
       "    }\n",
       "</style>\n",
       "<table border=\"1\" class=\"dataframe\">\n",
       "  <thead>\n",
       "    <tr style=\"text-align: right;\">\n",
       "      <th></th>\n",
       "      <th>AGE</th>\n",
       "      <th>SEX</th>\n",
       "      <th>BMI</th>\n",
       "      <th>BP</th>\n",
       "      <th>S1</th>\n",
       "      <th>S2</th>\n",
       "      <th>S3</th>\n",
       "      <th>S4</th>\n",
       "      <th>S5</th>\n",
       "      <th>S6</th>\n",
       "    </tr>\n",
       "  </thead>\n",
       "  <tbody>\n",
       "    <tr>\n",
       "      <th>AGE</th>\n",
       "      <td>1.000000</td>\n",
       "      <td>0.173737</td>\n",
       "      <td>0.185085</td>\n",
       "      <td>0.335428</td>\n",
       "      <td>0.260061</td>\n",
       "      <td>0.219243</td>\n",
       "      <td>-0.075181</td>\n",
       "      <td>0.203841</td>\n",
       "      <td>0.270774</td>\n",
       "      <td>0.301731</td>\n",
       "    </tr>\n",
       "    <tr>\n",
       "      <th>SEX</th>\n",
       "      <td>0.173737</td>\n",
       "      <td>1.000000</td>\n",
       "      <td>0.088161</td>\n",
       "      <td>0.241010</td>\n",
       "      <td>0.035277</td>\n",
       "      <td>0.142637</td>\n",
       "      <td>-0.379090</td>\n",
       "      <td>0.332115</td>\n",
       "      <td>0.149916</td>\n",
       "      <td>0.208133</td>\n",
       "    </tr>\n",
       "    <tr>\n",
       "      <th>BMI</th>\n",
       "      <td>0.185085</td>\n",
       "      <td>0.088161</td>\n",
       "      <td>1.000000</td>\n",
       "      <td>0.395411</td>\n",
       "      <td>0.249777</td>\n",
       "      <td>0.261170</td>\n",
       "      <td>-0.366811</td>\n",
       "      <td>0.413807</td>\n",
       "      <td>0.446157</td>\n",
       "      <td>0.388680</td>\n",
       "    </tr>\n",
       "    <tr>\n",
       "      <th>BP</th>\n",
       "      <td>0.335428</td>\n",
       "      <td>0.241010</td>\n",
       "      <td>0.395411</td>\n",
       "      <td>1.000000</td>\n",
       "      <td>0.242464</td>\n",
       "      <td>0.185548</td>\n",
       "      <td>-0.178762</td>\n",
       "      <td>0.257650</td>\n",
       "      <td>0.393480</td>\n",
       "      <td>0.390430</td>\n",
       "    </tr>\n",
       "    <tr>\n",
       "      <th>S1</th>\n",
       "      <td>0.260061</td>\n",
       "      <td>0.035277</td>\n",
       "      <td>0.249777</td>\n",
       "      <td>0.242464</td>\n",
       "      <td>1.000000</td>\n",
       "      <td>0.896663</td>\n",
       "      <td>0.051519</td>\n",
       "      <td>0.542207</td>\n",
       "      <td>0.515503</td>\n",
       "      <td>0.325717</td>\n",
       "    </tr>\n",
       "    <tr>\n",
       "      <th>S2</th>\n",
       "      <td>0.219243</td>\n",
       "      <td>0.142637</td>\n",
       "      <td>0.261170</td>\n",
       "      <td>0.185548</td>\n",
       "      <td>0.896663</td>\n",
       "      <td>1.000000</td>\n",
       "      <td>-0.196455</td>\n",
       "      <td>0.659817</td>\n",
       "      <td>0.318357</td>\n",
       "      <td>0.290600</td>\n",
       "    </tr>\n",
       "    <tr>\n",
       "      <th>S3</th>\n",
       "      <td>-0.075181</td>\n",
       "      <td>-0.379090</td>\n",
       "      <td>-0.366811</td>\n",
       "      <td>-0.178762</td>\n",
       "      <td>0.051519</td>\n",
       "      <td>-0.196455</td>\n",
       "      <td>1.000000</td>\n",
       "      <td>-0.738493</td>\n",
       "      <td>-0.398577</td>\n",
       "      <td>-0.273697</td>\n",
       "    </tr>\n",
       "    <tr>\n",
       "      <th>S4</th>\n",
       "      <td>0.203841</td>\n",
       "      <td>0.332115</td>\n",
       "      <td>0.413807</td>\n",
       "      <td>0.257650</td>\n",
       "      <td>0.542207</td>\n",
       "      <td>0.659817</td>\n",
       "      <td>-0.738493</td>\n",
       "      <td>1.000000</td>\n",
       "      <td>0.617859</td>\n",
       "      <td>0.417212</td>\n",
       "    </tr>\n",
       "    <tr>\n",
       "      <th>S5</th>\n",
       "      <td>0.270774</td>\n",
       "      <td>0.149916</td>\n",
       "      <td>0.446157</td>\n",
       "      <td>0.393480</td>\n",
       "      <td>0.515503</td>\n",
       "      <td>0.318357</td>\n",
       "      <td>-0.398577</td>\n",
       "      <td>0.617859</td>\n",
       "      <td>1.000000</td>\n",
       "      <td>0.464669</td>\n",
       "    </tr>\n",
       "    <tr>\n",
       "      <th>S6</th>\n",
       "      <td>0.301731</td>\n",
       "      <td>0.208133</td>\n",
       "      <td>0.388680</td>\n",
       "      <td>0.390430</td>\n",
       "      <td>0.325717</td>\n",
       "      <td>0.290600</td>\n",
       "      <td>-0.273697</td>\n",
       "      <td>0.417212</td>\n",
       "      <td>0.464669</td>\n",
       "      <td>1.000000</td>\n",
       "    </tr>\n",
       "  </tbody>\n",
       "</table>\n",
       "</div>"
      ],
      "text/plain": [
       "          AGE       SEX       BMI        BP        S1        S2        S3  \\\n",
       "AGE  1.000000  0.173737  0.185085  0.335428  0.260061  0.219243 -0.075181   \n",
       "SEX  0.173737  1.000000  0.088161  0.241010  0.035277  0.142637 -0.379090   \n",
       "BMI  0.185085  0.088161  1.000000  0.395411  0.249777  0.261170 -0.366811   \n",
       "BP   0.335428  0.241010  0.395411  1.000000  0.242464  0.185548 -0.178762   \n",
       "S1   0.260061  0.035277  0.249777  0.242464  1.000000  0.896663  0.051519   \n",
       "S2   0.219243  0.142637  0.261170  0.185548  0.896663  1.000000 -0.196455   \n",
       "S3  -0.075181 -0.379090 -0.366811 -0.178762  0.051519 -0.196455  1.000000   \n",
       "S4   0.203841  0.332115  0.413807  0.257650  0.542207  0.659817 -0.738493   \n",
       "S5   0.270774  0.149916  0.446157  0.393480  0.515503  0.318357 -0.398577   \n",
       "S6   0.301731  0.208133  0.388680  0.390430  0.325717  0.290600 -0.273697   \n",
       "\n",
       "           S4        S5        S6  \n",
       "AGE  0.203841  0.270774  0.301731  \n",
       "SEX  0.332115  0.149916  0.208133  \n",
       "BMI  0.413807  0.446157  0.388680  \n",
       "BP   0.257650  0.393480  0.390430  \n",
       "S1   0.542207  0.515503  0.325717  \n",
       "S2   0.659817  0.318357  0.290600  \n",
       "S3  -0.738493 -0.398577 -0.273697  \n",
       "S4   1.000000  0.617859  0.417212  \n",
       "S5   0.617859  1.000000  0.464669  \n",
       "S6   0.417212  0.464669  1.000000  "
      ]
     },
     "execution_count": 5,
     "metadata": {},
     "output_type": "execute_result"
    }
   ],
   "source": [
    "diabetes_input.corr()"
   ]
  },
  {
   "cell_type": "code",
   "execution_count": 6,
   "metadata": {},
   "outputs": [
    {
     "data": {
      "text/plain": [
       "<matplotlib.axes._subplots.AxesSubplot at 0x7fa3d6f47400>"
      ]
     },
     "execution_count": 6,
     "metadata": {},
     "output_type": "execute_result"
    },
    {
     "data": {
      "image/png": "[encoded data removed]",
      "text/plain": [
       "<Figure size 432x288 with 2 Axes>"
      ]
     },
     "metadata": {
      "needs_background": "light"
     },
     "output_type": "display_data"
    }
   ],
   "source": [
    "sns.heatmap(diabetes_input.iloc[:,1:].corr(), xticklabels=diabetes_input.iloc[:,1:].columns, yticklabels=diabetes_input.iloc[:,1:].columns, annot=True)"
   ]
  },
  {
   "cell_type": "markdown",
   "metadata": {},
   "source": [
    "_b. Observe the variable “S3” (high-density lipoproteins) at the correlation plot. Which variable has the strongest positive correlation with it, and which variable has the strongest negative correlation with it? (1P)_"
   ]
  },
  {
   "cell_type": "markdown",
   "metadata": {},
   "source": [
    "The variable with the strongest positive correlation with S3 is S1, and with the strongest negative correlation is S4."
   ]
  },
  {
   "cell_type": "markdown",
   "metadata": {},
   "source": [
    "------------------------------------------------"
   ]
  },
  {
   "cell_type": "markdown",
   "metadata": {},
   "source": [
    "#### 2. Data standardization"
   ]
  },
  {
   "cell_type": "markdown",
   "metadata": {},
   "source": [
    "_a. Read this article to learn more about when and why we need to standardize variables in a regression model: https://statisticsbyjim.com/regression/standardize-variables-regression/. (1P)_"
   ]
  },
  {
   "cell_type": "markdown",
   "metadata": {},
   "source": [
    "_b. Scale the range of the Diabetes dataset using the Sklearn StandardScaler() function. Perform two linear regression analysis using the Statsmodels OLS function: one for the standardized, and one for the non-standardized datasets. Which differences do you observe at the outcome summary? Explain the reasons behind these differences. (2P)_"
   ]
  },
  {
   "cell_type": "code",
   "execution_count": 7,
   "metadata": {},
   "outputs": [],
   "source": [
    "from sklearn import preprocessing\n",
    "import statsmodels.api as sm"
   ]
  },
  {
   "cell_type": "code",
   "execution_count": 8,
   "metadata": {},
   "outputs": [
    {
     "name": "stdout",
     "output_type": "stream",
     "text": [
      "                                 OLS Regression Results                                \n",
      "=======================================================================================\n",
      "Dep. Variable:                      Y   R-squared (uncentered):                   0.896\n",
      "Model:                            OLS   Adj. R-squared (uncentered):              0.894\n",
      "Method:                 Least Squares   F-statistic:                              372.3\n",
      "Date:                Tue, 03 May 2022   Prob (F-statistic):                   2.76e-205\n",
      "Time:                        22:49:35   Log-Likelihood:                         -2398.3\n",
      "No. Observations:                 442   AIC:                                      4817.\n",
      "Df Residuals:                     432   BIC:                                      4857.\n",
      "Df Model:                          10                                                  \n",
      "Covariance Type:            nonrobust                                                  \n",
      "==============================================================================\n",
      "                 coef    std err          t      P>|t|      [0.025      0.975]\n",
      "------------------------------------------------------------------------------\n",
      "AGE            0.0223      0.223      0.100      0.920      -0.415       0.460\n",
      "SEX          -26.0728      5.956     -4.378      0.000     -37.779     -14.366\n",
      "BMI            5.3537      0.735      7.288      0.000       3.910       6.798\n",
      "BP             1.0178      0.230      4.418      0.000       0.565       1.471\n",
      "S1             1.2636      0.330      3.824      0.000       0.614       1.913\n",
      "S2            -1.2849      0.347     -3.705      0.000      -1.967      -0.603\n",
      "S3            -3.0683      0.372     -8.250      0.000      -3.799      -2.337\n",
      "S4            -5.5080      5.588     -0.986      0.325     -16.492       5.476\n",
      "S5             5.5034      9.429      0.584      0.560     -13.030      24.036\n",
      "S6             0.1234      0.279      0.443      0.658      -0.425       0.671\n",
      "==============================================================================\n",
      "Omnibus:                        2.175   Durbin-Watson:                   1.990\n",
      "Prob(Omnibus):                  0.337   Jarque-Bera (JB):                2.000\n",
      "Skew:                           0.081   Prob(JB):                        0.368\n",
      "Kurtosis:                       2.713   Cond. No.                     1.02e+03\n",
      "==============================================================================\n",
      "\n",
      "Notes:\n",
      "[1] R² is computed without centering (uncentered) since the model does not contain a constant.\n",
      "[2] Standard Errors assume that the covariance matrix of the errors is correctly specified.\n",
      "[3] The condition number is large, 1.02e+03. This might indicate that there are\n",
      "strong multicollinearity or other numerical problems.\n"
     ]
    }
   ],
   "source": [
    "X = diabetes[['AGE','SEX','BMI','BP','S1','S2','S3','S4','S5','S6']]\n",
    "Y = diabetes[['Y']]\n",
    "model = sm.OLS(Y,X).fit()\n",
    "print(model.summary())"
   ]
  },
  {
   "cell_type": "code",
   "execution_count": 9,
   "metadata": {},
   "outputs": [
    {
     "name": "stdout",
     "output_type": "stream",
     "text": [
      "                                 OLS Regression Results                                \n",
      "=======================================================================================\n",
      "Dep. Variable:                      y   R-squared (uncentered):                   0.518\n",
      "Model:                            OLS   Adj. R-squared (uncentered):              0.507\n",
      "Method:                 Least Squares   F-statistic:                              46.38\n",
      "Date:                Tue, 03 May 2022   Prob (F-statistic):                    2.68e-62\n",
      "Time:                        22:49:35   Log-Likelihood:                         -466.00\n",
      "No. Observations:                 442   AIC:                                      952.0\n",
      "Df Residuals:                     432   BIC:                                      992.9\n",
      "Df Model:                          10                                                  \n",
      "Covariance Type:            nonrobust                                                  \n",
      "==============================================================================\n",
      "                 coef    std err          t      P>|t|      [0.025      0.975]\n",
      "------------------------------------------------------------------------------\n",
      "x1            -0.0062      0.037     -0.168      0.867      -0.079       0.066\n",
      "x2            -0.1481      0.038     -3.922      0.000      -0.222      -0.074\n",
      "x3             0.3211      0.041      7.822      0.000       0.240       0.402\n",
      "x4             0.2004      0.040      4.964      0.000       0.121       0.280\n",
      "x5            -0.4893      0.257     -1.903      0.058      -0.995       0.016\n",
      "x6             0.2945      0.209      1.408      0.160      -0.117       0.706\n",
      "x7             0.0624      0.131      0.476      0.634      -0.195       0.320\n",
      "x8             0.1094      0.100      1.098      0.273      -0.086       0.305\n",
      "x9             0.4640      0.106      4.375      0.000       0.256       0.673\n",
      "x10            0.0418      0.041      1.026      0.305      -0.038       0.122\n",
      "==============================================================================\n",
      "Omnibus:                        1.506   Durbin-Watson:                   2.029\n",
      "Prob(Omnibus):                  0.471   Jarque-Bera (JB):                1.404\n",
      "Skew:                           0.017   Prob(JB):                        0.496\n",
      "Kurtosis:                       2.726   Cond. No.                         21.7\n",
      "==============================================================================\n",
      "\n",
      "Notes:\n",
      "[1] R² is computed without centering (uncentered) since the model does not contain a constant.\n",
      "[2] Standard Errors assume that the covariance matrix of the errors is correctly specified.\n"
     ]
    }
   ],
   "source": [
    "scaler = preprocessing.StandardScaler()\n",
    "\n",
    "# standardization of dependent variables\n",
    "diabetes_scaled = scaler.fit_transform(diabetes_input) \n",
    "diabetes_target_scaled = scaler.fit_transform(diabetes_target)\n",
    "\n",
    "new_model = sm.OLS(diabetes_target_scaled,diabetes_scaled).fit()\n",
    "print(new_model.summary())"
   ]
  },
  {
   "cell_type": "markdown",
   "metadata": {},
   "source": [
    "                        non-standardized:                standardized\n",
    "\n",
    "    Adj. R-squared:         0.896                            0.518         \n",
    "\n",
    "    F statistic prob:       2.76e-205                        2.68e-62       \n",
    "\n",
    "The most significant difference we observe is in the standard errors and the coefficients. In the standarized data, the standard error has decreased significantly in SEX, S4 and S5, as well as all the coefficients. Overall, we see a more homogeneous data. Almost every values have less p values after standardized\n",
    "\n",
    "One of the reasons of this is that the standarization is transforming the units of the regression coefficients so that standardization makes the variables be in the same scale."
   ]
  },
  {
   "cell_type": "markdown",
   "metadata": {},
   "source": [
    "------------------------------------------------"
   ]
  },
  {
   "cell_type": "markdown",
   "metadata": {},
   "source": [
    "#### 3. Data transformation"
   ]
  },
  {
   "cell_type": "markdown",
   "metadata": {},
   "source": [
    "_a. One of the important assumptions of linear regression is that the model\n",
    "residuals are normally distributed. There are some data transformation techniques to fix the issue of non-normality of model residuals, such as the Box-Cox transformation. Explain how this technique works. State one of the benefits of transforming non-normal variables into a normal shape. (2P)_"
   ]
  },
  {
   "cell_type": "markdown",
   "metadata": {},
   "source": [
    "The Box-Cox transformation transforms our data so that it closely resembles a normal distribution. That way, if your data isn’t normal, applying a Box-Cox means that you are able to run a broader number of tests.\n",
    "\n",
    "Box-Cox Transformation converts non-normal data to normal data by raising the distribution to a power of lambda (λ). The algorithm can automatically decide the lambda (λ) parameter that best transforms the distribution into normal distribution. The lambda (λ) parameter has a range of -5 < λ < 5.\n",
    "\n",
    "\n",
    "The main benefit is the fact of achieving real and truthful conclusions when performing tests on the data. The errors after modeling should be normal to draw a valid conclusion by hypothesis testing."
   ]
  },
  {
   "cell_type": "markdown",
   "metadata": {},
   "source": [
    "------------------------------------------------"
   ]
  },
  {
   "cell_type": "markdown",
   "metadata": {},
   "source": [
    "#### 4. Confounding variables"
   ]
  },
  {
   "cell_type": "markdown",
   "metadata": {},
   "source": [
    "_a. The presence of confounding variables affects the variables being studied,\n",
    "which causes the result to not reflect the actual relationship between the variables. Read this article to learn more about confounding variables: https://www.ncbi.nlm.nih.gov/pmc/articles/PMC4017459/. (1P)_"
   ]
  },
  {
   "cell_type": "markdown",
   "metadata": {},
   "source": [
    "_b. Briefly describe how would you use linear regression to adjust for the confounding effects of age and gender in the Diabetes dataset. (1P)_"
   ]
  },
  {
   "cell_type": "markdown",
   "metadata": {},
   "source": [
    "Regression analysis describes how the changes in each independent variable are related to changes in the dependent variable. When you perform regression analysis, you need to isolate the role of each variable.\n",
    "\n",
    "To accomplish this goal, you must minimize the effect of confounding variables. Regression analysis does this by estimating the effect that changing one independent variable has on the dependent variable while holding all the other independent variables constant.\n",
    "\n",
    "Age and gender are frequent confounders, so an adjustment is needed in order to avoid these confounding effects. \n",
    "\n",
    "Adjustment for age or gender involves a computational procedure to mimic a situation in which the men and women in the data set were of the same age or gender. This computation eliminates the influence of age/gender on the treatment effect.\n",
    "\n",
    "Therefore, a multivariable regression analysis allows the study of multiple independent variables at the same time, with adjustment of their regression coefficients for possible confounding effects between variables."
   ]
  },
  {
   "cell_type": "markdown",
   "metadata": {},
   "source": [
    "------------------------------------------------"
   ]
  },
  {
   "cell_type": "markdown",
   "metadata": {},
   "source": [
    "ex3))"
   ]
  },
  {
   "cell_type": "markdown",
   "metadata": {},
   "source": [
    "------------------------------------------------"
   ]
  },
  {
   "cell_type": "code",
   "execution_count": 10,
   "metadata": {},
   "outputs": [],
   "source": [
    "import pandas as pd\n",
    "import matplotlib.pyplot as plt\n",
    "import seaborn as sns\n",
    "import numpy as np\n",
    "import statsmodels.api as sm"
   ]
  },
  {
   "cell_type": "code",
   "execution_count": 11,
   "metadata": {},
   "outputs": [
    {
     "data": {
      "text/html": [
       "<div>\n",
       "<style scoped>\n",
       "    .dataframe tbody tr th:only-of-type {\n",
       "        vertical-align: middle;\n",
       "    }\n",
       "\n",
       "    .dataframe tbody tr th {\n",
       "        vertical-align: top;\n",
       "    }\n",
       "\n",
       "    .dataframe thead th {\n",
       "        text-align: right;\n",
       "    }\n",
       "</style>\n",
       "<table border=\"1\" class=\"dataframe\">\n",
       "  <thead>\n",
       "    <tr style=\"text-align: right;\">\n",
       "      <th></th>\n",
       "      <th>Unnamed: 0</th>\n",
       "      <th>0</th>\n",
       "      <th>1</th>\n",
       "      <th>2</th>\n",
       "      <th>3</th>\n",
       "      <th>4</th>\n",
       "      <th>5</th>\n",
       "      <th>6</th>\n",
       "      <th>7</th>\n",
       "      <th>8</th>\n",
       "      <th>9</th>\n",
       "    </tr>\n",
       "  </thead>\n",
       "  <tbody>\n",
       "    <tr>\n",
       "      <th>0</th>\n",
       "      <td>0</td>\n",
       "      <td>-47.917424</td>\n",
       "      <td>1.356240</td>\n",
       "      <td>0.744463</td>\n",
       "      <td>-0.645120</td>\n",
       "      <td>-0.454320</td>\n",
       "      <td>0.361636</td>\n",
       "      <td>-1.196207</td>\n",
       "      <td>0.812526</td>\n",
       "      <td>-0.185659</td>\n",
       "      <td>-1.106335</td>\n",
       "    </tr>\n",
       "    <tr>\n",
       "      <th>1</th>\n",
       "      <td>1</td>\n",
       "      <td>146.564877</td>\n",
       "      <td>0.110923</td>\n",
       "      <td>0.264041</td>\n",
       "      <td>-0.291694</td>\n",
       "      <td>0.507493</td>\n",
       "      <td>-0.600639</td>\n",
       "      <td>-1.424748</td>\n",
       "      <td>-0.544383</td>\n",
       "      <td>-0.225776</td>\n",
       "      <td>0.067528</td>\n",
       "    </tr>\n",
       "    <tr>\n",
       "      <th>2</th>\n",
       "      <td>2</td>\n",
       "      <td>-21.967189</td>\n",
       "      <td>-0.501757</td>\n",
       "      <td>-0.383730</td>\n",
       "      <td>0.513267</td>\n",
       "      <td>0.578153</td>\n",
       "      <td>-0.529760</td>\n",
       "      <td>-0.518270</td>\n",
       "      <td>-0.808494</td>\n",
       "      <td>0.357113</td>\n",
       "      <td>1.477894</td>\n",
       "    </tr>\n",
       "    <tr>\n",
       "      <th>3</th>\n",
       "      <td>3</td>\n",
       "      <td>32.408397</td>\n",
       "      <td>0.931280</td>\n",
       "      <td>-0.670939</td>\n",
       "      <td>0.975545</td>\n",
       "      <td>-0.713919</td>\n",
       "      <td>0.331263</td>\n",
       "      <td>0.611676</td>\n",
       "      <td>1.031000</td>\n",
       "      <td>-0.385082</td>\n",
       "      <td>-0.676922</td>\n",
       "    </tr>\n",
       "    <tr>\n",
       "      <th>4</th>\n",
       "      <td>4</td>\n",
       "      <td>73.846658</td>\n",
       "      <td>-0.719844</td>\n",
       "      <td>1.716209</td>\n",
       "      <td>-1.763040</td>\n",
       "      <td>-0.688602</td>\n",
       "      <td>0.343618</td>\n",
       "      <td>-0.301104</td>\n",
       "      <td>-1.478522</td>\n",
       "      <td>0.171368</td>\n",
       "      <td>-0.115648</td>\n",
       "    </tr>\n",
       "  </tbody>\n",
       "</table>\n",
       "</div>"
      ],
      "text/plain": [
       "   Unnamed: 0           0         1         2         3         4         5  \\\n",
       "0           0  -47.917424  1.356240  0.744463 -0.645120 -0.454320  0.361636   \n",
       "1           1  146.564877  0.110923  0.264041 -0.291694  0.507493 -0.600639   \n",
       "2           2  -21.967189 -0.501757 -0.383730  0.513267  0.578153 -0.529760   \n",
       "3           3   32.408397  0.931280 -0.670939  0.975545 -0.713919  0.331263   \n",
       "4           4   73.846658 -0.719844  1.716209 -1.763040 -0.688602  0.343618   \n",
       "\n",
       "          6         7         8         9  \n",
       "0 -1.196207  0.812526 -0.185659 -1.106335  \n",
       "1 -1.424748 -0.544383 -0.225776  0.067528  \n",
       "2 -0.518270 -0.808494  0.357113  1.477894  \n",
       "3  0.611676  1.031000 -0.385082 -0.676922  \n",
       "4 -0.301104 -1.478522  0.171368 -0.115648  "
      ]
     },
     "execution_count": 11,
     "metadata": {},
     "output_type": "execute_result"
    }
   ],
   "source": [
    "dataset = pd.read_csv(\"mlr_vma.csv\",sep=';')\n",
    "dataset.head()"
   ]
  },
  {
   "cell_type": "markdown",
   "metadata": {},
   "source": [
    "------------------------------------------------"
   ]
  },
  {
   "cell_type": "markdown",
   "metadata": {},
   "source": [
    "1))"
   ]
  },
  {
   "cell_type": "markdown",
   "metadata": {},
   "source": [
    "------------------------------------------------"
   ]
  },
  {
   "cell_type": "markdown",
   "metadata": {},
   "source": [
    "There are three assumptions of linear regression\n",
    "\n",
    "1- Model residuals are normally distributed\n",
    "\n",
    "2- p < n (fewer regressors/variable/feature than data points/observation) \n",
    "\n",
    "3- no collinearities"
   ]
  },
  {
   "cell_type": "markdown",
   "metadata": {},
   "source": [
    "------------------------------------------------"
   ]
  },
  {
   "cell_type": "markdown",
   "metadata": {},
   "source": [
    "2))"
   ]
  },
  {
   "cell_type": "markdown",
   "metadata": {},
   "source": [
    "------------------------------------------------"
   ]
  },
  {
   "cell_type": "markdown",
   "metadata": {},
   "source": [
    "a)"
   ]
  },
  {
   "cell_type": "code",
   "execution_count": 12,
   "metadata": {},
   "outputs": [
    {
     "name": "stdout",
     "output_type": "stream",
     "text": [
      "[[ 1.          0.12497988  0.05908911 -0.07497015 -0.32934373  0.26737311\n",
      "   0.27464886 -0.2414412  -0.2576009   0.04065293]\n",
      " [ 0.12497988  1.          0.15025429 -0.05293082 -0.49916974  0.53704704\n",
      "   0.25569712  0.11354459 -0.36369279 -0.33602962]\n",
      " [ 0.05908911  0.15025429  1.         -0.99024272 -0.19537037  0.24703481\n",
      "  -0.02821149 -0.78376515  0.13370814 -0.15894425]\n",
      " [-0.07497015 -0.05293082 -0.99024272  1.          0.1608018  -0.2107795\n",
      "   0.09833535  0.76700661 -0.15910737  0.16973281]\n",
      " [-0.32934373 -0.49916974 -0.19537037  0.1608018   1.         -0.98408529\n",
      "  -0.49015468 -0.01742893  0.21221458  0.54270776]\n",
      " [ 0.26737311  0.53704704  0.24703481 -0.2107795  -0.98408529  1.\n",
      "   0.40281321 -0.02598373 -0.24641039 -0.53187612]\n",
      " [ 0.27464886  0.25569712 -0.02821149  0.09833535 -0.49015468  0.40281321\n",
      "   1.         -0.16696175  0.21788207  0.09197533]\n",
      " [-0.2414412   0.11354459 -0.78376515  0.76700661 -0.01742893 -0.02598373\n",
      "  -0.16696175  1.         -0.13744055 -0.3758909 ]\n",
      " [-0.2576009  -0.36369279  0.13370814 -0.15910737  0.21221458 -0.24641039\n",
      "   0.21788207 -0.13744055  1.          0.0130826 ]\n",
      " [ 0.04065293 -0.33602962 -0.15894425  0.16973281  0.54270776 -0.53187612\n",
      "   0.09197533 -0.3758909   0.0130826   1.        ]]\n"
     ]
    }
   ],
   "source": [
    "df = pd.DataFrame(dataset.iloc[:, 1:])\n",
    "R1 = np.corrcoef(df, rowvar=False)\n",
    "print(R1)"
   ]
  },
  {
   "cell_type": "code",
   "execution_count": 13,
   "metadata": {},
   "outputs": [
    {
     "data": {
      "image/png": "[encoded data removed]",
      "text/plain": [
       "<Figure size 576x576 with 2 Axes>"
      ]
     },
     "metadata": {
      "needs_background": "light"
     },
     "output_type": "display_data"
    }
   ],
   "source": [
    "plt.figure(figsize=(8, 8))\n",
    "spearman_heatmap = sns.heatmap(df.corr(method = 'pearson'), vmin=-1, vmax=1, annot=True)\n",
    "spearman_heatmap.set_title('pearson correlation heatmap');"
   ]
  },
  {
   "cell_type": "markdown",
   "metadata": {},
   "source": [
    "b)"
   ]
  },
  {
   "cell_type": "code",
   "execution_count": 14,
   "metadata": {},
   "outputs": [
    {
     "name": "stdout",
     "output_type": "stream",
     "text": [
      "0.47318804264068604\n"
     ]
    }
   ],
   "source": [
    "from scipy.stats import shapiro\n",
    "\n",
    "df = pd.DataFrame(dataset.iloc[:, 1:])\n",
    "\n",
    "test_df = np.random.normal(loc=20, scale=5, size=(10, 10))\n",
    "stat, p = shapiro(test_df)\n",
    "print(p)"
   ]
  },
  {
   "cell_type": "markdown",
   "metadata": {},
   "source": [
    "0-\n",
    "\n",
    "p > 0.05 so it is normally distributed\n",
    "\n",
    "1- \n",
    "\n",
    "p = n (regressors/variable/feature = data points/observation) \n",
    "\n",
    "but should be p < n   -> this assumption is violated \n",
    "\n",
    "2-\n",
    "\n",
    "there is colinearities between 2 and 3 (-0.99)\n",
    "\n",
    "but should be no collinearities   -> this assumption is violated "
   ]
  },
  {
   "cell_type": "markdown",
   "metadata": {},
   "source": [
    "c)"
   ]
  },
  {
   "cell_type": "code",
   "execution_count": 15,
   "metadata": {},
   "outputs": [
    {
     "data": {
      "text/html": [
       "<div>\n",
       "<style scoped>\n",
       "    .dataframe tbody tr th:only-of-type {\n",
       "        vertical-align: middle;\n",
       "    }\n",
       "\n",
       "    .dataframe tbody tr th {\n",
       "        vertical-align: top;\n",
       "    }\n",
       "\n",
       "    .dataframe thead th {\n",
       "        text-align: right;\n",
       "    }\n",
       "</style>\n",
       "<table border=\"1\" class=\"dataframe\">\n",
       "  <thead>\n",
       "    <tr style=\"text-align: right;\">\n",
       "      <th></th>\n",
       "      <th>0</th>\n",
       "      <th>1</th>\n",
       "      <th>2</th>\n",
       "      <th>3</th>\n",
       "      <th>4</th>\n",
       "      <th>5</th>\n",
       "      <th>6</th>\n",
       "      <th>7</th>\n",
       "      <th>8</th>\n",
       "      <th>9</th>\n",
       "    </tr>\n",
       "  </thead>\n",
       "  <tbody>\n",
       "    <tr>\n",
       "      <th>0</th>\n",
       "      <td>-47.917424</td>\n",
       "      <td>1.356240</td>\n",
       "      <td>0.744463</td>\n",
       "      <td>-0.645120</td>\n",
       "      <td>-0.454320</td>\n",
       "      <td>0.361636</td>\n",
       "      <td>-1.196207</td>\n",
       "      <td>0.812526</td>\n",
       "      <td>-0.185659</td>\n",
       "      <td>-1.106335</td>\n",
       "    </tr>\n",
       "    <tr>\n",
       "      <th>1</th>\n",
       "      <td>146.564877</td>\n",
       "      <td>0.110923</td>\n",
       "      <td>0.264041</td>\n",
       "      <td>-0.291694</td>\n",
       "      <td>0.507493</td>\n",
       "      <td>-0.600639</td>\n",
       "      <td>-1.424748</td>\n",
       "      <td>-0.544383</td>\n",
       "      <td>-0.225776</td>\n",
       "      <td>0.067528</td>\n",
       "    </tr>\n",
       "    <tr>\n",
       "      <th>2</th>\n",
       "      <td>-21.967189</td>\n",
       "      <td>-0.501757</td>\n",
       "      <td>-0.383730</td>\n",
       "      <td>0.513267</td>\n",
       "      <td>0.578153</td>\n",
       "      <td>-0.529760</td>\n",
       "      <td>-0.518270</td>\n",
       "      <td>-0.808494</td>\n",
       "      <td>0.357113</td>\n",
       "      <td>1.477894</td>\n",
       "    </tr>\n",
       "    <tr>\n",
       "      <th>3</th>\n",
       "      <td>32.408397</td>\n",
       "      <td>0.931280</td>\n",
       "      <td>-0.670939</td>\n",
       "      <td>0.975545</td>\n",
       "      <td>-0.713919</td>\n",
       "      <td>0.331263</td>\n",
       "      <td>0.611676</td>\n",
       "      <td>1.031000</td>\n",
       "      <td>-0.385082</td>\n",
       "      <td>-0.676922</td>\n",
       "    </tr>\n",
       "    <tr>\n",
       "      <th>4</th>\n",
       "      <td>73.846658</td>\n",
       "      <td>-0.719844</td>\n",
       "      <td>1.716209</td>\n",
       "      <td>-1.763040</td>\n",
       "      <td>-0.688602</td>\n",
       "      <td>0.343618</td>\n",
       "      <td>-0.301104</td>\n",
       "      <td>-1.478522</td>\n",
       "      <td>0.171368</td>\n",
       "      <td>-0.115648</td>\n",
       "    </tr>\n",
       "    <tr>\n",
       "      <th>5</th>\n",
       "      <td>-60.170661</td>\n",
       "      <td>-1.220844</td>\n",
       "      <td>-0.243689</td>\n",
       "      <td>0.196861</td>\n",
       "      <td>1.215729</td>\n",
       "      <td>-1.328186</td>\n",
       "      <td>-1.057711</td>\n",
       "      <td>0.822545</td>\n",
       "      <td>1.852278</td>\n",
       "      <td>-0.013497</td>\n",
       "    </tr>\n",
       "    <tr>\n",
       "      <th>6</th>\n",
       "      <td>36.139561</td>\n",
       "      <td>0.821903</td>\n",
       "      <td>2.303411</td>\n",
       "      <td>-1.987569</td>\n",
       "      <td>-0.294327</td>\n",
       "      <td>0.091761</td>\n",
       "      <td>1.564644</td>\n",
       "      <td>-2.619745</td>\n",
       "      <td>1.538037</td>\n",
       "      <td>-0.035826</td>\n",
       "    </tr>\n",
       "    <tr>\n",
       "      <th>7</th>\n",
       "      <td>-46.341769</td>\n",
       "      <td>-0.562288</td>\n",
       "      <td>1.565791</td>\n",
       "      <td>-1.412304</td>\n",
       "      <td>0.970874</td>\n",
       "      <td>-0.908024</td>\n",
       "      <td>-1.913280</td>\n",
       "      <td>-1.724918</td>\n",
       "      <td>-0.465730</td>\n",
       "      <td>0.241962</td>\n",
       "    </tr>\n",
       "    <tr>\n",
       "      <th>8</th>\n",
       "      <td>9.707755</td>\n",
       "      <td>-1.463515</td>\n",
       "      <td>0.140692</td>\n",
       "      <td>-0.234587</td>\n",
       "      <td>-0.186718</td>\n",
       "      <td>0.005113</td>\n",
       "      <td>-0.327662</td>\n",
       "      <td>-0.392108</td>\n",
       "      <td>0.968645</td>\n",
       "      <td>-0.702053</td>\n",
       "    </tr>\n",
       "    <tr>\n",
       "      <th>9</th>\n",
       "      <td>49.671415</td>\n",
       "      <td>-0.234137</td>\n",
       "      <td>-0.434048</td>\n",
       "      <td>0.542560</td>\n",
       "      <td>0.187014</td>\n",
       "      <td>-0.469474</td>\n",
       "      <td>1.523030</td>\n",
       "      <td>-0.234153</td>\n",
       "      <td>-0.138264</td>\n",
       "      <td>0.647689</td>\n",
       "    </tr>\n",
       "  </tbody>\n",
       "</table>\n",
       "</div>"
      ],
      "text/plain": [
       "            0         1         2         3         4         5         6  \\\n",
       "0  -47.917424  1.356240  0.744463 -0.645120 -0.454320  0.361636 -1.196207   \n",
       "1  146.564877  0.110923  0.264041 -0.291694  0.507493 -0.600639 -1.424748   \n",
       "2  -21.967189 -0.501757 -0.383730  0.513267  0.578153 -0.529760 -0.518270   \n",
       "3   32.408397  0.931280 -0.670939  0.975545 -0.713919  0.331263  0.611676   \n",
       "4   73.846658 -0.719844  1.716209 -1.763040 -0.688602  0.343618 -0.301104   \n",
       "5  -60.170661 -1.220844 -0.243689  0.196861  1.215729 -1.328186 -1.057711   \n",
       "6   36.139561  0.821903  2.303411 -1.987569 -0.294327  0.091761  1.564644   \n",
       "7  -46.341769 -0.562288  1.565791 -1.412304  0.970874 -0.908024 -1.913280   \n",
       "8    9.707755 -1.463515  0.140692 -0.234587 -0.186718  0.005113 -0.327662   \n",
       "9   49.671415 -0.234137 -0.434048  0.542560  0.187014 -0.469474  1.523030   \n",
       "\n",
       "          7         8         9  \n",
       "0  0.812526 -0.185659 -1.106335  \n",
       "1 -0.544383 -0.225776  0.067528  \n",
       "2 -0.808494  0.357113  1.477894  \n",
       "3  1.031000 -0.385082 -0.676922  \n",
       "4 -1.478522  0.171368 -0.115648  \n",
       "5  0.822545  1.852278 -0.013497  \n",
       "6 -2.619745  1.538037 -0.035826  \n",
       "7 -1.724918 -0.465730  0.241962  \n",
       "8 -0.392108  0.968645 -0.702053  \n",
       "9 -0.234153 -0.138264  0.647689  "
      ]
     },
     "execution_count": 15,
     "metadata": {},
     "output_type": "execute_result"
    }
   ],
   "source": [
    "df"
   ]
  },
  {
   "cell_type": "code",
   "execution_count": 16,
   "metadata": {},
   "outputs": [],
   "source": [
    "df = df.drop(['3', '5'], axis=1)"
   ]
  },
  {
   "cell_type": "markdown",
   "metadata": {},
   "source": [
    "columns 2 and 3 are colinear, columns 4 and 5 are colinears, \n",
    "\n",
    "so discarded col 3 and 5 not to be colinear"
   ]
  },
  {
   "cell_type": "code",
   "execution_count": 17,
   "metadata": {},
   "outputs": [
    {
     "data": {
      "text/plain": [
       "(10, 8)"
      ]
     },
     "execution_count": 17,
     "metadata": {},
     "output_type": "execute_result"
    }
   ],
   "source": [
    "df.shape"
   ]
  },
  {
   "cell_type": "markdown",
   "metadata": {},
   "source": [
    "n: 10 observations > p: 8 features\n",
    "\n",
    "so p < n holds"
   ]
  },
  {
   "cell_type": "code",
   "execution_count": 18,
   "metadata": {},
   "outputs": [
    {
     "data": {
      "image/png": "[encoded data removed]",
      "text/plain": [
       "<Figure size 576x576 with 2 Axes>"
      ]
     },
     "metadata": {
      "needs_background": "light"
     },
     "output_type": "display_data"
    }
   ],
   "source": [
    "plt.figure(figsize=(8, 8))\n",
    "spearman_heatmap = sns.heatmap(df.corr(method = 'pearson'), vmin=-1, vmax=1, annot=True)\n",
    "spearman_heatmap.set_title('pearson correlation heatmap');"
   ]
  },
  {
   "cell_type": "markdown",
   "metadata": {},
   "source": [
    "------------------------------------------------"
   ]
  },
  {
   "cell_type": "markdown",
   "metadata": {},
   "source": [
    "3))"
   ]
  },
  {
   "cell_type": "markdown",
   "metadata": {},
   "source": [
    "------------------------------------------------"
   ]
  },
  {
   "cell_type": "code",
   "execution_count": 19,
   "metadata": {},
   "outputs": [
    {
     "data": {
      "text/html": [
       "<div>\n",
       "<style scoped>\n",
       "    .dataframe tbody tr th:only-of-type {\n",
       "        vertical-align: middle;\n",
       "    }\n",
       "\n",
       "    .dataframe tbody tr th {\n",
       "        vertical-align: top;\n",
       "    }\n",
       "\n",
       "    .dataframe thead th {\n",
       "        text-align: right;\n",
       "    }\n",
       "</style>\n",
       "<table border=\"1\" class=\"dataframe\">\n",
       "  <thead>\n",
       "    <tr style=\"text-align: right;\">\n",
       "      <th></th>\n",
       "      <th>y</th>\n",
       "    </tr>\n",
       "  </thead>\n",
       "  <tbody>\n",
       "    <tr>\n",
       "      <th>0</th>\n",
       "      <td>-37.395291</td>\n",
       "    </tr>\n",
       "    <tr>\n",
       "      <th>1</th>\n",
       "      <td>57.080023</td>\n",
       "    </tr>\n",
       "    <tr>\n",
       "      <th>2</th>\n",
       "      <td>15.940968</td>\n",
       "    </tr>\n",
       "    <tr>\n",
       "      <th>3</th>\n",
       "      <td>-2.437328</td>\n",
       "    </tr>\n",
       "    <tr>\n",
       "      <th>4</th>\n",
       "      <td>32.772880</td>\n",
       "    </tr>\n",
       "  </tbody>\n",
       "</table>\n",
       "</div>"
      ],
      "text/plain": [
       "           y\n",
       "0 -37.395291\n",
       "1  57.080023\n",
       "2  15.940968\n",
       "3  -2.437328\n",
       "4  32.772880"
      ]
     },
     "execution_count": 19,
     "metadata": {},
     "output_type": "execute_result"
    }
   ],
   "source": [
    "dataset2 = pd.read_csv(\"y_mlr_vma.csv\",sep=';')\n",
    "df2 = pd.DataFrame(dataset2.iloc[:, 1:])\n",
    "df2.head()"
   ]
  },
  {
   "cell_type": "code",
   "execution_count": 20,
   "metadata": {},
   "outputs": [],
   "source": [
    "x = sm.add_constant(df)\n",
    "\n",
    "result = sm.OLS(df2, x).fit()"
   ]
  },
  {
   "cell_type": "markdown",
   "metadata": {},
   "source": [
    "d)"
   ]
  },
  {
   "cell_type": "code",
   "execution_count": 21,
   "metadata": {},
   "outputs": [
    {
     "name": "stdout",
     "output_type": "stream",
     "text": [
      "                            OLS Regression Results                            \n",
      "==============================================================================\n",
      "Dep. Variable:                      y   R-squared:                       1.000\n",
      "Model:                            OLS   Adj. R-squared:                  1.000\n",
      "Method:                 Least Squares   F-statistic:                 3.070e+04\n",
      "Date:                Tue, 03 May 2022   Prob (F-statistic):            0.00441\n",
      "Time:                        22:49:39   Log-Likelihood:                 14.388\n",
      "No. Observations:                  10   AIC:                            -10.78\n",
      "Df Residuals:                       1   BIC:                            -8.053\n",
      "Df Model:                           8                                         \n",
      "Covariance Type:            nonrobust                                         \n",
      "==============================================================================\n",
      "                 coef    std err          t      P>|t|      [0.025      0.975]\n",
      "------------------------------------------------------------------------------\n",
      "const          0.0399      0.078      0.514      0.698      -0.946       1.026\n",
      "0              0.4180      0.001    356.763      0.002       0.403       0.433\n",
      "1              0.0803      0.096      0.838      0.556      -1.137       1.298\n",
      "2             -0.2476      0.207     -1.194      0.444      -2.881       2.386\n",
      "4              0.2338      0.171      1.367      0.402      -1.939       2.407\n",
      "6              0.1546      0.093      1.669      0.344      -1.022       1.332\n",
      "7             -0.1101      0.192     -0.573      0.669      -2.549       2.329\n",
      "8             21.6424      0.107    201.684      0.003      20.279      23.006\n",
      "9             11.6124      0.186     62.599      0.010       9.255      13.969\n",
      "==============================================================================\n",
      "Omnibus:                        0.491   Durbin-Watson:                   1.167\n",
      "Prob(Omnibus):                  0.782   Jarque-Bera (JB):                0.251\n",
      "Skew:                           0.329   Prob(JB):                        0.882\n",
      "Kurtosis:                       2.590   Cond. No.                         352.\n",
      "==============================================================================\n",
      "\n",
      "Notes:\n",
      "[1] Standard Errors assume that the covariance matrix of the errors is correctly specified.\n"
     ]
    },
    {
     "name": "stderr",
     "output_type": "stream",
     "text": [
      "/home/cuneyt/.local/lib/python3.8/site-packages/scipy/stats/stats.py:1541: UserWarning: kurtosistest only valid for n>=20 ... continuing anyway, n=10\n",
      "  warnings.warn(\"kurtosistest only valid for n>=20 ... continuing \"\n"
     ]
    }
   ],
   "source": [
    "print(result.summary())"
   ]
  },
  {
   "cell_type": "markdown",
   "metadata": {},
   "source": [
    "as it can be seen in the model summary, R-square and Adjusted R square values are 1.0, some of the p > 0.05 which are normally distributed, some of p < 0.05 which are correlated"
   ]
  },
  {
   "cell_type": "markdown",
   "metadata": {},
   "source": [
    "e)"
   ]
  },
  {
   "cell_type": "markdown",
   "metadata": {},
   "source": [
    "model performed well because R-squared is 1.0 which means our model explains 100.0% of the change in our ‘y’ variable accurately. F statistics probability is 0.00441% meaning that accuracy of the null hypothesis has this rate of chance. "
   ]
  },
  {
   "cell_type": "markdown",
   "metadata": {},
   "source": [
    "f)"
   ]
  },
  {
   "cell_type": "markdown",
   "metadata": {},
   "source": [
    "values 0 and 8 have p < 0.05 having significants when we apply 2c by discarding values of 3 and 5. If we do not discard colinearitis and apply n > p values, then all result.summary() gives us nothing because assumptions do not hold, so applying 2c is important to get summary results correctly"
   ]
  },
  {
   "cell_type": "markdown",
   "metadata": {},
   "source": [
    "g)"
   ]
  },
  {
   "cell_type": "markdown",
   "metadata": {},
   "source": [
    "to select informative features, we need to look at coefficients that how change in that variable affects the independent variable. Also their p values are less than 0.05 or close to 0.05\n",
    "\n",
    "(after applying 2c, discarding column 3 and 5)\n",
    "\n",
    "value: 0, coeff: 0.4180, P>|t|1: 0.002\n",
    "\n",
    "value: 8, coeff: 21.6424, P>|t|1: 0.003\n",
    "\n",
    "value: 9, coeff:11.6124, P>|t|1: 0.010\n",
    "\n",
    "so these 3 columns (0, 8 and 9) are most informative ones, rest can be considered as noise. "
   ]
  },
  {
   "cell_type": "markdown",
   "metadata": {},
   "source": [
    "------------------------------------------------"
   ]
  },
  {
   "cell_type": "code",
   "execution_count": null,
   "metadata": {},
   "outputs": [],
   "source": []
  }
 ],
 "metadata": {
  "interpreter": {
   "hash": "916dbcbb3f70747c44a77c7bcd40155683ae19c65e1c03b4aa3499c5328201f1"
  },
  "kernelspec": {
   "display_name": "Python 3.8.10 64-bit",
   "language": "python",
   "name": "python3"
  },
  "language_info": {
   "codemirror_mode": {
    "name": "ipython",
    "version": 3
   },
   "file_extension": ".py",
   "mimetype": "text/x-python",
   "name": "python",
   "nbconvert_exporter": "python",
   "pygments_lexer": "ipython3",
   "version": "3.8.10"
  },
  "orig_nbformat": 4
 },
 "nbformat": 4,
 "nbformat_minor": 2
}
