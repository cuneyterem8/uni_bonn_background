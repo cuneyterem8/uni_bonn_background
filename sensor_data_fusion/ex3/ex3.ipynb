{
 "cells": [
  {
   "cell_type": "markdown",
   "metadata": {},
   "source": [
    "## PRACTICAL PART"
   ]
  },
  {
   "cell_type": "code",
   "execution_count": 1,
   "metadata": {},
   "outputs": [
    {
     "data": {
      "image/png": "[encoded data removed]",
      "text/plain": [
       "<Figure size 432x288 with 1 Axes>"
      ]
     },
     "metadata": {
      "needs_background": "light"
     },
     "output_type": "display_data"
    }
   ],
   "source": [
    "import numpy as np\n",
    "import matplotlib.pyplot as plt\n",
    "\n",
    "class KalmanFilter(object):\n",
    "    def __init__(self, F = 0, H = 0, D = 0, R = 0, P = 0, x0 = 0):\n",
    "        self.F = F\n",
    "        self.H = H\n",
    "        self.D = np.eye(F.shape[1]) if D is 0 else D\n",
    "        self.R = np.eye(F.shape[1]) if R is 0 else R\n",
    "        self.P = np.eye(F.shape[1]) if P is 0 else P\n",
    "        self.x = np.zeros((F.shape[1], 1)) if x0 is 0 else x0\n",
    "\n",
    "    def prediction(self):\n",
    "        self.x = np.dot(self.F, self.x)\n",
    "        self.P = np.dot(np.dot(self.F, self.P), self.F.T) + self.D\n",
    "        return self.x\n",
    "\n",
    "    def filtering(self, z):\n",
    "        v = z - np.dot(self.H, self.x)\n",
    "        S = np.dot(self.H, np.dot(self.P, self.H.T)) + self.R\n",
    "        W = np.dot(np.dot(self.P, self.H.T), np.linalg.inv(S))\n",
    "        self.x = self.x + np.dot(W, v)\n",
    "        I = np.eye(self.F.shape[1])\n",
    "        self.P = np.dot(np.dot(I - np.dot(W, self.H), self.P), (I - np.dot(W, self.H)).T) + np.dot(np.dot(W, self.R), W.T)\n",
    "\n",
    "def run():\n",
    "\tdelta_t = 2.0/60\n",
    "\tF = np.array([[1, delta_t, 1/2*delta_t**2], \n",
    "                  [0, 1, delta_t], \n",
    "                  [0, 0, 1]])\n",
    "\tH = np.array([1, 0, 0]).reshape(1, 3)\n",
    "\tD = np.array([[1/4*delta_t**4, 1/2*delta_t**3, 1/2*delta_t**2], \n",
    "                  [1/2*delta_t**3, delta_t**2, delta_t], \n",
    "                  [1/2*delta_t**2, delta_t, 1]])\n",
    "\tR = np.array([0.5]).reshape(1, 1)\n",
    "    \n",
    "\tx = np.linspace(-10, 10, 100)\n",
    "\tmeasurements = x*x + np.random.normal(0, 2, 100)\n",
    "\n",
    "\tkalman = KalmanFilter(F = F, H = H, D = D, R = R)\n",
    "\tpredictions = []\n",
    "\tfilterings = []\n",
    "    \n",
    "\tfor z in measurements:\n",
    "\t\tpredictions.append(np.dot(H,  kalman.prediction())[0])\n",
    "\t\tkalman.filtering(z)\n",
    "\t\tfilterings.append(kalman.x[0])\n",
    "    \n",
    "\tplt.plot(range(len(measurements)), measurements, label = 'measurements')\n",
    "\tplt.plot(range(len(predictions)), np.array(predictions), label = 'kalman filter predictions')\n",
    "\tplt.plot(range(len(filterings)), np.array(filterings), label = 'kalman filter filterings')\n",
    "\tplt.legend()\n",
    "\tplt.show()\n",
    "\n",
    "if __name__ == '__main__':\n",
    "    run()"
   ]
  },
  {
   "cell_type": "markdown",
   "metadata": {},
   "source": [
    "Here kalman Filter has x = [position, velocity] that takes plot for the x^2 function. It shows the measurements with small noise, then apply prediction step then filtering step by updating x and p as for the Piecewise Constant White Acceleration Model, yet gives smooter results"
   ]
  },
  {
   "cell_type": "markdown",
   "metadata": {},
   "source": [
    "## THEORITICAL PART"
   ]
  },
  {
   "cell_type": "markdown",
   "metadata": {},
   "source": [
    "## 1) \n",
    "\"\n",
    "Consider the past: $l < k$ !\n",
    "\n",
    "The retrodiction densities must be calculated. In this case $p(X_l|Z^k)$.\n",
    "\n",
    "$p(X_l|Z^k)=\\int dX_{l+1}p(X_l,X_{l+1}|Z^k)=\\int dX_{l+1}p(X_l|X_{l+1},Z^k)p(X_{l+1}Z^k)$\n",
    "\n",
    "And following Bayes' theorem:\n",
    "\n",
    "$p(X_l|X_{l+1},Z^k)=p(X_l|X_{l+1},Z ^l)=\\frac{p(X_{l+1}|X_l)p(X_l|Z^l)}{\\int dX_lp(X_{l+1}|X_l)p(X_l|Z^l)}$\n",
    "\n",
    "The retrodiction update equation for $p(X_l|Z^k)$ is given by:\n",
    "\n",
    "$p(X_l|Z^k)=\\int dX_{l+1}\\frac {p(X_{l+1}|X_l)p(X_l|Z^l)}{p(X_{l+1}|Z^l)}p(X_{l+1}Z^k)$\n",
    "\n",
    "and combines the previously obtained retrodiction, filtering and prediction densities as well as the object evolution model.\n",
    "\n",
    "- Retrodictrion applies to single as well as multiple objects, to well-separated objects, object formations, and objects characterized by a more general state.\n",
    "\n",
    "- The retrodicted density for time $l$ is completely determined by the filtering density at time $l$ and the following instants of time up to the present ($l \\leq k$). Retrodiction is thus decoupled from filtering and prediction and may be switched off without affecting the tracking filter performance (e.g. in overload situations).\n",
    "\n",
    "- Accurate filtering and prediction is prerequisite to accurate retrodiction. Provided these processing steps were performed approximately optimally. the retrodiction loop provides an approximately optimal description of the past object states.\n",
    "\n",
    "- Besides making use of the underlying evolution model of the objects, retrodiction refers to no other modeling assumption. In particular, the sensor data are not reprocessed by retrodiction. \n",
    "\n",
    "- Retrodiction can provide highly precise reconstruction on object trajectory, including their velocity and acceleration histories that may contribute to object classification.\n",
    "\n",
    "- The classification of an air target as a helicopter, for example, could be based on precisely retrodicted velocity estimates equal to zero. Since such retrodiction based classifications have impact on the evolution model chosen for the future, the example illustrates in which way retrodiction results may improve available knowledge even on present and future object states.\n",
    "\"\n",
    "\n",
    "Resource: W. Koch (2014), Tracking and Sensor Data Fusion, Springer mathematical Engineering Series, page 71-72."
   ]
  },
  {
   "cell_type": "markdown",
   "metadata": {},
   "source": [
    "## 2) \n",
    "Because withing retrodiction we transform into a past state. Namely as we discussed above retrodiction can be decoupled, we can think as independent from other parts. \n",
    "\n",
    "- The retrodicted density for time $l$ is completely determined by the filtering density at time $l$ and the following instants of time up to the present ($l \\leq k$). Retrodiction is thus decoupled from filtering and prediction and may be switched off without affecting the tracking filter performance (e.g. in overload situations).\n",
    "\n",
    "Also in particular sensor data are not reprocessed by retrodiction. The retrodiction loop provides an approximately optimal description of the past object states.\n",
    "\n",
    "Resource: W. Koch (2014), Tracking and Sensor Data Fusion, Springer mathematical Engineering Series, page 71-72."
   ]
  },
  {
   "cell_type": "markdown",
   "metadata": {},
   "source": [
    "## 3)\n",
    "\"\n",
    "Above equation by using the product formula for\n",
    "Gaußians, which is $p(X_l|X_{l+1},Z^k)$ can be written as:\n",
    "\n",
    "$p(X_l|X_{l+1}, Z^l)=\\frac{N(X_{l+1};F_{l+1|x_l},D_{l+1|l})N(X_l;X_{l|l},P_{l|l})}{N(X_{l+1};X_{l+1|l},P_{l+1|l})}$\n",
    "\n",
    "$=N(X_l;h_{l|l+1}(X_{l+1}),R_{l|l+1})$\n",
    "\n",
    "Also $N(X_l;h_{l|l+1}(X_{l+1}),R_{l|l+1})$ can be interpreted in analogy to a Gaußian likelihood function with a linear measurement function $h_{l|l+1}(x_{l+1})$. For this reason a second use of the product finally yields: \n",
    "\n",
    "$p(x_l|Z^k)=\\int dx_{l+1}p(x_l|x_{l+1},Z^k)N(x_{l+1};x_{l+1|k}, P_{l+1|k})$\n",
    "$=N(x_l;x_{l|k}, P_{l|k})$\n",
    "\n",
    "\n",
    "Also under certain conditions, where Kalman filtering is applicable, the Markov transition density $p(X_{l+1}|X_{l+θ})$ is given by the Gaußian:\n",
    "\n",
    "$p(x_{l+1}|x_{l+θ})=N(x_{l+1};F_{l+1|l+θ}x_{l+θ},D_{l+1|l+θ})$ yielding as a special case of $N(X_l;h_{l|l+1}(X_{l+1}),R_{l|l+1})$\n",
    "\"\n",
    "\n",
    "Resource: W. Koch (2014), Tracking and Sensor Data Fusion, Springer mathematical Engineering Series, page 72-73."
   ]
  },
  {
   "cell_type": "markdown",
   "metadata": {
    "id": "urw5y3Vf1mCt"
   },
   "source": [
    "## 4)\n",
    "$C=(\\frac{1}{A}+\\frac{1}{B})=\\frac{AB}{A+B}$ \\\n",
    "$c=\\frac{AB}{A+B}(\\frac{a}{A}+\\frac{b}{B}=\\frac{aB+bA}{A+B})$ \\\n",
    "$N(X;a,A)N(x;b,B)=\\frac{1}{\\sqrt{2N}\\sqrt{A}}e^{\\frac{-1(x-a)^2}{2A}}\\frac{1}{\\sqrt{2N}\\sqrt{B}}e^\\frac{-1(x-b)^2}{2B}$ \\\n",
    "$=\\frac{1}{2N\\sqrt{AB}}e^{\\frac{-1}{2}(\\frac{(x-a)^2}{A}+\\frac{(x-b)^2}{B})}$ \\\n",
    "$(apply *)=\\frac{1}{2N\\sqrt{\\frac{AB}{A+B}}}e^{\\frac{-1}{2}(x-\\frac{aB+bA}{A+B})^2\\frac{A+B}{AB}}\\frac{1}{\\sqrt{2N}\\sqrt{A+B}}e^{\\frac{-1}{2}(a-b)^2\\frac{1}{A+B}}$ \\\n",
    "$=\\frac{1}{2N\\sqrt{AB}}e^{\\frac{-1}{2}(x-c)^2\\frac{1}{c}}e^{\\frac{-1}{2}(a-b)^2\\frac{1}{A+B}}$ \\\n",
    "$=N(X;c,C).N(a;b,A+B)$ (it is proven by the product formula) \\\n",
    "$(*) \\frac{B(x-a)^2+A(x-b)^2}{AB}= \\frac{(A+B)x^2-2x(aB+BA)+Ba^2+Ab^2}{AB} $ \\\n",
    "$=\\frac{(x-\\frac{aB+bA}{A+B})^2(A+B)+(a-b)^2\\frac{AB}{A+B}}{AB}$\n"
   ]
  },
  {
   "cell_type": "code",
   "execution_count": null,
   "metadata": {},
   "outputs": [],
   "source": []
  }
 ],
 "metadata": {
  "colab": {
   "collapsed_sections": [],
   "name": "SDF_exercise3_secret.ipynb",
   "provenance": []
  },
  "kernelspec": {
   "display_name": "Python 3 (ipykernel)",
   "language": "python",
   "name": "python3"
  },
  "language_info": {
   "codemirror_mode": {
    "name": "ipython",
    "version": 3
   },
   "file_extension": ".py",
   "mimetype": "text/x-python",
   "name": "python",
   "nbconvert_exporter": "python",
   "pygments_lexer": "ipython3",
   "version": "3.7.11"
  }
 },
 "nbformat": 4,
 "nbformat_minor": 1
}
