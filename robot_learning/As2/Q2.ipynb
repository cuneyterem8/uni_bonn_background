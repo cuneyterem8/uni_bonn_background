{
 "cells": [
  {
   "cell_type": "code",
   "execution_count": 3,
   "metadata": {},
   "outputs": [
    {
     "name": "stdout",
     "output_type": "stream",
     "text": [
      "Best policy:  ((3, 10, 0.35), (1, 12, 0.25), (6, 3, 0.5), (7, 50, 0.15), (4, 5, 0.6), (5, 7, 0.45), (2, 4, 0.4))\n",
      "Expected Return of best policy:  30.512462500000005\n"
     ]
    }
   ],
   "source": [
    "\n",
    "# Calculating expectation , assuming that he can attempt tasks in any order and maximum of 10 attempts\n",
    "def expectedReturn(policy,attempts):\n",
    "    if len(policy) > 0 and attempts <= 10 :  # Max number of attempts is 10 \n",
    "        # we take the next task and increase attempts\n",
    "        task = policy[0]\n",
    "                   \n",
    "        second_attempt_pass = task[1] + expectedReturn(policy[1:], attempts+2)\n",
    "        second_attempt_fail = 0 + expectedReturn(policy[1:], attempts+2)\n",
    "\n",
    "        first_attempt_pass  =      task[2]     * ( task[1] +  expectedReturn(policy[1:], attempts+1) )\n",
    "        first_attempt_fail  =  (1-task[2])     * (    0    +  (task[2]/2)*second_attempt_pass + (1-task[2]/2)*second_attempt_fail )\n",
    "        return first_attempt_pass + first_attempt_fail\n",
    "    else:\n",
    "        return 0       \n",
    "       \n",
    "#Task 2.2\n",
    "# Find expectations of Policy A and B \n",
    "tasks = [(1, 12, 0.25), (2, 4, 0.4), (3, 10, 0.35), (4, 5, 0.6), (5, 7, 0.45), (6, 3, 0.5), (7, 50, 0.15)]\n",
    "\n",
    "import itertools\n",
    "maxer = 0\n",
    "for policy in list(itertools.permutations(tasks)) :\n",
    "    #print(\"Current Policy :\",policy)\n",
    "    er = expectedReturn(policy,0)\n",
    "    if er > maxer :\n",
    "        maxer = er\n",
    "        policyC = policy\t\t\n",
    "    #print(\"Expected return of current policy :\",er )\n",
    "\n",
    "\n",
    "print(\"Best policy: \",policyC)\n",
    "print(\"Expected Return of best policy: \",maxer)\n",
    "\n",
    "# Explanation\n",
    "# The function expectedReturn models the expectation of this scenario. A student may attempt task in any order and attempt any failed task 2 times. He may have a maximum of 10 attempts \n",
    "#( following this policy )\n",
    "# Probability of passing : Expectation greater than 50% "
   ]
  },
  {
   "cell_type": "code",
   "execution_count": null,
   "metadata": {},
   "outputs": [],
   "source": []
  }
 ],
 "metadata": {
  "kernelspec": {
   "display_name": "Python 3",
   "language": "python",
   "name": "python3"
  },
  "language_info": {
   "codemirror_mode": {
    "name": "ipython",
    "version": 3
   },
   "file_extension": ".py",
   "mimetype": "text/x-python",
   "name": "python",
   "nbconvert_exporter": "python",
   "pygments_lexer": "ipython3",
   "version": "3.7.1"
  }
 },
 "nbformat": 4,
 "nbformat_minor": 2
}
