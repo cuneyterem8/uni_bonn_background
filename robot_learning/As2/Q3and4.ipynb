{
 "cells": [
  {
   "cell_type": "code",
   "execution_count": 17,
   "metadata": {},
   "outputs": [],
   "source": [
    "#Q3"
   ]
  },
  {
   "cell_type": "code",
   "execution_count": 30,
   "metadata": {},
   "outputs": [],
   "source": [
    "# Expectation Calculation\n",
    "# It is assuming that only the first non solved task will be attempted again. after that no non-solved tasks will be attempted again. hence maximum number of attempts is 8\n",
    "def expectedReturnFirstNonSolvedTask(policy,attempts,first_task_nonsolved):\n",
    "    if len(policy) > 0 and attempts <= 8 :  # Max number of attempts is 8 \n",
    "        # we take the next task and increase attempts\n",
    "        task = policy[0]\n",
    "        if  first_task_nonsolved == False:\n",
    "            second_attempt_pass = task[1] + expectedReturnFirstNonSolvedTask(policy[1:], attempts+2,True)\t\n",
    "            second_attempt_fail = 0 + expectedReturnFirstNonSolvedTask(policy[1:], attempts+2,True)\n",
    "            first_attempt_pass  =      task[2]     * ( task[1] +  expectedReturnFirstNonSolvedTask(policy[1:], attempts+1,False) )\n",
    "            first_attempt_fail  =  (1-task[2])     * (    0    +  (task[2]/2)*second_attempt_pass + (1-task[2]/2)*second_attempt_fail )         \n",
    "            return first_attempt_pass + first_attempt_fail\n",
    "        if first_task_nonsolved == True : #This means that once task has already been failed and tried. No more second tries\n",
    "            first_attempt_pass  =      task[2]     * ( task[1] +  expectedReturnFirstNonSolvedTask(policy[1:], attempts+1,True) )\n",
    "            first_attempt_fail  =  (1-task[2])     * (    0    +  expectedReturnFirstNonSolvedTask(policy[1:], attempts+1,True) )                \n",
    "            return first_attempt_pass + first_attempt_fail               \n",
    "    else:\n",
    "        return 0"
   ]
  },
  {
   "cell_type": "code",
   "execution_count": 31,
   "metadata": {},
   "outputs": [],
   "source": [
    "# Find expectations of Policy A and B \n",
    "tasks = [(1, 12, 0.25), (2, 4, 0.4), (3, 10, 0.35), (4, 5, 0.6), (5, 7, 0.45), (6, 3, 0.5), (7, 50, 0.15)]"
   ]
  },
  {
   "cell_type": "code",
   "execution_count": 32,
   "metadata": {},
   "outputs": [
    {
     "name": "stdout",
     "output_type": "stream",
     "text": [
      "Policy A:  [(1, 12, 0.25), (2, 4, 0.4), (3, 10, 0.35), (4, 5, 0.6), (5, 7, 0.45), (6, 3, 0.5), (7, 50, 0.15)]\n",
      "Expected return of policy A:  24.6665459375\n",
      "Policy B:  [(4, 5, 0.6), (6, 3, 0.5), (5, 7, 0.45), (2, 4, 0.4), (3, 10, 0.35), (1, 12, 0.25), (7, 50, 0.15)]\n",
      "Expected return of policy B:  24.497423437500004\n"
     ]
    }
   ],
   "source": [
    "policyA = tasks #Policy A, sequential order\n",
    "policyB = sorted(tasks, key=lambda task: task[2], reverse=True) # Policy B, order of increasing difficulty\n",
    "print(\"Policy A: \",policyA)\n",
    "print(\"Expected return of policy A: \",expectedReturnFirstNonSolvedTask(policyA,0,False))\n",
    "\n",
    "print(\"Policy B: \",policyB)\n",
    "print(\"Expected return of policy B: \",expectedReturnFirstNonSolvedTask(policyB,0,False))"
   ]
  },
  {
   "cell_type": "code",
   "execution_count": 33,
   "metadata": {},
   "outputs": [],
   "source": [
    "#Q4"
   ]
  },
  {
   "cell_type": "code",
   "execution_count": 34,
   "metadata": {},
   "outputs": [],
   "source": [
    "# Randomly shuffle the order of tasks to generate all policies. Check the expected return of each policy and find the best \n",
    "# Simulatıon of the iteratıon algorithms . Generating a shuffle of all polıcıes and runnıng ıt on the functıon to fınd the best\n",
    "import itertools\n",
    "maxer = 0\n",
    "for policy in list(itertools.permutations(tasks)) :\n",
    "    #print(\"Current Policy :\",policy)\n",
    "    er = expectedReturnFirstNonSolvedTask(policy,0,False)\n",
    "    if er > maxer :\n",
    "        maxer = er\n",
    "        policyC = policy"
   ]
  },
  {
   "cell_type": "code",
   "execution_count": 35,
   "metadata": {},
   "outputs": [
    {
     "name": "stdout",
     "output_type": "stream",
     "text": [
      "Improved policy C:  ((7, 50, 0.15), (3, 10, 0.35), (5, 7, 0.45), (1, 12, 0.25), (4, 5, 0.6), (2, 4, 0.4), (6, 3, 0.5))\n",
      "Expected Return of policy C:  26.6859575625\n"
     ]
    }
   ],
   "source": [
    "print(\"Improved policy C: \",policyC)\n",
    "print(\"Expected Return of policy C: \",maxer)"
   ]
  },
  {
   "cell_type": "code",
   "execution_count": null,
   "metadata": {},
   "outputs": [],
   "source": []
  }
 ],
 "metadata": {
  "kernelspec": {
   "display_name": "Python 3 (ipykernel)",
   "language": "python",
   "name": "python3"
  },
  "language_info": {
   "codemirror_mode": {
    "name": "ipython",
    "version": 3
   },
   "file_extension": ".py",
   "mimetype": "text/x-python",
   "name": "python",
   "nbconvert_exporter": "python",
   "pygments_lexer": "ipython3",
   "version": "3.7.11"
  }
 },
 "nbformat": 4,
 "nbformat_minor": 2
}
